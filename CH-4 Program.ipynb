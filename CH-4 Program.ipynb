{
 "cells": [
  {
   "cell_type": "code",
   "execution_count": 12,
   "metadata": {},
   "outputs": [
    {
     "name": "stdout",
     "output_type": "stream",
     "text": [
      "Enter the character you want to remove : 6\n",
      "Hello orld\n"
     ]
    }
   ],
   "source": [
    "#1. WAP to remove to remove ith character from string.\n",
    "s=\"Hello World\"\n",
    "a=int(input(\"Enter the character you want to remove : \"))\n",
    "s1=s[:a]\n",
    "s2=s[a+1:]\n",
    "s=s1+s2\n",
    "print(s)"
   ]
  },
  {
   "cell_type": "code",
   "execution_count": 4,
   "metadata": {},
   "outputs": [
    {
     "name": "stdout",
     "output_type": "stream",
     "text": [
      "4\n"
     ]
    }
   ],
   "source": [
    "#2. WAP to find all occurences of a sub-string in a given string by ignoring the case\n",
    "s=\"Welcome to USA .usa is awesome.Usain is from usa.\"\n",
    "print(s.lower().count(\"usa\"))\n"
   ]
  },
  {
   "cell_type": "code",
   "execution_count": 30,
   "metadata": {},
   "outputs": [
    {
     "name": "stdout",
     "output_type": "stream",
     "text": [
      "Hello# hii## BYY###\n",
      "Hello# hii## BYY###\n"
     ]
    }
   ],
   "source": [
    "#3. WAP to replace each special symbol with # in the string.\n",
    "import string\n",
    "s=\"Hello# hii$@ BYY^*%\"\n",
    "for i in string.punctuation:\n",
    "    s=s.replace(i,\"#\")\n",
    "print(s)\n",
    "\n",
    "# or\n",
    "\n",
    "for i in s:\n",
    "    if not i.isnumeric() and not i.isspace() and not i.isalpha():\n",
    "        s=s.replace(i,\"#\")\n",
    "print(s)"
   ]
  },
  {
   "cell_type": "code",
   "execution_count": 35,
   "metadata": {},
   "outputs": [
    {
     "name": "stdout",
     "output_type": "stream",
     "text": [
      "80\n",
      "10\n"
     ]
    }
   ],
   "source": [
    "#4. WAP to print maximum and minimum element in given tuple without use of min func or max func,without use of sorting.\n",
    "\n",
    "# max=0\n",
    "# min=1000\n",
    "max=t[0]\n",
    "min=t[0]\n",
    "t=(50,30,10,80)\n",
    "for i in t:\n",
    "    if i>max:\n",
    "        max=i\n",
    "    if i<min:\n",
    "        min=i\n",
    "print(max)\n",
    "print(min)"
   ]
  },
  {
   "cell_type": "code",
   "execution_count": 40,
   "metadata": {},
   "outputs": [
    {
     "name": "stdout",
     "output_type": "stream",
     "text": [
      "to\n",
      "LJ\n",
      "University\n"
     ]
    }
   ],
   "source": [
    "#5. WAP to print even length words in the string.\n",
    "s=\"Welcome to LJ University\"\n",
    "s1=s.split(\" \")\n",
    "for i in s1:\n",
    "    if len(i)%2==0:\n",
    "        print(i)"
   ]
  },
  {
   "cell_type": "code",
   "execution_count": 77,
   "metadata": {},
   "outputs": [
    {
     "name": "stdout",
     "output_type": "stream",
     "text": [
      "WelcomE TO LJ UniversitY\n"
     ]
    }
   ],
   "source": [
    "#6. WAP to capitalize first and last letter of each word.\n",
    "s=\"Welcome to LJ University\"\n",
    "s=s.title()\n",
    "result=\"\"\n",
    "for i in s.split():\n",
    "    result=result+i[:-1]+i[-1].upper()+\" \";\n",
    "print(result.rstrip()) # used rstrip because their will be one extra space at the end of string."
   ]
  },
  {
   "cell_type": "code",
   "execution_count": 10,
   "metadata": {},
   "outputs": [
    {
     "name": "stdout",
     "output_type": "stream",
     "text": [
      "Balanced\n"
     ]
    }
   ],
   "source": [
    "#7. WAP to check if 2 strings are balanced or not.\n",
    "s1=\"tejas\"\n",
    "s2=\"satejxyz\"\n",
    "flag=True\n",
    "for i in s1:\n",
    "    if s2.find(i)==-1:\n",
    "        flag=False\n",
    "        break\n",
    "if flag==True:\n",
    "    print(\"Balanced\")\n",
    "else:\n",
    "    print(\"Unbalanced\")\n"
   ]
  },
  {
   "cell_type": "code",
   "execution_count": 21,
   "metadata": {},
   "outputs": [
    {
     "name": "stdout",
     "output_type": "stream",
     "text": [
      "Enter the number : 12345\n",
      "Enter shift : 3\n",
      "45123\n"
     ]
    }
   ],
   "source": [
    "#8. WAP to shift the decimal digit  n places to left wrapping the extra digit around , if shift is greater then \n",
    "#    the number of digits then reverse digits.\n",
    "n=int(input(\"Enter the number : \"))\n",
    "shift=int(input(\"Enter shift : \"))\n",
    "s=str(n)\n",
    "if shift<=len(s):\n",
    "    s=s[shift:]+s[:shift]\n",
    "else:\n",
    "    s=s[::-1]\n",
    "print(s)"
   ]
  },
  {
   "cell_type": "code",
   "execution_count": 1,
   "metadata": {},
   "outputs": [
    {
     "name": "stdout",
     "output_type": "stream",
     "text": [
      "Enter your password : 12\n",
      "Password is not valid\n"
     ]
    }
   ],
   "source": [
    "#9. WAP to check the validity of the password:\n",
    "    # 1.Minimum 8 character\n",
    "    # 2.The alphabet must be between[a-z]\n",
    "    # 3.Atleast one alphabet should be uppercase\n",
    "    # 4.Atleast 1 number between(0-9)\n",
    "    # 5.Atleast 1 character from[_,@,$]\n",
    "password=input(\"Enter your password : \")\n",
    "c=0\n",
    "if len(password)>8 :\n",
    "    for i in password:\n",
    "        if i.isalpha():\n",
    "            if i.isupper():\n",
    "                c+=1\n",
    "            if i.islower():\n",
    "                c+=1\n",
    "        if i.isdigit():\n",
    "            c+=1\n",
    "        if i in(\"_\",\"$\",\"@\"):\n",
    "            c+=1\n",
    "    print(c)\n",
    "if c==len(password):\n",
    "    print(\"Password is valid\")\n",
    "else:\n",
    "    print(\"Password is not valid\")\n",
    "\n",
    "    "
   ]
  },
  {
   "cell_type": "code",
   "execution_count": 8,
   "metadata": {},
   "outputs": [
    {
     "name": "stdout",
     "output_type": "stream",
     "text": [
      "Enter the sub-string : a\n",
      "Found at position :  0\n",
      "Found at position :  3\n",
      "Found at position :  7\n",
      "not found\n",
      "Total occurence :  3\n"
     ]
    }
   ],
   "source": [
    "#10. WAP to display all the positions of a sub-string in a given string.\n",
    "s=\"abcabcdabxyz\"\n",
    "sub=input(\"Enter the sub-string : \")\n",
    "i=-1\n",
    "c=0\n",
    "while i!=len(s):\n",
    "    if s.find(sub,i+1)==-1:\n",
    "        print(\"not found\")\n",
    "        break\n",
    "    else:\n",
    "        print(\"Found at position : \",s.find(sub,i+1))\n",
    "        c+=1\n",
    "        i=s.find(sub,i+1)\n",
    "print(\"Total occurence : \",c)"
   ]
  },
  {
   "cell_type": "code",
   "execution_count": 7,
   "metadata": {},
   "outputs": [
    {
     "name": "stdout",
     "output_type": "stream",
     "text": [
      "Enter the string : ad7\n",
      "ad7\n"
     ]
    }
   ],
   "source": [
    "#11. WAP to short the characters of the string and the first alphabet symbols followed by numerical values.\n",
    "s=input(\"Enter the string : \")\n",
    "alpha=\"\"\n",
    "digit=\"\"\n",
    "output=\"\"\n",
    "for i in s:\n",
    "    if i.isalpha():\n",
    "            alpha=i+alpha\n",
    "    else:\n",
    "        digit=digit+i\n",
    "# print(alpha)\n",
    "# print(digit)\n",
    "for i in sorted(alpha):\n",
    "    output+=i\n",
    "for i in sorted(digit):\n",
    "    output+=i\n",
    "print(output)"
   ]
  },
  {
   "cell_type": "code",
   "execution_count": 15,
   "metadata": {},
   "outputs": [
    {
     "name": "stdout",
     "output_type": "stream",
     "text": [
      "Enter the string : a\n"
     ]
    },
    {
     "ename": "NameError",
     "evalue": "name 'j' is not defined",
     "output_type": "error",
     "traceback": [
      "\u001b[1;31m---------------------------------------------------------------------------\u001b[0m",
      "\u001b[1;31mNameError\u001b[0m                                 Traceback (most recent call last)",
      "\u001b[1;32m<ipython-input-15-08f125f6df5b>\u001b[0m in \u001b[0;36m<module>\u001b[1;34m\u001b[0m\n\u001b[0;32m     16\u001b[0m \u001b[1;32mfor\u001b[0m \u001b[0mi\u001b[0m \u001b[1;32min\u001b[0m \u001b[0msorted\u001b[0m\u001b[1;33m(\u001b[0m\u001b[0mdigit\u001b[0m\u001b[1;33m)\u001b[0m\u001b[1;33m:\u001b[0m\u001b[1;33m\u001b[0m\u001b[1;33m\u001b[0m\u001b[0m\n\u001b[0;32m     17\u001b[0m     \u001b[0moutput2\u001b[0m\u001b[1;33m+=\u001b[0m\u001b[0mi\u001b[0m\u001b[1;33m\u001b[0m\u001b[1;33m\u001b[0m\u001b[0m\n\u001b[1;32m---> 18\u001b[1;33m \u001b[0mprint\u001b[0m\u001b[1;33m(\u001b[0m\u001b[0moutput1\u001b[0m\u001b[1;33m[\u001b[0m\u001b[0mj\u001b[0m\u001b[1;33m]\u001b[0m\u001b[1;33m*\u001b[0m\u001b[0moutput2\u001b[0m\u001b[1;33m[\u001b[0m\u001b[0mj\u001b[0m\u001b[1;33m]\u001b[0m\u001b[1;33m)\u001b[0m\u001b[1;33m\u001b[0m\u001b[1;33m\u001b[0m\u001b[0m\n\u001b[0m",
      "\u001b[1;31mNameError\u001b[0m: name 'j' is not defined"
     ]
    }
   ],
   "source": [
    "#12. WAP \n",
    "s=input(\"Enter the string : \")\n",
    "alpha=\"\"\n",
    "digit=\"\"\n",
    "output1=\"\"\n",
    "output2=\"\"\n",
    "for i in s:\n",
    "    if i.isalpha():\n",
    "            alpha=i+alpha\n",
    "    else:\n",
    "        digit=digit+i\n",
    "# print(alpha)\n",
    "# print(digit)\n",
    "for i in sorted(alpha):\n",
    "    output1+=i\n",
    "for i in sorted(digit):\n",
    "    output2+=i\n",
    "print(output1[j]*output2[j])"
   ]
  },
  {
   "cell_type": "code",
   "execution_count": 22,
   "metadata": {},
   "outputs": [
    {
     "name": "stdout",
     "output_type": "stream",
     "text": [
      "aba\n",
      "2112\n",
      "123451\n",
      "Count= 3\n"
     ]
    }
   ],
   "source": [
    "#13. WAP to count number of string where the string length is 3 or more and the first and last character are same \n",
    "#     from the given string.\n",
    "l=[\"abc\",\"xyz\",\"aba\",\"2112\",\"123451\"]\n",
    "count=0\n",
    "for i in l:\n",
    "    if len(i)>=3 and i[0]==i[-1]:\n",
    "        print(i)\n",
    "        count+=1\n",
    "print(\"Count=\",count)"
   ]
  }
 ],
 "metadata": {
  "kernelspec": {
   "display_name": "Python 3",
   "language": "python",
   "name": "python3"
  },
  "language_info": {
   "codemirror_mode": {
    "name": "ipython",
    "version": 3
   },
   "file_extension": ".py",
   "mimetype": "text/x-python",
   "name": "python",
   "nbconvert_exporter": "python",
   "pygments_lexer": "ipython3",
   "version": "3.8.5"
  }
 },
 "nbformat": 4,
 "nbformat_minor": 4
}
