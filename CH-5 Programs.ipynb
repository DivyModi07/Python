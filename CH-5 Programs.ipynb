{
 "cells": [
  {
   "cell_type": "code",
   "execution_count": 1,
   "metadata": {},
   "outputs": [
    {
     "name": "stdout",
     "output_type": "stream",
     "text": [
      "{'DOG': 2, 'THE': 2, 'QUICK': 1, 'BROWN': 1, 'FOX': 1, 'JUMPS': 1, 'OVER': 1, 'LAZY': 1}\n"
     ]
    }
   ],
   "source": [
    "# 1. WAP that reads the words from paragraph and stores them as keys in dic and counts the frequency of it as a value.\n",
    "s=\"Dog the quick brown fox jumps over the lazy dog\"\n",
    "s1=s.upper()\n",
    "d={}\n",
    "t=s1.split()\n",
    "# print(t)\n",
    "for i in t:\n",
    "    d[i]=t.count(i)\n",
    "print(d)"
   ]
  },
  {
   "cell_type": "code",
   "execution_count": 2,
   "metadata": {},
   "outputs": [
    {
     "name": "stdout",
     "output_type": "stream",
     "text": [
      "{'D': [\"Don't\"], 'w': ['wait'], 'f': ['for', 'feeling'], 'y': ['your'], 't': ['to', 'to', 'take', 'the'], 'c': ['change'], 'a': ['action.']}\n"
     ]
    }
   ],
   "source": [
    "# 2. WAP to create a dict with the key as first character and value as list of words starting with that character.\n",
    "s=\" Don't wait for your feeling to change to take the action.\"\n",
    "s1=s.split()\n",
    "d={}\n",
    "# print(s1)\n",
    "for i in s1:\n",
    "    key=i[0]\n",
    "    if key in d.keys():\n",
    "        d[key].append(i)\n",
    "    else:\n",
    "        \n",
    "        d[key]=[i]\n",
    "print(d)"
   ]
  },
  {
   "cell_type": "code",
   "execution_count": 6,
   "metadata": {},
   "outputs": [
    {
     "name": "stdout",
     "output_type": "stream",
     "text": [
      "Enter list 1 : [1,2,3,4]\n",
      "Enter list 2 : [1,5,4,4]\n",
      "[1, 2]\n"
     ]
    }
   ],
   "source": [
    "# 3. WAP to find the index at which the element of two lists does not match.\n",
    "x=eval(input(\"Enter list 1 : \"))\n",
    "y=eval(input(\"Enter list 2 : \"))\n",
    "l=[]\n",
    "if len(x)==len(y):\n",
    "    for i in range(len(x)):\n",
    "        if x[i]!=y[i]:\n",
    "            l.append(i)\n",
    "    print(l)\n",
    "else:\n",
    "    print(\"Length of both list is not same.\")"
   ]
  },
  {
   "cell_type": "code",
   "execution_count": 21,
   "metadata": {},
   "outputs": [
    {
     "name": "stdout",
     "output_type": "stream",
     "text": [
      "CampusX is the best channel for Data-Structure students.\n"
     ]
    }
   ],
   "source": [
    "# 4. WAP to replace words from dict given a string replace its words from lookup dict.\n",
    "s=\"CampusX is best for DS students.\"\n",
    "d={\"best\":\"the best channel\",\"DS\":\"Data-Structure\"}\n",
    "l=[]\n",
    "for i in s.split():\n",
    "    if i in d:\n",
    "        l.append(d[i])\n",
    "    else:\n",
    "        l.append(i)\n",
    "print(\" \".join(l))"
   ]
  },
  {
   "cell_type": "code",
   "execution_count": null,
   "metadata": {},
   "outputs": [],
   "source": []
  }
 ],
 "metadata": {
  "kernelspec": {
   "display_name": "Python 3",
   "language": "python",
   "name": "python3"
  },
  "language_info": {
   "codemirror_mode": {
    "name": "ipython",
    "version": 3
   },
   "file_extension": ".py",
   "mimetype": "text/x-python",
   "name": "python",
   "nbconvert_exporter": "python",
   "pygments_lexer": "ipython3",
   "version": "3.8.5"
  }
 },
 "nbformat": 4,
 "nbformat_minor": 4
}
