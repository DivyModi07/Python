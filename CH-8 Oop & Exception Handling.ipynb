{
 "cells": [
  {
   "cell_type": "code",
   "execution_count": 13,
   "metadata": {},
   "outputs": [
    {
     "name": "stdout",
     "output_type": "stream",
     "text": [
      "division by zero\n",
      "This always print\n"
     ]
    }
   ],
   "source": [
    "def div(a,b):\n",
    "    return a/b\n",
    "try:\n",
    "    print(div(5,0))\n",
    "# except:\n",
    "#     print(\"Exception occured\")\n",
    "except Exception as e:\n",
    "    print(e)\n",
    "else:\n",
    "    print(\"no exception occured\")\n",
    "finally:\n",
    "    print(\"This always print\")"
   ]
  },
  {
   "cell_type": "code",
   "execution_count": 7,
   "metadata": {},
   "outputs": [
    {
     "name": "stdout",
     "output_type": "stream",
     "text": [
      "File not found\n"
     ]
    }
   ],
   "source": [
    "try:\n",
    "    m=5\n",
    "    l=[1,2,3]\n",
    "    f=open(\"abc.txt\",\"r\")\n",
    "    print(f.read())\n",
    "    print(m)\n",
    "    print(5/2)\n",
    "    l[100]\n",
    "except FileNotFoundError:\n",
    "    print(\"File not found\")\n",
    "except NameError:\n",
    "    print(\"Variable not defined\")\n",
    "except ZeroDivisionError:\n",
    "    print(\"Cannot divisible by '0'\")\n",
    "except Exception as e:\n",
    "    print(e)"
   ]
  },
  {
   "cell_type": "code",
   "execution_count": 13,
   "metadata": {},
   "outputs": [
    {
     "name": "stdout",
     "output_type": "stream",
     "text": [
      "name 'g' is not defined\n",
      "Rest of the code\n"
     ]
    }
   ],
   "source": [
    "a=10\n",
    "b=0\n",
    "try:\n",
    "    d=a/g\n",
    "    print(d)\n",
    "except (NameError,ZeroDivisionError) as obj:\n",
    "    print(obj)\n",
    "print(\"Rest of the code\")"
   ]
  },
  {
   "cell_type": "code",
   "execution_count": 20,
   "metadata": {},
   "outputs": [
    {
     "ename": "TypeError",
     "evalue": "b should be int",
     "output_type": "error",
     "traceback": [
      "\u001b[1;31m---------------------------------------------------------------------------\u001b[0m",
      "\u001b[1;31mTypeError\u001b[0m                                 Traceback (most recent call last)",
      "\u001b[1;32m<ipython-input-20-8564234197c4>\u001b[0m in \u001b[0;36m<module>\u001b[1;34m\u001b[0m\n\u001b[0;32m      8\u001b[0m     \u001b[1;32mreturn\u001b[0m \u001b[1;33m(\u001b[0m\u001b[0ma\u001b[0m\u001b[1;33m+\u001b[0m\u001b[0mb\u001b[0m\u001b[1;33m)\u001b[0m\u001b[1;33m\u001b[0m\u001b[1;33m\u001b[0m\u001b[0m\n\u001b[0;32m      9\u001b[0m \u001b[1;33m\u001b[0m\u001b[0m\n\u001b[1;32m---> 10\u001b[1;33m \u001b[0madd\u001b[0m\u001b[1;33m(\u001b[0m\u001b[1;36m1\u001b[0m\u001b[1;33m,\u001b[0m\u001b[1;34m\"xyz\"\u001b[0m\u001b[1;33m)\u001b[0m\u001b[1;33m\u001b[0m\u001b[1;33m\u001b[0m\u001b[0m\n\u001b[0m",
      "\u001b[1;32m<ipython-input-20-8564234197c4>\u001b[0m in \u001b[0;36madd\u001b[1;34m(a, b)\u001b[0m\n\u001b[0;32m      5\u001b[0m         \u001b[1;32mraise\u001b[0m \u001b[0mTypeError\u001b[0m\u001b[1;33m(\u001b[0m\u001b[1;34m\"a should be int\"\u001b[0m\u001b[1;33m)\u001b[0m\u001b[1;33m\u001b[0m\u001b[1;33m\u001b[0m\u001b[0m\n\u001b[0;32m      6\u001b[0m     \u001b[1;32mif\u001b[0m \u001b[0mtype\u001b[0m\u001b[1;33m(\u001b[0m\u001b[0mb\u001b[0m\u001b[1;33m)\u001b[0m\u001b[1;33m==\u001b[0m\u001b[0mstr\u001b[0m\u001b[1;33m:\u001b[0m\u001b[1;33m\u001b[0m\u001b[1;33m\u001b[0m\u001b[0m\n\u001b[1;32m----> 7\u001b[1;33m         \u001b[1;32mraise\u001b[0m \u001b[0mTypeError\u001b[0m\u001b[1;33m(\u001b[0m\u001b[1;34m\"b should be int\"\u001b[0m\u001b[1;33m)\u001b[0m\u001b[1;33m\u001b[0m\u001b[1;33m\u001b[0m\u001b[0m\n\u001b[0m\u001b[0;32m      8\u001b[0m     \u001b[1;32mreturn\u001b[0m \u001b[1;33m(\u001b[0m\u001b[0ma\u001b[0m\u001b[1;33m+\u001b[0m\u001b[0mb\u001b[0m\u001b[1;33m)\u001b[0m\u001b[1;33m\u001b[0m\u001b[1;33m\u001b[0m\u001b[0m\n\u001b[0;32m      9\u001b[0m \u001b[1;33m\u001b[0m\u001b[0m\n",
      "\u001b[1;31mTypeError\u001b[0m: b should be int"
     ]
    }
   ],
   "source": [
    "# Raise an error:\n",
    "\n",
    "def add(a,b):\n",
    "    if type(a)==str:\n",
    "        raise TypeError(\"a should be int\")\n",
    "    if type(b)==str:\n",
    "        raise TypeError(\"b should be int\")\n",
    "    return (a+b)\n",
    "\n",
    "add(1,\"xyz\")"
   ]
  },
  {
   "cell_type": "code",
   "execution_count": 22,
   "metadata": {},
   "outputs": [
    {
     "ename": "TypeError",
     "evalue": "can only concatenate str (not \"int\") to str",
     "output_type": "error",
     "traceback": [
      "\u001b[1;31m---------------------------------------------------------------------------\u001b[0m",
      "\u001b[1;31mTypeError\u001b[0m                                 Traceback (most recent call last)",
      "\u001b[1;32m<ipython-input-22-33985725ff6f>\u001b[0m in \u001b[0;36m<module>\u001b[1;34m\u001b[0m\n\u001b[0;32m      1\u001b[0m \u001b[1;32mdef\u001b[0m \u001b[0madd\u001b[0m\u001b[1;33m(\u001b[0m\u001b[0ma\u001b[0m\u001b[1;33m,\u001b[0m\u001b[0mb\u001b[0m\u001b[1;33m)\u001b[0m\u001b[1;33m:\u001b[0m\u001b[1;33m\u001b[0m\u001b[1;33m\u001b[0m\u001b[0m\n\u001b[0;32m      2\u001b[0m     \u001b[1;32mreturn\u001b[0m \u001b[0ma\u001b[0m\u001b[1;33m+\u001b[0m\u001b[0mb\u001b[0m\u001b[1;33m\u001b[0m\u001b[1;33m\u001b[0m\u001b[0m\n\u001b[1;32m----> 3\u001b[1;33m \u001b[0madd\u001b[0m\u001b[1;33m(\u001b[0m\u001b[1;34m\"abc\"\u001b[0m\u001b[1;33m,\u001b[0m\u001b[1;36m10\u001b[0m\u001b[1;33m)\u001b[0m\u001b[1;33m\u001b[0m\u001b[1;33m\u001b[0m\u001b[0m\n\u001b[0m",
      "\u001b[1;32m<ipython-input-22-33985725ff6f>\u001b[0m in \u001b[0;36madd\u001b[1;34m(a, b)\u001b[0m\n\u001b[0;32m      1\u001b[0m \u001b[1;32mdef\u001b[0m \u001b[0madd\u001b[0m\u001b[1;33m(\u001b[0m\u001b[0ma\u001b[0m\u001b[1;33m,\u001b[0m\u001b[0mb\u001b[0m\u001b[1;33m)\u001b[0m\u001b[1;33m:\u001b[0m\u001b[1;33m\u001b[0m\u001b[1;33m\u001b[0m\u001b[0m\n\u001b[1;32m----> 2\u001b[1;33m     \u001b[1;32mreturn\u001b[0m \u001b[0ma\u001b[0m\u001b[1;33m+\u001b[0m\u001b[0mb\u001b[0m\u001b[1;33m\u001b[0m\u001b[1;33m\u001b[0m\u001b[0m\n\u001b[0m\u001b[0;32m      3\u001b[0m \u001b[0madd\u001b[0m\u001b[1;33m(\u001b[0m\u001b[1;34m\"abc\"\u001b[0m\u001b[1;33m,\u001b[0m\u001b[1;36m10\u001b[0m\u001b[1;33m)\u001b[0m\u001b[1;33m\u001b[0m\u001b[1;33m\u001b[0m\u001b[0m\n",
      "\u001b[1;31mTypeError\u001b[0m: can only concatenate str (not \"int\") to str"
     ]
    }
   ],
   "source": [
    "def add(a,b):\n",
    "    return a+b\n",
    "add(\"abc\",10)"
   ]
  },
  {
   "cell_type": "code",
   "execution_count": 31,
   "metadata": {},
   "outputs": [
    {
     "ename": "meet",
     "evalue": "Personalized Error",
     "output_type": "error",
     "traceback": [
      "\u001b[1;31m---------------------------------------------------------------------------\u001b[0m",
      "\u001b[1;31mmeet\u001b[0m                                      Traceback (most recent call last)",
      "\u001b[1;32m<ipython-input-31-df5cbc6d8790>\u001b[0m in \u001b[0;36m<module>\u001b[1;34m\u001b[0m\n\u001b[0;32m     10\u001b[0m     \u001b[1;32mreturn\u001b[0m \u001b[0ma\u001b[0m\u001b[1;33m+\u001b[0m\u001b[0mb\u001b[0m\u001b[1;33m\u001b[0m\u001b[1;33m\u001b[0m\u001b[0m\n\u001b[0;32m     11\u001b[0m \u001b[1;33m\u001b[0m\u001b[0m\n\u001b[1;32m---> 12\u001b[1;33m \u001b[0madd\u001b[0m\u001b[1;33m(\u001b[0m\u001b[1;34m\"abc\"\u001b[0m\u001b[1;33m,\u001b[0m\u001b[1;34m\"xyz\"\u001b[0m\u001b[1;33m)\u001b[0m\u001b[1;33m\u001b[0m\u001b[1;33m\u001b[0m\u001b[0m\n\u001b[0m",
      "\u001b[1;32m<ipython-input-31-df5cbc6d8790>\u001b[0m in \u001b[0;36madd\u001b[1;34m(a, b)\u001b[0m\n\u001b[0;32m      5\u001b[0m \u001b[1;32mdef\u001b[0m \u001b[0madd\u001b[0m\u001b[1;33m(\u001b[0m\u001b[0ma\u001b[0m\u001b[1;33m,\u001b[0m\u001b[0mb\u001b[0m\u001b[1;33m)\u001b[0m\u001b[1;33m:\u001b[0m\u001b[1;33m\u001b[0m\u001b[1;33m\u001b[0m\u001b[0m\n\u001b[0;32m      6\u001b[0m     \u001b[1;32mif\u001b[0m \u001b[0mtype\u001b[0m\u001b[1;33m(\u001b[0m\u001b[0ma\u001b[0m\u001b[1;33m)\u001b[0m\u001b[1;33m==\u001b[0m\u001b[0mstr\u001b[0m\u001b[1;33m:\u001b[0m\u001b[1;33m\u001b[0m\u001b[1;33m\u001b[0m\u001b[0m\n\u001b[1;32m----> 7\u001b[1;33m         \u001b[1;32mraise\u001b[0m \u001b[0mmeet\u001b[0m\u001b[1;33m(\u001b[0m\u001b[1;34m\"Personalized Error\"\u001b[0m\u001b[1;33m)\u001b[0m\u001b[1;33m\u001b[0m\u001b[1;33m\u001b[0m\u001b[0m\n\u001b[0m\u001b[0;32m      8\u001b[0m     \u001b[1;32mif\u001b[0m \u001b[0mtype\u001b[0m\u001b[1;33m(\u001b[0m\u001b[0mb\u001b[0m\u001b[1;33m)\u001b[0m\u001b[1;33m==\u001b[0m\u001b[0mstr\u001b[0m\u001b[1;33m:\u001b[0m\u001b[1;33m\u001b[0m\u001b[1;33m\u001b[0m\u001b[0m\n\u001b[0;32m      9\u001b[0m         \u001b[1;32mraise\u001b[0m \u001b[0mTypeError\u001b[0m\u001b[1;33m(\u001b[0m\u001b[1;34m\"b should be int\"\u001b[0m\u001b[1;33m)\u001b[0m\u001b[1;33m\u001b[0m\u001b[1;33m\u001b[0m\u001b[0m\n",
      "\u001b[1;31mmeet\u001b[0m: Personalized Error"
     ]
    }
   ],
   "source": [
    "class meet(Exception):\n",
    "    def __init__(self,arg):\n",
    "        self.msg=arg\n",
    "\n",
    "def add(a,b):\n",
    "    if type(a)==str:\n",
    "        raise meet(\"Personalized Error\")\n",
    "    if type(b)==str:\n",
    "        raise TypeError(\"b should be int\")\n",
    "    return a+b\n",
    "\n",
    "add(\"abc\",\"xyz\")"
   ]
  },
  {
   "cell_type": "code",
   "execution_count": 37,
   "metadata": {},
   "outputs": [
    {
     "name": "stdout",
     "output_type": "stream",
     "text": [
      "Enter the amount you want to withdraw :90000\n",
      "Withdraw request decline\n"
     ]
    }
   ],
   "source": [
    "# WAP\n",
    "class meet(Exception):\n",
    "    def __init__(self,arg):\n",
    "        self.msg=arg\n",
    "amount=10000\n",
    "withdraw=int(input(\"Enter the amount you want to withdraw :\"))\n",
    "try:\n",
    "    if amount-withdraw<0:\n",
    "        raise meet(\"Withdraw request decline\")\n",
    "except meet as e:\n",
    "    print(e)"
   ]
  },
  {
   "cell_type": "code",
   "execution_count": 9,
   "metadata": {},
   "outputs": [
    {
     "name": "stdout",
     "output_type": "stream",
     "text": [
      "Employee name :  Meet\n",
      "Employee age :  20\n",
      "Employee salary :  69000\n",
      "Employee name :  Divy\n",
      "Employee age :  20\n",
      "Employee salary :  70000\n",
      "50\n",
      "abcxyz\n"
     ]
    }
   ],
   "source": [
    "class Employee:\n",
    "    def __init__(self,name,age,salary):\n",
    "        self.name=name\n",
    "        self.age=age\n",
    "        self.salary=salary\n",
    "    def display(self):\n",
    "        print(\"Employee name : \",self.name)\n",
    "        print(\"Employee age : \",self.age)        \n",
    "        print(\"Employee salary : \",self.salary)\n",
    "    @staticmethod\n",
    "    def add(a,b):\n",
    "        print(a+b)\n",
    "emp1=Employee(\"Meet\",20,69000)\n",
    "emp1.display()\n",
    "emp2=Employee(\"Divy\",20,70000)\n",
    "emp2.display()\n",
    "emp1.add(20,30)\n",
    "emp2.add(\"abc\",\"xyz\")"
   ]
  },
  {
   "cell_type": "code",
   "execution_count": 11,
   "metadata": {},
   "outputs": [
    {
     "name": "stdout",
     "output_type": "stream",
     "text": [
      "Car Color: Mat Black\n",
      "Car model: BE 6E\n",
      "Car year: 2024\n",
      "Car Color: saffron\n",
      "Car model: XL6\n",
      "Car year: 2020\n"
     ]
    }
   ],
   "source": [
    "class Car:\n",
    "    def __init__(self,color,model,year):\n",
    "        self.color=color\n",
    "        self.model=model\n",
    "        self.year=year\n",
    "    def display(self):\n",
    "        print(\"Car Color:\",self.color)\n",
    "        print(\"Car model:\",self.model)        \n",
    "        print(\"Car year:\",self.year)     \n",
    "car1=Car(\"Mat Black\",\"BE 6E\",\"2024\")\n",
    "car1.display()\n",
    "car2=Car(\"saffron\",\"XL6\",\"2020\")\n",
    "car2.display()"
   ]
  },
  {
   "cell_type": "code",
   "execution_count": 18,
   "metadata": {},
   "outputs": [
    {
     "name": "stdout",
     "output_type": "stream",
     "text": [
      "Name : Harry\n",
      "Salary : 50000\n",
      "Role : Engineer\n",
      "\n",
      "Name : Rohan\n",
      "Salary : 60000\n",
      "Role : Developer\n",
      "\n"
     ]
    }
   ],
   "source": [
    "# without constructor\n",
    "\n",
    "class Employee:\n",
    "    no_of_leave=5 # class varaiable\n",
    "    def printdetails(self):\n",
    "        print(\"Name :\",self.name)\n",
    "        print(\"Salary :\",self.salary)        \n",
    "        print(\"Role :\",self.role)    \n",
    "        print()\n",
    "        \n",
    "emp1=Employee()\n",
    "emp1.name=\"Harry\"\n",
    "emp1.salary=50000\n",
    "emp1.role=\"Engineer\"\n",
    "emp1.printdetails()\n",
    "emp2=Employee()\n",
    "emp2.name=\"Rohan\"\n",
    "emp2.salary=60000\n",
    "emp2.role=\"Developer\"\n",
    "emp2.printdetails()"
   ]
  },
  {
   "cell_type": "code",
   "execution_count": 24,
   "metadata": {},
   "outputs": [
    {
     "name": "stdout",
     "output_type": "stream",
     "text": [
      "50\n"
     ]
    }
   ],
   "source": [
    "class test:\n",
    "    def __init__(self):\n",
    "        self.value=50\n",
    "        self.show()\n",
    "    def show(self):\n",
    "        print(self.value)\n",
    "a=test()"
   ]
  },
  {
   "cell_type": "code",
   "execution_count": 33,
   "metadata": {},
   "outputs": [
    {
     "name": "stdout",
     "output_type": "stream",
     "text": [
      "Address of self :  1723220712896\n",
      "Address of obj :  1723220712896\n",
      "5\n",
      "\n",
      "Address of self :  1723220816752\n",
      "Address of obj :  1723220816752\n",
      "10\n"
     ]
    }
   ],
   "source": [
    "class check:\n",
    "    def __init__(self,m):\n",
    "        print(\"Address of self : \",id(self))\n",
    "        self.m=m\n",
    "obj=check(5)\n",
    "print(\"Address of obj : \",id(obj))\n",
    "print(obj.m)\n",
    "print()\n",
    "obj1=check(10)\n",
    "print(\"Address of obj : \",id(obj1))\n",
    "print(obj1.m)"
   ]
  },
  {
   "cell_type": "code",
   "execution_count": 39,
   "metadata": {},
   "outputs": [
    {
     "name": "stdout",
     "output_type": "stream",
     "text": [
      "5 5 140717705996192 140717705996192\n",
      "10 5 140717705996352 140717705996192\n"
     ]
    }
   ],
   "source": [
    "class Account():\n",
    "    rate=5\n",
    "    def some_method(self):\n",
    "        print(self.rate,Account.rate,id(self.rate),id(Account.rate))\n",
    "        self.rate=10\n",
    "        print(self.rate,Account.rate,id(self.rate),id(Account.rate))\n",
    "a1=Account()\n",
    "a2=Account()\n",
    "a1.some_method()"
   ]
  },
  {
   "cell_type": "code",
   "execution_count": 43,
   "metadata": {},
   "outputs": [
    {
     "name": "stdout",
     "output_type": "stream",
     "text": [
      "30 30\n",
      "35 30\n",
      "35 30\n",
      "Age is different\n",
      "35 35\n",
      "Age is same\n"
     ]
    }
   ],
   "source": [
    "class person:\n",
    "    def __init__(self):\n",
    "        self.name=\"John\"\n",
    "        self.age=30\n",
    "    def update(self):\n",
    "        self.age=35\n",
    "    def compare(self,other):\n",
    "        print(self.age,other.age)\n",
    "        if self.age==other.age:\n",
    "            print(\"Age is same\")\n",
    "        else:\n",
    "            print(\"Age is different\")\n",
    "p1=person()\n",
    "p2=person()\n",
    "print(p1.age,p2.age)\n",
    "p1.update()\n",
    "print(p1.age,p2.age)\n",
    "p1.compare(p2)\n",
    "p2.update()\n",
    "p1.compare(p2)"
   ]
  },
  {
   "cell_type": "code",
   "execution_count": 57,
   "metadata": {},
   "outputs": [
    {
     "name": "stdout",
     "output_type": "stream",
     "text": [
      "Object Destroyed\n",
      "Name : abc\n",
      "Age : 18\n",
      "Salary : 50000\n",
      "\n",
      "Name : xyz\n",
      "Age : 18\n",
      "Salary : 51000\n",
      "\n",
      "Object Destroyed\n"
     ]
    }
   ],
   "source": [
    "# destructor\n",
    "\n",
    "class Employee:\n",
    "    def __init__(self,name,age,salary):\n",
    "        self.name=name\n",
    "        self.age=age\n",
    "        self.salary=salary\n",
    "        \n",
    "    def __del__(self):\n",
    "        print(\"Object Destroyed\")\n",
    "        \n",
    "    def display(self):\n",
    "        print(\"Name :\",self.name)\n",
    "        print(\"Age :\",self.age)    \n",
    "        print(\"Salary :\",self.salary)        \n",
    "        print()\n",
    "emp1=Employee(\"abc\",18,50000)\n",
    "emp2=Employee(\"xyz\",18,51000)\n",
    "emp1.display()\n",
    "emp2.display()\n",
    "del emp2\n",
    "# emp2.display()"
   ]
  },
  {
   "cell_type": "code",
   "execution_count": 12,
   "metadata": {},
   "outputs": [
    {
     "name": "stdout",
     "output_type": "stream",
     "text": [
      "yes\n",
      "Realme X\n",
      "yes\n",
      "Realme X\n"
     ]
    }
   ],
   "source": [
    "class Mobile:\n",
    "    fp=\"yes\" #class variable\n",
    "    \n",
    "    def __init__(self):\n",
    "        self.model=\"Realme X\" # instance variable\n",
    "        \n",
    "    def show_model(self):  # instance method\n",
    "        print(self.model) # accessing instance variable inside instance method\n",
    "    \n",
    "    @classmethod\n",
    "    def show(cls): # class method\n",
    "        print(cls.fp) # accessing class variable inside class method\n",
    "realme=Mobile()\n",
    "realme.show()\n",
    "realme.show_model()\n",
    "Mobile.show()\n",
    "# Mobile.show_model()  #non-class method cannot be called with Class Name\n",
    "realme.show_model()   "
   ]
  },
  {
   "cell_type": "code",
   "execution_count": 15,
   "metadata": {},
   "outputs": [
    {
     "name": "stdout",
     "output_type": "stream",
     "text": [
      "Realme X\n"
     ]
    }
   ],
   "source": [
    "class Mobile:\n",
    "    def __init__(self):\n",
    "        self.model=\"Realme X\" # instance variable\n",
    "    def show_model(self):  # instance method\n",
    "        print(self.model) # accessing instance variable inside instance method\n",
    "realme=Mobile()\n",
    "print(realme.model) # accessing instance variable outside class\n"
   ]
  },
  {
   "cell_type": "code",
   "execution_count": 17,
   "metadata": {},
   "outputs": [
    {
     "name": "stdout",
     "output_type": "stream",
     "text": [
      "The name is  orange\n",
      "The name is  banana\n",
      "The name is  banana\n"
     ]
    }
   ],
   "source": [
    "class Fruit:\n",
    "    name=\"orange\"\n",
    "    @classmethod\n",
    "    def printname(cls):\n",
    "        print(\"The name is \",cls.name)\n",
    "Fruit.printname()\n",
    "apple=Fruit()\n",
    "Fruit.name=\"banana\"\n",
    "Fruit.printname()\n",
    "apple.name=\"strawberry\"  # cannot change the class variable with class obj\n",
    "apple.printname()"
   ]
  },
  {
   "cell_type": "code",
   "execution_count": 1,
   "metadata": {},
   "outputs": [
    {
     "name": "stdout",
     "output_type": "stream",
     "text": [
      "BMW 8 5\n",
      "BMW 10 4\n"
     ]
    }
   ],
   "source": [
    "class Car:\n",
    "    wheels=4\n",
    "    def __init__(self):\n",
    "        self.mileage=10\n",
    "        self.model=\"BMW\"\n",
    "c1=Car()\n",
    "c2=Car()\n",
    "c1.mileage=8\n",
    "c1.wheels=5\n",
    "# Car.wheels=5\n",
    "print(c1.model,c1.mileage,c1.wheels)\n",
    "print(c2.model,c2.mileage,c2.wheels)"
   ]
  },
  {
   "cell_type": "code",
   "execution_count": 5,
   "metadata": {},
   "outputs": [
    {
     "name": "stdout",
     "output_type": "stream",
     "text": [
      "The book is : The bitchs\n",
      "The book is : The bitch returns\n"
     ]
    }
   ],
   "source": [
    "class Library:\n",
    "    def __init__(self,id,name):\n",
    "        self.bookid=id\n",
    "        self.bookname=name\n",
    "    def getbookname(self):\n",
    "        print(\"The book is :\",self.bookname)\n",
    "    def setbookname(self,newbookname):\n",
    "        self.bookname=newbookname\n",
    "        \n",
    "book=Library(1,\"The bitchs\")\n",
    "book.getbookname()\n",
    "book.setbookname(\"The bitch returns\")\n",
    "book.getbookname()"
   ]
  },
  {
   "cell_type": "code",
   "execution_count": 9,
   "metadata": {},
   "outputs": [
    {
     "name": "stdout",
     "output_type": "stream",
     "text": [
      "<class 'generator'>\n",
      "[0, 2, 4, 6, 8]\n"
     ]
    }
   ],
   "source": [
    "# yield\n",
    "\n",
    "def simple():\n",
    "    for i in range(10):\n",
    "        if i%2==0:\n",
    "            yield i\n",
    "\n",
    "x=simple()\n",
    "print(type(x))\n",
    "print(list(x))"
   ]
  },
  {
   "cell_type": "code",
   "execution_count": 11,
   "metadata": {},
   "outputs": [
    {
     "name": "stdout",
     "output_type": "stream",
     "text": [
      "10\n",
      "20\n",
      "30\n",
      "40\n"
     ]
    }
   ],
   "source": [
    "def fan():\n",
    "    yield 10\n",
    "    yield 20\n",
    "    yield 30\n",
    "    yield 40\n",
    "    \n",
    "for i in fan():\n",
    "    print(i)"
   ]
  },
  {
   "cell_type": "code",
   "execution_count": 13,
   "metadata": {},
   "outputs": [
    {
     "ename": "TypeError",
     "evalue": "'int' object is not iterable",
     "output_type": "error",
     "traceback": [
      "\u001b[1;31m---------------------------------------------------------------------------\u001b[0m",
      "\u001b[1;31mTypeError\u001b[0m                                 Traceback (most recent call last)",
      "\u001b[1;32m<ipython-input-13-a771cee4fcbb>\u001b[0m in \u001b[0;36m<module>\u001b[1;34m\u001b[0m\n\u001b[0;32m      5\u001b[0m     \u001b[1;32mreturn\u001b[0m \u001b[1;36m40\u001b[0m\u001b[1;33m\u001b[0m\u001b[1;33m\u001b[0m\u001b[0m\n\u001b[0;32m      6\u001b[0m \u001b[1;33m\u001b[0m\u001b[0m\n\u001b[1;32m----> 7\u001b[1;33m \u001b[1;32mfor\u001b[0m \u001b[0mi\u001b[0m \u001b[1;32min\u001b[0m \u001b[0mfan\u001b[0m\u001b[1;33m(\u001b[0m\u001b[1;33m)\u001b[0m\u001b[1;33m:\u001b[0m\u001b[1;33m\u001b[0m\u001b[1;33m\u001b[0m\u001b[0m\n\u001b[0m\u001b[0;32m      8\u001b[0m     \u001b[0mprint\u001b[0m\u001b[1;33m(\u001b[0m\u001b[0mi\u001b[0m\u001b[1;33m)\u001b[0m\u001b[1;33m\u001b[0m\u001b[1;33m\u001b[0m\u001b[0m\n",
      "\u001b[1;31mTypeError\u001b[0m: 'int' object is not iterable"
     ]
    }
   ],
   "source": [
    "def fan():\n",
    "    return 10\n",
    "    return 20\n",
    "    return 30\n",
    "    return 40\n",
    "    \n",
    "for i in fan():\n",
    "    print(i)"
   ]
  },
  {
   "cell_type": "code",
   "execution_count": 15,
   "metadata": {},
   "outputs": [
    {
     "name": "stdout",
     "output_type": "stream",
     "text": [
      "1\n",
      "0\n"
     ]
    }
   ],
   "source": [
    "def fan():\n",
    "    return '10'\n",
    "    return '20'\n",
    "    return '30'\n",
    "    return '40'\n",
    "    \n",
    "for i in fan():\n",
    "    print(i)"
   ]
  },
  {
   "cell_type": "code",
   "execution_count": 24,
   "metadata": {},
   "outputs": [
    {
     "name": "stdout",
     "output_type": "stream",
     "text": [
      "(10, 20, 30, 40)\n"
     ]
    }
   ],
   "source": [
    "def fan():\n",
    "#     return 10,20,30,40\n",
    "    yield 10,20,30,40\n",
    "    \n",
    "for i in fan():\n",
    "    print(i)"
   ]
  },
  {
   "cell_type": "code",
   "execution_count": 30,
   "metadata": {},
   "outputs": [
    {
     "name": "stdout",
     "output_type": "stream",
     "text": [
      "Delhi\n",
      "Mumbai\n",
      "Ahmedabad\n",
      "Pune\n",
      "Mirzapur\n",
      "Lucknow\n"
     ]
    }
   ],
   "source": [
    "def city_generator():\n",
    "    yield 'Delhi'\n",
    "    yield 'Mumbai'    \n",
    "    yield 'Ahmedabad'    \n",
    "    yield 'Pune'    \n",
    "    yield 'Mirzapur'    \n",
    "    yield 'Lucknow'\n",
    "\n",
    "city=city_generator()\n",
    "print(next(city))\n",
    "print(next(city))\n",
    "print(next(city))\n",
    "print(next(city))\n",
    "print(next(city))\n",
    "print(next(city))\n",
    "# print(next(city))  StopIteration: \n",
    "for i in city:\n",
    "    print(\"Loop:\",i)"
   ]
  },
  {
   "cell_type": "code",
   "execution_count": 2,
   "metadata": {},
   "outputs": [
    {
     "name": "stdout",
     "output_type": "stream",
     "text": [
      "Enter the mark of subject1 :80\n",
      "Enter the mark of subject2 :80\n",
      "Enter the mark of subject3 :80\n",
      "Enter the mark of subject4 :80\n",
      "Enter the mark of subject5 :80\n",
      "[80, 80, 80, 80, 80]\n",
      "Name: Divy\n",
      "Roll no.: 1\n",
      "Name: CSE\n",
      "Marks of subject1 : 80\n",
      "Marks of subject2 : 80\n",
      "Marks of subject3 : 80\n",
      "Marks of subject4 : 80\n",
      "Marks of subject5 : 80\n",
      "Average of marks: 80.0\n",
      "\n",
      "Enter the mark of subject1 :90\n",
      "Enter the mark of subject2 :80\n",
      "Enter the mark of subject3 :80\n",
      "Enter the mark of subject4 :90\n",
      "Enter the mark of subject5 :90\n",
      "[90, 80, 80, 90, 90]\n",
      "Name: Meet\n",
      "Roll no.: 2\n",
      "Name: CSE\n",
      "Marks of subject1 : 90\n",
      "Marks of subject2 : 80\n",
      "Marks of subject3 : 80\n",
      "Marks of subject4 : 90\n",
      "Marks of subject5 : 90\n",
      "Average of marks: 86.0\n",
      "\n",
      "Enter the mark of subject1 :70\n",
      "Enter the mark of subject2 :70\n",
      "Enter the mark of subject3 :70\n",
      "Enter the mark of subject4 :70\n",
      "Enter the mark of subject5 :70\n",
      "[70, 70, 70, 70, 70]\n",
      "Name: Hetansh\n",
      "Roll no.: 3\n",
      "Name: CSE\n",
      "Marks of subject1 : 70\n",
      "Marks of subject2 : 70\n",
      "Marks of subject3 : 70\n",
      "Marks of subject4 : 70\n",
      "Marks of subject5 : 70\n",
      "Average of marks: 70.0\n",
      "\n"
     ]
    }
   ],
   "source": [
    "# WAP to create a class student there will be 3 attribute name,roll no. and branch.\n",
    "#  Consider branch as a class variable,make 3 method given as below:\n",
    "#   1. Enter marks (5 subject marks)\n",
    "#   2. Display function(display the details of student and marks if available)\n",
    "#   3. For calculate average of all marks.\n",
    "\n",
    "class Student():\n",
    "    \n",
    "    branch=\"CSE\"\n",
    "    \n",
    "    def __init__(self,name,rollno):\n",
    "        self.name=name\n",
    "        self.rollno=rollno\n",
    "        self.l=[]\n",
    "        self.EnterMarks()\n",
    "        self.Display()\n",
    "        self.Average()\n",
    "        \n",
    "    \n",
    "    \n",
    "    def EnterMarks(self):\n",
    "        for i in range(1,6):\n",
    "            mark=int(input(f\"Enter the mark of subject{i} :\"))\n",
    "            self.l.append(mark)\n",
    "        print(self.l)\n",
    "            \n",
    "    def Display(self):\n",
    "        print(\"Name:\",self.name)\n",
    "        print(\"Roll no.:\",self.rollno)\n",
    "        print(\"Name:\",self.branch)\n",
    "        if len(self.l)!=0:\n",
    "            for i in range(len(self.l)):\n",
    "                print(f\"Marks of subject{i+1} :\",self.l[i])\n",
    "        else:\n",
    "            EnterMarks()\n",
    "            \n",
    "    def Average(self):\n",
    "        sum=0\n",
    "        if len(self.l)!=0:\n",
    "            for i in self.l:\n",
    "                sum=sum+i\n",
    "            print(\"Average of marks:\",sum/len(self.l))\n",
    "            \n",
    "        else:\n",
    "            Print(\"Marks not entered\")\n",
    "        \n",
    "student1=Student(\"Divy\",1)\n",
    "print()\n",
    "student2=Student(\"Meet\",2)\n",
    "print()\n",
    "student3=Student(\"Hetansh\",3)\n",
    "print()        \n"
   ]
  },
  {
   "cell_type": "code",
   "execution_count": 7,
   "metadata": {},
   "outputs": [
    {
     "name": "stdout",
     "output_type": "stream",
     "text": [
      "Enter the String : Bhavsar Meet is in Batch B2\n",
      "Uppercase : 4\n",
      "Lowercase : 17\n",
      "Digit : 1\n",
      "Vowels : 7\n",
      "Consonents : 20\n",
      "['Bhavsar', 'Meet', 'is', 'in', 'Batch', 'B2']\n"
     ]
    }
   ],
   "source": [
    "# WAP to create class string and make method to count uppercase,lowercase,vowels,consonents,digits and spaces in \n",
    "#  the string entered by user.\n",
    "\n",
    "class String:\n",
    "    def __init__(self,s):\n",
    "        self.s=s\n",
    "        self.u=0\n",
    "        self.l=0\n",
    "        self.v=0\n",
    "        self.c=0\n",
    "        self.d=0\n",
    "        self.space=0\n",
    "        self.uppercase()\n",
    "        self.lowercase()\n",
    "        self.digit()\n",
    "        self.vowels()\n",
    "        self.space1()\n",
    "        \n",
    "        \n",
    "    def uppercase(self):\n",
    "        for i in self.s:\n",
    "            if i.isupper():\n",
    "                self.u+=1\n",
    "        print(\"Uppercase :\",self.u)\n",
    "    def lowercase(self):\n",
    "        for i in self.s:\n",
    "            if i.islower():\n",
    "                self.l+=1\n",
    "        print(\"Lowercase :\",self.l)\n",
    "            \n",
    "    def vowels(self):\n",
    "        for i in self.s:\n",
    "            if i in \"AEIOUaeiou\":\n",
    "                self.v+=1\n",
    "            else:\n",
    "                self.c+=1\n",
    "        print(\"Vowels :\",self.v)\n",
    "        print(\"Consonents :\",self.c)\n",
    "        \n",
    "        \n",
    "    def digit(self):\n",
    "        for i in self.s:\n",
    "            if i.isdigit():\n",
    "                self.d+=1 \n",
    "        print(\"Digit :\",self.d)\n",
    "        \n",
    "    def space1(self):\n",
    "        st1=self.s.split()\n",
    "#         print(st1)\n",
    "        self.space=len(st1)\n",
    "        \n",
    "s=input(\"Enter the String : \")\n",
    "s1=String(s)"
   ]
  },
  {
   "cell_type": "code",
   "execution_count": null,
   "metadata": {},
   "outputs": [],
   "source": []
  }
 ],
 "metadata": {
  "kernelspec": {
   "display_name": "Python 3",
   "language": "python",
   "name": "python3"
  },
  "language_info": {
   "codemirror_mode": {
    "name": "ipython",
    "version": 3
   },
   "file_extension": ".py",
   "mimetype": "text/x-python",
   "name": "python",
   "nbconvert_exporter": "python",
   "pygments_lexer": "ipython3",
   "version": "3.8.5"
  }
 },
 "nbformat": 4,
 "nbformat_minor": 4
}
