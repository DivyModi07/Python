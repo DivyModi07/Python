{
 "cells": [
  {
   "cell_type": "code",
   "execution_count": 19,
   "id": "b24d9d84-fa67-44a9-9894-159455374cdf",
   "metadata": {},
   "outputs": [
    {
     "name": "stdout",
     "output_type": "stream",
     "text": [
      "Name: a\n",
      "Email: abc1@gmail.com\n",
      "Name: a\n",
      "Email: abc1@gmail.com\n",
      "Student: []\n",
      "Name added\n",
      "Name: a\n",
      "Email: abc1@gmail.com\n",
      "Student: [<__main__.Student object at 0x000001A2FACB98D0>]\n",
      "\n",
      "Name: b\n",
      "Email: babc1@gmail.com\n",
      "Name: b\n",
      "Email: babc1@gmail.com\n",
      "Student: []\n",
      "Name added\n",
      "Name: b\n",
      "Email: babc1@gmail.com\n",
      "Student: [<__main__.Student object at 0x000001A2F45D3A00>]\n"
     ]
    }
   ],
   "source": [
    "# QB-673\n",
    "# Create a class called Student, having name and email as its data members and _init_(self, name, email) and putdata(self) as\n",
    "# bound methods. The _init_ function should assign the values passed as parameters to the requisite variables. The putdata\n",
    "# function should display the data of the student. Create another class called PhDguide having name, email, and students as\n",
    "# its data members. Here, the students variable is the list of students under the guide. The PhDguide class should have four\n",
    "# bound methods: _init_, putdata, add, and remove. The _init_ method should initialize the variables, the putdata should\n",
    "# show the data of the guide, include the list of students, the add method should add a student to the list of students of the\n",
    "# guide and the remove function should remove the student (if the student exists in the list of students of that guide) from\n",
    "# the list of students.\n",
    "\n",
    "\n",
    "class Student():\n",
    "    def __init__(self,name,email):\n",
    "        self.name=name\n",
    "        self.email=email\n",
    "        \n",
    "    def putdata(self):\n",
    "        print(\"Name:\",self.name)\n",
    "        print(\"Email:\",self.email)\n",
    "\n",
    "class PhDguide(Student):\n",
    "    def __init__(self,name,email,):\n",
    "        super().__init__(name,email)\n",
    "        self.l=[]\n",
    "        \n",
    "    def putdata(self):\n",
    "        super().putdata()\n",
    "        print(\"Student:\",self.l)\n",
    "        \n",
    "    def add(self,student):\n",
    "        self.l.append(student)\n",
    "        print(\"Name added\")\n",
    "        \n",
    "    def remove(self,student):\n",
    "        if name in self.l:\n",
    "            self.l.remove(student)\n",
    "            print(\"Name removed\")\n",
    "        else:\n",
    "            print(\"Name does not exist \")\n",
    "\n",
    "s1=Student('a','abc1@gmail.com')\n",
    "s1.putdata()\n",
    "g1=PhDguide('a','abc1@gmail.com')\n",
    "g1.putdata()\n",
    "g1.add(s1)\n",
    "g1.putdata()\n",
    "print()\n",
    "s2=Student('b','babc1@gmail.com')\n",
    "s2.putdata()\n",
    "g2=PhDguide('b','babc1@gmail.com')\n",
    "g2.putdata()\n",
    "g2.add(s2)\n",
    "g2.putdata()"
   ]
  },
  {
   "cell_type": "code",
   "execution_count": 41,
   "id": "3b1bf141-d61c-4e37-ace6-9fabad9565cd",
   "metadata": {},
   "outputs": [
    {
     "name": "stdout",
     "output_type": "stream",
     "text": [
      "4/8\n",
      "12/8\n"
     ]
    }
   ],
   "source": [
    "# QB-677\n",
    "# Write a program that overload the * operator so that it can add two object of class fraction\n",
    "\n",
    "class ABC():\n",
    "    def __init__(self,a,b):\n",
    "        self.a=a\n",
    "        self.b=b\n",
    "        \n",
    "    def __mul__(self,other):\n",
    "        num=self.a*other.a\n",
    "        deno=self.b*other.b\n",
    "        return (f\"{num}/{deno}\")\n",
    "\n",
    "    def __add__(self,other): \n",
    "        n=self.a*other.b+self.b*other.a\n",
    "        d=self.b*other.b\n",
    "        return (f\"{n}/{d}\")\n",
    "obj1=ABC(1,2)\n",
    "obj2=ABC(4,4)\n",
    "print(obj1*obj2)\n",
    "print(obj1+obj2)"
   ]
  },
  {
   "cell_type": "code",
   "execution_count": 45,
   "id": "f678dbac-f789-4a2d-945c-b2d6fbd73fdb",
   "metadata": {},
   "outputs": [
    {
     "name": "stdout",
     "output_type": "stream",
     "text": [
      "True\n",
      "False\n"
     ]
    }
   ],
   "source": [
    "# QB-681\n",
    "# Write a program to create a class called Data having “value” as its data member. Overload the (>) and the (<) operator for\n",
    "# the class. Instantiate the class and compare the objects using _lt_ and _gt_.\n",
    "\n",
    "class Data():\n",
    "    def __init__(self,value):\n",
    "        self.value=value\n",
    "\n",
    "    def __lt__(self,other):\n",
    "        return self.value<other.value\n",
    "\n",
    "    def __gt__(self,other):\n",
    "        return self.value>other.value\n",
    "\n",
    "obj1=Data(10)\n",
    "obj2=Data(20)\n",
    "print(obj1<obj2)\n",
    "print(obj1>obj2)"
   ]
  },
  {
   "cell_type": "code",
   "execution_count": 47,
   "id": "b8dd9a57-1b83-433b-934e-0da889c9f596",
   "metadata": {},
   "outputs": [
    {
     "name": "stdout",
     "output_type": "stream",
     "text": [
      "[[100 110]\n",
      " [120 130]\n",
      " [140 150]\n",
      " [160 170]\n",
      " [180 190]]\n"
     ]
    }
   ],
   "source": [
    "# QB-683\n",
    "# Create a 5X2 integer array from a range between 100 to 200 such that the difference between each element is 10\n",
    "import numpy as np\n",
    "a=np.arange(100,200,10).reshape(5,2)\n",
    "print(a)"
   ]
  },
  {
   "cell_type": "code",
   "execution_count": 51,
   "id": "cce5999e-902f-4c68-998e-1de06abd9b83",
   "metadata": {},
   "outputs": [
    {
     "name": "stdout",
     "output_type": "stream",
     "text": [
      "[33 66 99]\n"
     ]
    }
   ],
   "source": [
    "# QB-684\n",
    "# Following is the provided numPy array. Return array of items by taking the third column from all rows\n",
    "# sampleArray = numpy.array([[11 ,22, 33], [44, 55, 66], [77, 88, 99]])\n",
    "\n",
    "import numpy as np\n",
    "sampleArray = np.array([[11 ,22, 33], [44, 55, 66], [77, 88, 99]])\n",
    "print(sampleArray[0:3,2])"
   ]
  },
  {
   "cell_type": "code",
   "execution_count": 53,
   "id": "db456185-d4d3-4fee-8ba9-ba2fbb1d0ede",
   "metadata": {},
   "outputs": [
    {
     "name": "stdout",
     "output_type": "stream",
     "text": [
      "[[ 6 12]\n",
      " [30 36]\n",
      " [54 60]]\n"
     ]
    }
   ],
   "source": [
    "# QB-685\n",
    "# Return array of odd rows and even columns from below numpy array\n",
    "# sampleArray = numpy.array([[3 ,6, 9, 12], [15 ,18, 21, 24], [27 ,30, 33, 36], [39 ,42, 45, 48], [51 ,54, 57, 60]])\n",
    "\n",
    "import numpy as np\n",
    "a=np.array([[3 ,6, 9, 12], [15 ,18, 21, 24], [27 ,30, 33, 36], [39 ,42, 45, 48], [51 ,54, 57, 60]])\n",
    "print(a[0::2,1::2])"
   ]
  },
  {
   "cell_type": "code",
   "execution_count": null,
   "id": "26868c41-4fdf-4395-8007-b74b9e4f4fe5",
   "metadata": {},
   "outputs": [],
   "source": [
    "# QB-686\n",
    "# Sort following NumPy array\n",
    "# Case 1: Sort array by the second row\n",
    "# Case 2: Sort the array by the second column\n",
    "# sampleArray = numpy.array([[34,43,73],[82,22,12],[53,94,66]])\n",
    "\n",
    "import numpy as np\n",
    "a=np.array([[34,43,73],[82,22,12],[53,94,66]])\n",
    "print(\"Sort by second row:\",a[])"
   ]
  },
  {
   "cell_type": "code",
   "execution_count": 56,
   "id": "443f8c67-8c62-4180-a3aa-69e9406d66c6",
   "metadata": {},
   "outputs": [
    {
     "name": "stdout",
     "output_type": "stream",
     "text": [
      "[82 94 73]\n",
      "[34 12 53]\n"
     ]
    }
   ],
   "source": [
    "# QB-687\n",
    "# Print max from axis 0 and min from axis 1 from the following 2-D array.\n",
    "# sampleArray = numpy.array([[34,43,73],[82,22,12],[53,94,66]])\n",
    "\n",
    "import numpy as np\n",
    "max1=np.max([[34,43,73],[82,22,12],[53,94,66]],axis=0)\n",
    "print(max1)\n",
    "min1=np.min([[34,43,73],[82,22,12],[53,94,66]],axis=1)\n",
    "print(min1)"
   ]
  },
  {
   "cell_type": "code",
   "execution_count": 63,
   "id": "c4f04c07-9ea5-4b1a-aa61-9bae6210870c",
   "metadata": {},
   "outputs": [
    {
     "name": "stdout",
     "output_type": "stream",
     "text": [
      "(array([2], dtype=int64),)\n"
     ]
    }
   ],
   "source": [
    "# QB-688\n",
    "\n",
    "# Write a NumPy array program to convert the values of Fahrenheit degrees into Celsius degrees. The numpy array to be\n",
    "# considered is [0, 12, 45.21, 34, 99.91, 32] for Fahrenheit values.\n",
    "# Values are stored into a NumPy array. After converting the following numpy array into Celsius, then sort the array and find\n",
    "# the position of 0.0 (means where 0.0 value is located i.e. it’s index)\n",
    "# Formula to convert value of Fahrenheit to Celsius is:\n",
    "# C=5*F/9 - 5*32/9\n",
    "# Output:\n",
    "# Values in Fahrenheit degrees:\n",
    "# [ 0. 12. 45.21 34. 99.91 32. ]\n",
    "# Values in Centigrade degrees:\n",
    "# [-17.77777778 -11.11111111 7.33888889 1.11111111 37.72777778\n",
    "#  0. ]\n",
    "# [-17.77777778 -11.11111111 0. 1.11111111 7.33888889\n",
    "#  37.72777778]\n",
    "# (array([2], dtype=int64),)\n",
    "\n",
    "import numpy as np\n",
    "f=np.array([0, 12, 45.21, 34, 99.91, 32])\n",
    "for i in range(len(f)):\n",
    "    f[i]=5*f[i]/9-5*32/9\n",
    "    \n",
    "f=np.sort(f)\n",
    "\n",
    "print(np.where(f==0))\n",
    "\n"
   ]
  },
  {
   "cell_type": "code",
   "execution_count": 112,
   "id": "df3dc5f7-3c0a-4bb7-a21f-3b54f92f3fc1",
   "metadata": {},
   "outputs": [
    {
     "name": "stdout",
     "output_type": "stream",
     "text": [
      "5500.0\n",
      "500\n"
     ]
    }
   ],
   "source": [
    "# QB-691\n",
    "# Write a python program to create a Bus child class that inherits from the Vehicle class.\n",
    "# In Vehicle class vehicle name, mileage and seatingcapacity as its data member. The default fare charge of any vehicle is\n",
    "# seating capacity * 100. If Vehicle is Bus instance, we need to add an extra 10% on full fare as a maintenance charge. So\n",
    "# total fare for bus instance will become the final amount = total fare + 10% of the total fare.\n",
    "# Sample Output:\n",
    "# The bus seating capacity is 50. so, the final fare amount should be 5000+500=5500.\n",
    "# The car seating capacity is 5. so, the final fare amount should be 500\n",
    "\n",
    "class Vehicle:\n",
    "    def __init__(self,vehicle,mileage,seatingcapacity):\n",
    "        self.vehicle=vehicle\n",
    "        self.mileage=mileage\n",
    "        self.seatingcapacity=seatingcapacity\n",
    "        self.charge=self.seatingcapacity*100\n",
    "        \n",
    "\n",
    "    def display(self):\n",
    "        if isinstance(self,Bus):\n",
    "            self.charge+=0.10*self.charge\n",
    "        return self.charge\n",
    "class Bus(Vehicle):\n",
    "   pass\n",
    "\n",
    "obj1=Bus(\"Bus\",12,50)\n",
    "obj2=Vehicle(\"Car\",30,5)\n",
    "print(obj1.display())\n",
    "print(obj2.display())    "
   ]
  },
  {
   "cell_type": "code",
   "execution_count": 88,
   "id": "a5cd7963-b2ee-43de-97fc-d835563f5c9b",
   "metadata": {},
   "outputs": [
    {
     "name": "stdout",
     "output_type": "stream",
     "text": [
      "20\n",
      "50.24\n",
      "False\n"
     ]
    }
   ],
   "source": [
    "# QB-692\n",
    "# Create an abstract class named Shape.\n",
    "# Create an abstract method named calculate_area for the Shape class.\n",
    "# Create Two Classes named Rectangle and Circle which inherit Shape class.\n",
    "# Create calculate_area method in Rectangle class. It should return the area of the rectangle object. (area of rectangle =\n",
    "# (length * breadth))\n",
    "# Create calculate_area method in Circle class. It should return the area of the circle object.\n",
    "# (area of circle =πr^2))\n",
    "# Create objects of Rectangle and Circle class.\n",
    "# The python Program Should also check whether the area of one Rectangle object is greater\n",
    "# than another rectangle object by overloading > operator.\n",
    "# Execute the method resolution order of the Circle class. \n",
    "\n",
    "from abc import ABC,abstractmethod\n",
    "\n",
    "class Shape(ABC):\n",
    "    \n",
    "    @abstractmethod\n",
    "    def calculate_area(self):\n",
    "        pass\n",
    "\n",
    "class Rectangle(Shape):\n",
    "    def __init__(self,l,b):\n",
    "        self.l=l\n",
    "        self.b=b\n",
    "        \n",
    "    def calculate_area(self):\n",
    "        return self.l*self.b\n",
    "\n",
    "    def __gt__(self,other):\n",
    "        return self.calculate_area()>other.calculate_area()\n",
    "    \n",
    "class Circle(Shape):\n",
    "    def __init__(self,r):\n",
    "        self.r=r\n",
    "    def calculate_area(self):\n",
    "        return 3.14*self.r*self.r\n",
    "\n",
    "obj1=Rectangle(10,2)\n",
    "obj2=Circle(4)\n",
    "print(obj1.calculate_area())\n",
    "print(obj2.calculate_area())\n",
    "print(obj1>obj2)\n"
   ]
  },
  {
   "cell_type": "code",
   "execution_count": 113,
   "id": "d6c79abb-cdff-4742-aacd-87a2e77c52a1",
   "metadata": {},
   "outputs": [
    {
     "name": "stdout",
     "output_type": "stream",
     "text": [
      "[[0 0]\n",
      " [0 0]]\n",
      "\n",
      "[[0 0]\n",
      " [0 0]]\n",
      "\n",
      "[[1 2]\n",
      " [3 4]]\n",
      "\n",
      "[[5 6]\n",
      " [7 8]]\n",
      "\n",
      "[[ 6  8]\n",
      " [10 12]]\n",
      "\n",
      "[[19 22]\n",
      " [43 50]]\n",
      "\n"
     ]
    }
   ],
   "source": [
    "# QB-694\n",
    "# Create a class called Matrix containing constructor that initialized the number of rows and number of columns of a new\n",
    "# Matrix object.\n",
    "# The Matrix class has methods for each of the following:\n",
    "# 1. get the number of rows\n",
    "# 2. get the number of columns\n",
    "# 3. set the elements of the matrix at given position (i,j)\n",
    "# 4. adding two matrices. If the matrices are not addable, “ Matrices cannot be added” will be displayed.(Overload the\n",
    "# addition operation to perform this)\n",
    "# 5. Multiplying the two matrices. If the matrices are not multiplied, “ Matrices cannot be multiplied” will be\n",
    "# displayed.(Overload the addition operation to perform this)\n",
    "\n",
    "import numpy as np\n",
    "\n",
    "class Matrix():\n",
    "    def __init__(self,row,column):\n",
    "        self.row=row\n",
    "        self.column=column\n",
    "        self.a=np.array([[0]*self.row*self.column]).reshape(self.row,self.column)\n",
    "\n",
    "    def printMatrix(self):\n",
    "        print(self.a)\n",
    "    \n",
    "    def getrow(self):\n",
    "        return self.row\n",
    "        \n",
    "    def getcolumn(self):\n",
    "        return self.column\n",
    "\n",
    "    def setMatrix(self,i,j,element):\n",
    "        self.a[i][j]=element\n",
    "\n",
    "    def addMatrix(self,other):\n",
    "        return self.a+other.a\n",
    "\n",
    "    def multMatrix(self,other):\n",
    "        return np.dot(self.a,other.a)\n",
    "\n",
    "obj1=Matrix(2,2)\n",
    "obj2=Matrix(2,2)\n",
    "obj1.printMatrix()\n",
    "print()\n",
    "obj2.printMatrix()\n",
    "print()\n",
    "\n",
    "obj1.setMatrix(0,0,1)\n",
    "obj1.setMatrix(0,1,2)\n",
    "obj1.setMatrix(1,0,3)\n",
    "obj1.setMatrix(1,1,4)\n",
    "obj1.printMatrix()\n",
    "print()\n",
    "\n",
    "obj2.setMatrix(0,0,5)\n",
    "obj2.setMatrix(0,1,6)\n",
    "obj2.setMatrix(1,0,7)\n",
    "obj2.setMatrix(1,1,8)\n",
    "obj2.printMatrix()\n",
    "print()\n",
    "\n",
    "print(obj1.addMatrix(obj2))\n",
    "print()\n",
    "print(obj1.multMatrix(obj2))\n",
    "print()"
   ]
  },
  {
   "cell_type": "code",
   "execution_count": 139,
   "id": "170e709b-c14f-4821-920f-77d4c3c37842",
   "metadata": {},
   "outputs": [
    {
     "name": "stdout",
     "output_type": "stream",
     "text": [
      "100\n",
      "34\n",
      "[[ 64  13 100  46  69  85 377]\n",
      " [ 54  43   7  34  17  19 174]\n",
      " [ 73  73  90  77  53  14 380]\n",
      " [ 74  41  41  83  74  95 408]\n",
      " [ 48  31  74  49  67  99 368]]\n"
     ]
    },
    {
     "name": "stderr",
     "output_type": "stream",
     "text": [
      "C:\\Users\\admin\\AppData\\Local\\Temp\\ipykernel_8476\\4055072628.py:49: UserWarning: No artists with labels found to put in legend.  Note that artists whose label start with an underscore are ignored when legend() is called with no argument.\n",
      "  plt.legend()\n"
     ]
    },
    {
     "data": {
      "image/png": "[encoded data removed]",
      "text/plain": [
       "<Figure size 640x480 with 1 Axes>"
      ]
     },
     "metadata": {},
     "output_type": "display_data"
    },
    {
     "name": "stdout",
     "output_type": "stream",
     "text": [
      "[ 64  13 100  46  69  85 377]\n"
     ]
    },
    {
     "data": {
      "image/png": "[encoded data removed]",
      "text/plain": [
       "<Figure size 640x480 with 1 Axes>"
      ]
     },
     "metadata": {},
     "output_type": "display_data"
    },
    {
     "name": "stdout",
     "output_type": "stream",
     "text": [
      "[[1 2 1 2 1 1 1]\n",
      " [1 2 2 2 2 2 1]\n",
      " [1 1 1 1 1 2 1]\n",
      " [1 2 2 1 1 1 1]\n",
      " [2 2 1 2 1 1 1]]\n",
      "[[ 74  41  41  83  74  95 408 816]\n",
      " [ 73  73  90  77  53  14 380 760]\n",
      " [ 64  13 100  46  69  85 377 754]\n",
      " [ 48  31  74  49  67  99 368 736]\n",
      " [ 54  43   7  34  17  19 174 348]]\n",
      "None\n"
     ]
    }
   ],
   "source": [
    "from abc import ABC,abstractmethod\n",
    "class Data(ABC):\n",
    "\n",
    "    @abstractmethod\n",
    "    def abcmethod(self):\n",
    "        print(\"abstract method\")\n",
    "\n",
    "    def __init__(self):\n",
    "        self.Array = np.array([[64,13,100,46,69,85], # 6x5   1X5\n",
    "                               [54,43,7,34,17,19],\n",
    "                               [73,73,90,77,53,14],\n",
    "                               [74,41,41,83,74,95],\n",
    "                               [48,31,74,49,67,99]])\n",
    "        \n",
    "class Match(Data):\n",
    "\n",
    "    def abcmethod(self):\n",
    "        print(\"abstract method\")\n",
    "\n",
    "    def match_highscore(self,match_number):\n",
    "        ans = np.max(self.Array,axis=1) \n",
    "        return ans[match_number-1]\n",
    "\n",
    "    def player_lowscore(self,player_number):\n",
    "        ans = np.min(self.Array,axis=0)\n",
    "        return ans[player_number-1]\n",
    "    \n",
    "    def match_total(self):\n",
    "        ans = np.sum(self.Array,axis=1).reshape(5,1)\n",
    "        self.Array = np.concatenate((self.Array,ans),axis=1)\n",
    "        return self.Array\n",
    "\n",
    "    def sorted_matchtotal_hightolow(self):\n",
    "        ans = np.sum(self.Array,axis=1).reshape(5,1)\n",
    "        self.Array = np.concatenate((self.Array,ans),axis=1)\n",
    "        print(self.Array[np.argsort(self.Array[:,6])[::-1]])\n",
    "\n",
    "\n",
    "    def binary_array(self):\n",
    "        ans = np.where(self.Array>50,1,2)\n",
    "        return ans\n",
    "\n",
    "    def lineplot(self,player1,player2):\n",
    "        x = [1,2,3,4,5]\n",
    "        y1 = self.Array[:,player1-1]\n",
    "        y2 = self.Array[:,player2-1]\n",
    "        plt.plot(x,y1,marker=\"o\",linestyle=\"dotted\",color=\"red\")\n",
    "        plt.plot(x,y2,marker=\"*\",linestyle=\"dashed\",color=\"yellow\")\n",
    "        plt.legend()\n",
    "        plt.show()\n",
    "\n",
    "    def pieplot(self,match_number):\n",
    "        label = ['s1','s2','s3','s4','s5','s6','s7']\n",
    "        ans = self.Array[match_number-1]\n",
    "        print(ans)\n",
    "        plt.pie(ans,labels=label,autopct=\"%1.1f%%\")\n",
    "        plt.legend()\n",
    "        plt.show()\n",
    "\n",
    "mat1 = Match()\n",
    "print(mat1.match_highscore(1))\n",
    "print(mat1.player_lowscore(4))\n",
    "print(mat1.match_total())\n",
    "mat1.lineplot(1,2)\n",
    "mat1.pieplot(1)\n",
    "print(mat1.binary_array())\n",
    "print(mat1.sorted_matchtotal_hightolow())"
   ]
  },
  {
   "cell_type": "code",
   "execution_count": 122,
   "id": "469e5cb8-1896-47c7-9880-fa49778d332a",
   "metadata": {},
   "outputs": [
    {
     "name": "stdout",
     "output_type": "stream",
     "text": [
      "12000\n"
     ]
    }
   ],
   "source": [
    "class A:\n",
    " money=5000\n",
    " def __init__(self):\n",
    "     self.money+=A.money\n",
    "class B(A):\n",
    " def display(self):\n",
    "     self.money+=2000\n",
    "     print(self.money)\n",
    "obj=B()\n",
    "obj.display()"
   ]
  },
  {
   "cell_type": "code",
   "execution_count": 129,
   "id": "a0656b01-1775-4472-9ef3-f191b7d9a779",
   "metadata": {},
   "outputs": [
    {
     "ename": "AttributeError",
     "evalue": "'Match' object has no attribute 'Array'",
     "output_type": "error",
     "traceback": [
      "\u001b[1;31m---------------------------------------------------------------------------\u001b[0m",
      "\u001b[1;31mAttributeError\u001b[0m                            Traceback (most recent call last)",
      "Cell \u001b[1;32mIn[129], line 64\u001b[0m\n\u001b[0;32m     59\u001b[0m         plt\u001b[38;5;241m.\u001b[39mshow()\n\u001b[0;32m     63\u001b[0m mat1 \u001b[38;5;241m=\u001b[39m Match()\n\u001b[1;32m---> 64\u001b[0m \u001b[38;5;28mprint\u001b[39m(\u001b[43mmat1\u001b[49m\u001b[38;5;241;43m.\u001b[39;49m\u001b[43mmatch_highscore\u001b[49m\u001b[43m(\u001b[49m\u001b[38;5;241;43m1\u001b[39;49m\u001b[43m)\u001b[49m)\n\u001b[0;32m     65\u001b[0m \u001b[38;5;28mprint\u001b[39m(mat1\u001b[38;5;241m.\u001b[39mplayer_lowscore(\u001b[38;5;241m4\u001b[39m))\n\u001b[0;32m     66\u001b[0m \u001b[38;5;28mprint\u001b[39m(mat1\u001b[38;5;241m.\u001b[39mbinary_array())\n",
      "Cell \u001b[1;32mIn[129], line 22\u001b[0m, in \u001b[0;36mMatch.match_highscore\u001b[1;34m(self, match_number)\u001b[0m\n\u001b[0;32m     21\u001b[0m \u001b[38;5;28;01mdef\u001b[39;00m\u001b[38;5;250m \u001b[39m\u001b[38;5;21mmatch_highscore\u001b[39m(\u001b[38;5;28mself\u001b[39m,match_number):\n\u001b[1;32m---> 22\u001b[0m     ans \u001b[38;5;241m=\u001b[39m np\u001b[38;5;241m.\u001b[39mmax(\u001b[38;5;28;43mself\u001b[39;49m\u001b[38;5;241;43m.\u001b[39;49m\u001b[43mArray\u001b[49m,axis\u001b[38;5;241m=\u001b[39m\u001b[38;5;241m1\u001b[39m) \n\u001b[0;32m     23\u001b[0m     \u001b[38;5;28;01mreturn\u001b[39;00m ans[match_number\u001b[38;5;241m-\u001b[39m\u001b[38;5;241m1\u001b[39m]\n",
      "\u001b[1;31mAttributeError\u001b[0m: 'Match' object has no attribute 'Array'"
     ]
    }
   ],
   "source": [
    "from abc import ABC,abstractmethod\n",
    "class Data(ABC):\n",
    "\n",
    "    @abstractmethod\n",
    "    def abcmethod(self):\n",
    "        print(\"abstract method\")\n",
    "\n",
    "    def _init_(self):\n",
    "        self.Array = np.array([[64,13,100,46,69,85], # 5x6 5x1\n",
    "                               [54,43,7,34,17,19],\n",
    "                               [73,73,90,77,53,14],\n",
    "                               [74,41,41,83,74,95],\n",
    "                               [48,31,74,49,67,99]])\n",
    "        \n",
    "\n",
    "class Match(Data):\n",
    "\n",
    "    def abcmethod(self):\n",
    "        print(\"abstract method\")\n",
    "\n",
    "    def match_highscore(self,match_number):\n",
    "        ans = np.max(self.Array,axis=1) \n",
    "        return ans[match_number-1]\n",
    "\n",
    "    def player_lowscore(self,player_number):\n",
    "        ans = np.min(self.Array,axis=0)\n",
    "        return ans[player_number-1]\n",
    "    \n",
    "    def match_total(self):\n",
    "        ans = np.sum(self.Array,axis=1).reshape(5,1)\n",
    "        self.Array = np.concatenate((self.Array,ans),axis=1)\n",
    "        return self.Array\n",
    "\n",
    "    def sorted_matchtotal_hightolow(self):\n",
    "        ans = np.sum(self.Array,axis=1).reshape(5,1)\n",
    "        self.Array = np.concatenate((self.Array,ans),axis=1)\n",
    "        print(self.Array[np.argsort(self.Array[:,6])[::-1]])\n",
    "\n",
    "\n",
    "    def binary_array(self):\n",
    "        ans = np.where(self.Array>50,1,2)\n",
    "        return ans\n",
    "\n",
    "    def lineplot(self,player1,player2):\n",
    "        x = [1,2,3,4,5]\n",
    "        y1 = self.Array[:,player1-1]\n",
    "        y2 = self.Array[:,player2-1]\n",
    "        plt.plot(x,y1,marker=\"o\",linestyle=\"dotted\",color=\"red\")\n",
    "        plt.plot(x,y2,marker=\"*\",linestyle=\"dashed\",color=\"yellow\")\n",
    "        plt.legend()\n",
    "        plt.show()\n",
    "\n",
    "    def pieplot(self,match_number):\n",
    "        label = ['s1','s2','s3','s4','s5','s6']\n",
    "        ans = self.Array[match_number-1]\n",
    "        print(ans)\n",
    "        plt.pie(ans,labels=label,autopct=\"%1.1f%%\")\n",
    "        plt.legend()\n",
    "        plt.show()\n",
    "\n",
    "\n",
    "\n",
    "mat1 = Match()\n",
    "print(mat1.match_highscore(1))\n",
    "print(mat1.player_lowscore(4))\n",
    "print(mat1.binary_array())\n",
    "print(mat1.match_total())\n",
    "print(mat1.sorted_matchtotal_hightolow())\n",
    "mat1.lineplot(1,2)\n",
    "mat1.pieplot(1)"
   ]
  },
  {
   "cell_type": "code",
   "execution_count": null,
   "id": "c3aee638-8ab9-4a4e-8d3e-98e249358909",
   "metadata": {},
   "outputs": [],
   "source": []
  }
 ],
 "metadata": {
  "kernelspec": {
   "display_name": "Python 3 (ipykernel)",
   "language": "python",
   "name": "python3"
  },
  "language_info": {
   "codemirror_mode": {
    "name": "ipython",
    "version": 3
   },
   "file_extension": ".py",
   "mimetype": "text/x-python",
   "name": "python",
   "nbconvert_exporter": "python",
   "pygments_lexer": "ipython3",
   "version": "3.10.0"
  }
 },
 "nbformat": 4,
 "nbformat_minor": 5
}
