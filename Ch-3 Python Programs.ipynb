{
 "cells": [
  {
   "cell_type": "code",
   "execution_count": 5,
   "metadata": {},
   "outputs": [
    {
     "name": "stdout",
     "output_type": "stream",
     "text": [
      "1.Convert Celcius to Farenheit\n",
      "2.Convert Farenheit to Celcius\n",
      "Enter your choice : 1\n",
      "Enter the value of celcius : 100\n",
      "Value of 100 in farenheit is 212.0\n"
     ]
    }
   ],
   "source": [
    "# 1. WAP to convert celcius to faren and faren to celcius ,choice by the user.\n",
    "\n",
    "print(\"1.Convert Celcius to Farenheit\")\n",
    "print(\"2.Convert Farenheit to Celcius\")\n",
    "n=int(input(\"Enter your choice : \"))\n",
    "def CelToFar():\n",
    "    c=int(input(\"Enter the value of celcius : \"))\n",
    "    f=(c*9)/5+32\n",
    "    print(\"Value of\",c,\"in farenheit is\",f)\n",
    "def FarToCel():\n",
    "    f=int(input(\"Enter the value of farenheit : \"))\n",
    "    c=(f-32)*(5/9)\n",
    "    print(\"Value of\",f,\"in celcius is\",c)\n",
    "\n",
    "if n==1:\n",
    "    CelToFar()\n",
    "elif n==2:\n",
    "    FarToCel()\n",
    "else:\n",
    "    print(\"Enter valid choice\")"
   ]
  },
  {
   "cell_type": "code",
   "execution_count": 13,
   "metadata": {},
   "outputs": [
    {
     "name": "stdout",
     "output_type": "stream",
     "text": [
      "Enter the number : 1\n",
      "Enter the starting range : 4\n",
      "Enter the ending range : 5\n",
      "Given number is not present\n"
     ]
    }
   ],
   "source": [
    "# 2. WAP to check given number is in the given range or not given by the user.\n",
    "\n",
    "def CheckNumber(n,r1,r2):\n",
    "    if n in range(r1,r2+1):\n",
    "            print(\"Given number is present\")\n",
    "    else:\n",
    "            print(\"Given number is not present\")\n",
    "\n",
    "n=int(input(\"Enter the number : \"))\n",
    "r1=int(input(\"Enter the starting range : \"))\n",
    "r2=int(input(\"Enter the ending range : \"))\n",
    "CheckNumber(n,r1,r2)\n"
   ]
  },
  {
   "cell_type": "code",
   "execution_count": 6,
   "metadata": {},
   "outputs": [
    {
     "name": "stdout",
     "output_type": "stream",
     "text": [
      " 1.Palindrome \n",
      " 2.Armstrong \n",
      " 3.Prime \n",
      " 4.Happy Number\n",
      " Enter your choice : 1\n",
      "Enter the number : 1\n",
      "1\n",
      "Number is a Palindrome number\n"
     ]
    }
   ],
   "source": [
    "# 3. Check for a given 3 digit number,\n",
    "#       1.Palindrome\n",
    "#       2.Armstrong\n",
    "#       3.Prime\n",
    "#       4.Happy Number\n",
    "\n",
    "print(\" 1.Palindrome \\n 2.Armstrong \\n 3.Prime \\n 4.Happy Number\")\n",
    "n=int(input(\" Enter your choice : \"))\n",
    "\n",
    "def Palindrome():\n",
    "    n1=int(input(\"Enter the number : \"))\n",
    "    n2=n1\n",
    "    sum=0\n",
    "    while n1!=0:\n",
    "        x=n1%10\n",
    "        sum=sum*10+x\n",
    "        n1=n1//10\n",
    "    print(sum)\n",
    "    if sum==n2:\n",
    "        print(\"Number is a Palindrome number\")\n",
    "    else:\n",
    "        print(\"Number is not a Palindrome number\")\n",
    "\n",
    "def Armstrong():\n",
    "    n1=int(input(\"Enter the number : \"))\n",
    "    n2=n1\n",
    "    sum=0\n",
    "    while n1!=0:\n",
    "        x=n1%10\n",
    "        sum=sum+x**3\n",
    "        n1=n1//10\n",
    "    print(sum)\n",
    "    if sum==n2:\n",
    "        print(\"Number is a Armstrong number\")\n",
    "    else:\n",
    "        print(\"Number is not a Arsmstrong number\")\n",
    "        \n",
    "def Prime():\n",
    "    n=int(input(\"Enter the number : \"))\n",
    "    c=0\n",
    "    for i in range(1,n+1):\n",
    "        if n%i==0:\n",
    "            c=c+1\n",
    "    if c==2:\n",
    "        print(\"Prime number\")\n",
    "    else:\n",
    "        print(\"Not a Prime number\")\n",
    "    \n",
    "def Happy():\n",
    "    n=int(input(\"Enter the number : \"))\n",
    "    x=n\n",
    "    sum=0\n",
    "    while n!=1:\n",
    "        while n!=0:\n",
    "            x=n%10\n",
    "            sum=sum+x**2\n",
    "            n=n//10\n",
    "        n=sum\n",
    "        sum=0\n",
    "        if n==4:\n",
    "            break\n",
    "    if(n==1):\n",
    "        print(\"happy number\")\n",
    "    else:\n",
    "        print(\"Not happy number\")\n",
    "\n",
    "if n==1:\n",
    "    Palindrome()\n",
    "elif n==2:\n",
    "    Armstrong()\n",
    "elif n==3:\n",
    "    Prime()\n",
    "elif n==4:\n",
    "    Happy()\n",
    "else:\n",
    "    print(\"Invalid input entered\")"
   ]
  },
  {
   "cell_type": "code",
   "execution_count": 10,
   "metadata": {},
   "outputs": [
    {
     "name": "stdout",
     "output_type": "stream",
     "text": [
      "Enter the single digit number : 2\n",
      "111112\n",
      "111121\n",
      "111211\n",
      "112111\n",
      "121111\n",
      "211111\n"
     ]
    }
   ],
   "source": [
    "# 4. WAP that enters a single digit integer number and produces all possible six digit numbers for which \n",
    "#    the product of that digits=the entered number.\n",
    "\n",
    "n=int(input(\"Enter the single digit number : \"))\n",
    "def Check(n):\n",
    "    for i in range(100000,1000000):\n",
    "        temp=i\n",
    "        product=1\n",
    "        while i!=0:\n",
    "            a=i%10\n",
    "            product=product*a\n",
    "            i=i//10\n",
    "        if product==n:\n",
    "            print(temp)\n",
    "Check(n)\n"
   ]
  },
  {
   "cell_type": "code",
   "execution_count": 1,
   "metadata": {},
   "outputs": [],
   "source": [
    "# 5. WAP that prompts the user to enter the number and stops only if the user enter stop.\n",
    "#    After this print min,max,avg of the number\n",
    "\n"
   ]
  },
  {
   "cell_type": "code",
   "execution_count": 13,
   "metadata": {},
   "outputs": [
    {
     "name": "stdout",
     "output_type": "stream",
     "text": [
      "Enter Grade level (A,B,C,D,E,F) : A\n",
      "Enter th city class (1,2,3) : 1\n",
      "110100.0\n",
      "Annual pay :  1321200.0\n",
      "Income Tax :  142800.0\n"
     ]
    }
   ],
   "source": [
    "# Gross pay,Annual Income,Income tax calculator:\n",
    "#    Gross pay consists of:\n",
    "#        -->Basic Pay,HRA,DA,other allowance,Profession tax,provided fund,transport allowance.\n",
    "#        -->Gross Pay=Basic Pay+HRA+DA+other ollawance+Transport allowance-professional Tax-providend Fund\n",
    "#        -->Profession Tax->200 Rs. for each grade level and each month\n",
    "#--------------------------------------------------------------------------------------------------------------------------\n",
    "\n",
    "gradelevel=(input(\"Enter Grade level (A,B,C,D,E,F) : \"))\n",
    "city=int(input(\"Enter th city class (1,2,3) : \"))\n",
    "basicpay=0\n",
    "otherallowance=0\n",
    "\n",
    "if gradelevel=='A':\n",
    "    basicpay=60000\n",
    "    otherallowance=8000\n",
    "elif gradelevel=='B':\n",
    "    basicpay=50000\n",
    "    otherallowance=7000\n",
    "elif gradelevel=='C':\n",
    "    basicpay=40000\n",
    "    otherallowance=6000\n",
    "elif gradelevel=='D':\n",
    "    basicpay=30000\n",
    "    otherallowance=5000\n",
    "elif gradelevel=='E':\n",
    "    basicpay=20000\n",
    "    otherallowance=4000\n",
    "elif gradelevel=='F':\n",
    "    basicpay=10000\n",
    "    otherallowance=3000\n",
    "else:\n",
    "    print(\"Enter a valid grade level\")\n",
    "\n",
    "provindedfund=0.11*(basicpay)\n",
    "da=0.5*(basicpay)\n",
    "professionaltax=200\n",
    "hra=0\n",
    "transportallowance=900\n",
    "\n",
    "if city==1:\n",
    "    hra=0.3*(basicpay)\n",
    "elif city==2:\n",
    "    hra=0.2*(basicpay)\n",
    "elif city==3:\n",
    "    hra=0.1*(basicpay)\n",
    "else:\n",
    "    print(\"Invalid city level entered\")\n",
    "    \n",
    "grosspay=basicpay+hra+da+otherallowance+transportallowance-professionaltax-provindedfund\n",
    "print(grosspay)\n",
    "\n",
    "annualpay=grosspay*12\n",
    "print(\"Annual pay : \",annualpay)\n",
    "\n",
    "annualtax=0\n",
    "\n",
    "if annualpay<=250000:\n",
    "    incometax=0\n",
    "elif annualpay in range(250001,500000+1):\n",
    "    incometax=0.5*(annualpay-25000)\n",
    "elif annualpay in range(500001,750000+1):\n",
    "    incometax=0.10*(annualpay-500000)+12500\n",
    "elif annualpay in range(750001,1000000+1):\n",
    "    incometax=0.15*(annualpay-750000)+37500\n",
    "elif annualpay in range(1000001,1250000+1):\n",
    "    incometax=0.20*(annualpay-1000000)+75000\n",
    "elif annualpay in range(1250001,1500000+1):\n",
    "    incometax=0.25*(annualpay-1250000)+125000\n",
    "elif annualpay >=1500001:\n",
    "    incometax=0.30*(annualpay-1500000)+187500\n",
    "else:\n",
    "    print(\"Inavlid annual tax entered\")\n",
    "print(\"Income Tax : \",incometax)\n"
   ]
  },
  {
   "cell_type": "code",
   "execution_count": 14,
   "metadata": {},
   "outputs": [
    {
     "ename": "SyntaxError",
     "evalue": "invalid syntax (<ipython-input-14-90ba482fcb3b>, line 7)",
     "output_type": "error",
     "traceback": [
      "\u001b[1;36m  File \u001b[1;32m\"<ipython-input-14-90ba482fcb3b>\"\u001b[1;36m, line \u001b[1;32m7\u001b[0m\n\u001b[1;33m    if mo\u001b[0m\n\u001b[1;37m         ^\u001b[0m\n\u001b[1;31mSyntaxError\u001b[0m\u001b[1;31m:\u001b[0m invalid syntax\n"
     ]
    }
   ],
   "source": [
    "# WAP to get next date of a given date.\n",
    "\n",
    "year=int(input(\"Enter the year : \"))\n",
    "month=int(input(\"Enter the month : \"))\n",
    "day=int(input(\"Enter the day : \"))\n",
    "\n",
    "if mo\n",
    "\n",
    "if ( year % 4 == 0 and year % 100 != 0 ) or ( year % 400 == 0 ):\n",
    "    \n",
    "    "
   ]
  },
  {
   "cell_type": "code",
   "execution_count": 20,
   "metadata": {},
   "outputs": [
    {
     "ename": "IndentationError",
     "evalue": "expected an indented block (<ipython-input-20-53cfdf8ac931>, line 16)",
     "output_type": "error",
     "traceback": [
      "\u001b[1;36m  File \u001b[1;32m\"<ipython-input-20-53cfdf8ac931>\"\u001b[1;36m, line \u001b[1;32m16\u001b[0m\n\u001b[1;33m    print(n)\u001b[0m\n\u001b[1;37m            ^\u001b[0m\n\u001b[1;31mIndentationError\u001b[0m\u001b[1;31m:\u001b[0m expected an indented block\n"
     ]
    }
   ],
   "source": [
    "# WAP\n",
    "\n",
    "n=input(\"Enter the number : \")\n",
    "\n",
    "c=0\n",
    "for i in str(n):\n",
    "    c+=1;\n",
    "print(c)\n",
    "\n",
    "for i in range(1,c+1):\n",
    "    if char(i)==48:\n",
    "        n1=;\n",
    "        \n",
    "    else:\n",
    "        \n",
    "print(n)\n",
    "\n",
    "\n",
    "\n",
    "\n",
    "\n",
    "\n",
    "\n",
    "\n",
    "\n",
    "\n",
    "\n",
    "\n",
    "\n",
    "\n",
    "\n",
    "\n",
    "\n",
    "\n",
    "\n",
    "\n",
    "\n"
   ]
  },
  {
   "cell_type": "code",
   "execution_count": null,
   "metadata": {},
   "outputs": [],
   "source": []
  }
 ],
 "metadata": {
  "kernelspec": {
   "display_name": "Python 3",
   "language": "python",
   "name": "python3"
  },
  "language_info": {
   "codemirror_mode": {
    "name": "ipython",
    "version": 3
   },
   "file_extension": ".py",
   "mimetype": "text/x-python",
   "name": "python",
   "nbconvert_exporter": "python",
   "pygments_lexer": "ipython3",
   "version": "3.8.5"
  }
 },
 "nbformat": 4,
 "nbformat_minor": 4
}
