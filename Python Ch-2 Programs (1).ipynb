{
 "cells": [
  {
   "cell_type": "markdown",
   "metadata": {},
   "source": [
    "## Ch-2 Condition Execution and Iteration"
   ]
  },
  {
   "cell_type": "code",
   "execution_count": 3,
   "metadata": {},
   "outputs": [
    {
     "name": "stdout",
     "output_type": "stream",
     "text": [
      "Enter name : gg\n",
      "how are you ? \n"
     ]
    }
   ],
   "source": [
    "# if statement\n",
    "\n",
    "name=input(\"Enter name : \")\n",
    "if name==\"divy\" :\n",
    "    print(\"hii divy, how are you ? \")\n",
    "print(\"how are you ? \")"
   ]
  },
  {
   "cell_type": "code",
   "execution_count": 6,
   "metadata": {},
   "outputs": [
    {
     "name": "stdout",
     "output_type": "stream",
     "text": [
      "Enter name : dd\n",
      "how are you ? \n"
     ]
    }
   ],
   "source": [
    "# if-else statement\n",
    "\n",
    "name=input(\"Enter name : \")\n",
    "if name==\"divy\" :\n",
    "    print(\"hii divy, how are you ? \")\n",
    "else:\n",
    "    print(\"how are you ? \")\n"
   ]
  },
  {
   "cell_type": "code",
   "execution_count": 9,
   "metadata": {},
   "outputs": [
    {
     "name": "stdout",
     "output_type": "stream",
     "text": [
      "Enter 1st number : 1\n",
      "Enter 2st number : 1\n",
      "Enter 3st number : 1\n",
      "Biggest number is  1\n"
     ]
    }
   ],
   "source": [
    "# if-elif-else\n",
    "\n",
    "n1=int(input(\"Enter 1st number : \"))\n",
    "n2=int(input(\"Enter 2st number : \"))\n",
    "n3=int(input(\"Enter 3st number : \"))\n",
    "\n",
    "if n1>n2 and n1>n3:\n",
    "        print(\"Biggest number is \",n1)\n",
    "elif n2>n3:\n",
    "    print(\"Biggest number is \",n2)\n",
    "else:\n",
    "    print(\"Biggest number is \",n3)\n",
    "    "
   ]
  },
  {
   "cell_type": "code",
   "execution_count": 11,
   "metadata": {},
   "outputs": [
    {
     "name": "stdout",
     "output_type": "stream",
     "text": [
      "above 10\n",
      "and also above 20\n"
     ]
    }
   ],
   "source": [
    "# nested-if\n",
    "\n",
    "x=41\n",
    "if x>10 :\n",
    "    print(\"above 10\")\n",
    "    if x>20:\n",
    "        print(\"and also above 20\")\n",
    "    else:\n",
    "        print(\"not above 20\")\n",
    "else:\n",
    "    print(\"below 10\")"
   ]
  },
  {
   "cell_type": "code",
   "execution_count": 22,
   "metadata": {},
   "outputs": [
    {
     "name": "stdout",
     "output_type": "stream",
     "text": [
      "d\n",
      "i\n",
      "v\n",
      "y\n",
      "\n",
      "d i v y \n",
      "divy divy divy "
     ]
    }
   ],
   "source": [
    "# for loop\n",
    "\n",
    "a=\"divy\"\n",
    "for i in a:\n",
    "    print(i)\n",
    "print(\"\")\n",
    "for i in a:\n",
    "    print(i,end=\" \")\n",
    "print(\"\")\n",
    "for i in range(3):\n",
    "    print(a,end=\" \")"
   ]
  },
  {
   "cell_type": "code",
   "execution_count": 32,
   "metadata": {},
   "outputs": [
    {
     "name": "stdout",
     "output_type": "stream",
     "text": [
      "10 9 8 7 6 5 4 3 2 1 "
     ]
    }
   ],
   "source": [
    "for i in range(10,0,-1):\n",
    "    print(i,end=\" \")"
   ]
  },
  {
   "cell_type": "code",
   "execution_count": 9,
   "metadata": {},
   "outputs": [
    {
     "name": "stdout",
     "output_type": "stream",
     "text": [
      "hello\n",
      "hello\n",
      "hello\n",
      "hello\n",
      "hello\n"
     ]
    }
   ],
   "source": [
    "i=0;\n",
    "while i!=5:\n",
    "    print(\"hello\")\n",
    "    i=i+1;\n",
    "#     i++; it will give error"
   ]
  },
  {
   "cell_type": "code",
   "execution_count": 13,
   "metadata": {},
   "outputs": [
    {
     "name": "stdout",
     "output_type": "stream",
     "text": [
      "Enter name : s\n",
      "Enter name : divy\n",
      "Thanks for confirmation\n"
     ]
    }
   ],
   "source": [
    "# \n",
    "name=\"\"\n",
    "while name!=\"divy\":\n",
    "    name=input(\"Enter name : \")\n",
    "print(\"Thanks for confirmation\")"
   ]
  },
  {
   "cell_type": "code",
   "execution_count": 15,
   "metadata": {},
   "outputs": [
    {
     "name": "stdout",
     "output_type": "stream",
     "text": [
      "i= 0  j= 0\n",
      "i= 0  j= 1\n",
      "i= 1  j= 0\n",
      "i= 1  j= 1\n"
     ]
    }
   ],
   "source": [
    "for i in range(2):\n",
    "    for j in range(2):\n",
    "        print(\"i=\",i,\" j=\",j)"
   ]
  },
  {
   "cell_type": "code",
   "execution_count": 17,
   "metadata": {},
   "outputs": [
    {
     "name": "stdout",
     "output_type": "stream",
     "text": [
      "0\n",
      "1\n",
      "2\n",
      "3\n",
      "4\n",
      "stop here\n"
     ]
    }
   ],
   "source": [
    "for i in range(10):\n",
    "    if(i==5):\n",
    "        print(\"stop here\")\n",
    "        break\n",
    "    print(i)"
   ]
  },
  {
   "cell_type": "code",
   "execution_count": 19,
   "metadata": {},
   "outputs": [
    {
     "name": "stdout",
     "output_type": "stream",
     "text": [
      "1\n",
      "3\n",
      "5\n",
      "7\n",
      "9\n"
     ]
    }
   ],
   "source": [
    "for i in range(10):\n",
    "    if i%2==0:\n",
    "        continue\n",
    "    print(i)"
   ]
  },
  {
   "cell_type": "code",
   "execution_count": 22,
   "metadata": {},
   "outputs": [],
   "source": [
    "if True:\n",
    "    pass\n",
    "def test():\n",
    "    pass"
   ]
  },
  {
   "cell_type": "code",
   "execution_count": 5,
   "metadata": {},
   "outputs": [
    {
     "name": "stdout",
     "output_type": "stream",
     "text": [
      "Enter letter : e\n",
      "e  is vowel\n"
     ]
    }
   ],
   "source": [
    "# WAP to check if the given character is vowels or consonents\n",
    "\n",
    "c=input(\"Enter letter : \")\n",
    "# if c=='a' or c=='A' or c=='e' or c=='E' or c=='i' or c=='I' or c=='o' or c=='O' or c=='u' or c=='U':\n",
    "if c in 'aeiouAEIOU':\n",
    "    print(c,\" is vowel\")\n",
    "else:\n",
    "    print(c,\" is consonent\")"
   ]
  },
  {
   "cell_type": "code",
   "execution_count": 3,
   "metadata": {},
   "outputs": [
    {
     "name": "stdout",
     "output_type": "stream",
     "text": [
      "Enter the year : 2020\n",
      "2020  is a leap year\n"
     ]
    }
   ],
   "source": [
    "# WAP to find the given year is leap year or not.\n",
    "\n",
    "y=int(input(\"Enter the year : \"))\n",
    "if (y%4==0 and y%100!=0) or (y%400==0):\n",
    "    print(y,\" is a leap year\")\n",
    "else:\n",
    "    print(y,\" is not a leap year\")"
   ]
  },
  {
   "cell_type": "code",
   "execution_count": 6,
   "metadata": {},
   "outputs": [
    {
     "name": "stdout",
     "output_type": "stream",
     "text": [
      "Enter 1st number : 4\n",
      "Enter 2st number : 5\n",
      "Enter your choice (+,-,/,*,//,%,**) : /**\n",
      "Invalid input entered\n"
     ]
    }
   ],
   "source": [
    "# WAP to perform airthmetic operation acc. to the choices given.\n",
    "\n",
    "a=int(input(\"Enter 1st number : \"))\n",
    "b=int(input(\"Enter 2st number : \"))\n",
    "ch=input(\"Enter your choice (+,-,/,*,//,%,**) : \")\n",
    "if(ch=='+'):\n",
    "    print(\"Addition of a and b : \",a+b)\n",
    "elif(ch=='-'):\n",
    "    print(\"Substraction of a and b : \",a-b)\n",
    "elif(ch=='/'):\n",
    "    print(\"Division of a and b : \",a/b)\n",
    "elif(ch=='*'):\n",
    "    print(\"Multiplication of a and b : \",a*b)\n",
    "elif(ch=='//'):\n",
    "    print(\"FLoor divison of a and b : \",a//b)\n",
    "elif(ch=='%'):\n",
    "    print(\"Modulos of a and b : \",a%b)\n",
    "elif(ch=='**'):\n",
    "    print(\"Exponent of a and b : \",a**b)\n",
    "else:\n",
    "    print(\"Invalid input entered\")"
   ]
  },
  {
   "cell_type": "code",
   "execution_count": 17,
   "metadata": {},
   "outputs": [
    {
     "name": "stdout",
     "output_type": "stream",
     "text": [
      "Enter the marks of subject : 70\n",
      "Enter the marks of subject : 70\n",
      "Enter the marks of subject : 70\n",
      "your average is  70.0  %\n",
      "You got First class\n"
     ]
    }
   ],
   "source": [
    "# WAP to give grade acc. to the marks entered by the user.\n",
    "sum=0;\n",
    "for i in range(1,4):\n",
    "    m=int(input(\"Enter the marks of subject : \"))\n",
    "    sum=sum+m\n",
    "avg=sum/3\n",
    "print(\"your average is \",avg,\"%\")\n",
    "if(avg>=80 and avg<=100):\n",
    "    print(\"You got Distinction\")\n",
    "elif(avg>=60 and avg<=79):\n",
    "    print(\"You got First class\")\n",
    "elif(avg>=35 and avg<=59):\n",
    "    print(\"You got Second class\")\n",
    "elif(avg>=0 and avg<=34):\n",
    "    print(\"You are Failed\")\n",
    "else:\n",
    "    print(\"Enter valid input\")"
   ]
  },
  {
   "cell_type": "code",
   "execution_count": null,
   "metadata": {},
   "outputs": [],
   "source": [
    "# WAP to calculate electricity bill based on the number units entered by the user.\n",
    "\n",
    "unit=int(input(\"Enter the number of units : \"))\n",
    "if(unit<100!=0):\n",
    "    print(\"No charge for first 100 units\")\n",
    "    unit=unit-100\n",
    "    print(unit)\n",
    "if(unit//100!=0 and unit!=0):\n",
    "    print(\"Rs 5 per unit is the charge\")\n",
    "    for i in range(1,101):\n",
    "        amount=unit*5\n",
    "    unit=unit-100\n",
    "    print(unit)\n",
    "    print(amount)\n",
    "else:\n",
    "    print(\"RS 10 per unit is the charge\")\n",
    "    amount=unit*10\n",
    "    "
   ]
  },
  {
   "cell_type": "code",
   "execution_count": 2,
   "metadata": {},
   "outputs": [
    {
     "name": "stdout",
     "output_type": "stream",
     "text": [
      "Enter the number : 133\n",
      "Divisible by 3\n"
     ]
    }
   ],
   "source": [
    "# WAP to check the last digit entered by the user is divisible by 3 or not.\n",
    "\n",
    "n=int(input(\"Enter the number : \"))\n",
    "n=n%10\n",
    "if(n%3==0):\n",
    "    print(\"Divisible by 3\")\n",
    "else:\n",
    "    print(\"not divisible by 3\")"
   ]
  },
  {
   "cell_type": "code",
   "execution_count": 6,
   "metadata": {},
   "outputs": [
    {
     "name": "stdout",
     "output_type": "stream",
     "text": [
      "Enter the number : 123\n",
      "Number of digits :  3\n",
      "Middle digit :  2\n"
     ]
    }
   ],
   "source": [
    "#WAP to check whether a number enetered by user is a 3 digit number or not.\n",
    "#if the number is 3 digit then you need to display the middle digit of the number\n",
    "\n",
    "n=int(input(\"Enter the number : \"))\n",
    "n1=n\n",
    "c=0\n",
    "# for i in range str(n):\n",
    "while n!=0:\n",
    "    n=n//10\n",
    "    c=c+1;\n",
    "print(\"Number of digits : \",c)\n",
    "\n",
    "m;\n",
    "if c==3:\n",
    "    m=(n1//10)%10\n",
    "    print(\"Middle digit : \",m)\n",
    "else:\n",
    "    print(\"Number is not a 3 digit number\")\n"
   ]
  },
  {
   "cell_type": "code",
   "execution_count": 4,
   "metadata": {},
   "outputs": [
    {
     "name": "stdout",
     "output_type": "stream",
     "text": [
      "Enter the cost price of the bike : 55000\n",
      "road tax :  5500.0\n",
      "Total cost of bike is  60500.0\n"
     ]
    }
   ],
   "source": [
    "#WAP to accept a cost price of a bike and display the road tax to be paid,also display the total cost of the bike\n",
    "# > 100000  15% tax, >50000 and <=100000 10% tax ,<=50000 5% tax\n",
    "\n",
    "costprice=int(input(\"Enter the cost price of the bike : \"))\n",
    "if costprice>100000:\n",
    "    print(\"road tax : \",costprice*0.15)\n",
    "    print(\"Total cost of bike is \",costprice+costprice*0.15)\n",
    "    \n",
    "elif costprice>50000 and costprice<=100000 :\n",
    "    print(\"road tax : \",costprice*0.10)\n",
    "    print(\"Total cost of bike is \",costprice+costprice*0.10)\n",
    "    \n",
    "elif costprice<=50000 :\n",
    "    print(\"road tax : \",costprice*0.05)\n",
    "    print(\"Total cost of bike is \",costprice+costprice*0.05)\n",
    "\n",
    "else:\n",
    "    print(\"Enter valid input\")"
   ]
  },
  {
   "cell_type": "code",
   "execution_count": 11,
   "metadata": {},
   "outputs": [
    {
     "name": "stdout",
     "output_type": "stream",
     "text": [
      "Enter number of working days : 100\n",
      "Enter number of absent days : 20\n",
      "percentage :  80.0 %\n"
     ]
    }
   ],
   "source": [
    "# WAP to accept the following from the user and calculate th class attendence:\n",
    "#   Total no. of working days\n",
    "#   Total no. of days for absent\n",
    "#\n",
    "# After calculating the precentage if the percentage is less than 75 then you are not eligible for exam \n",
    "# otherwise you are eligible for exam.\n",
    "\n",
    "wd=int(input(\"Enter number of working days : \"))\n",
    "ad=int(input(\"Enter number of absent days : \"))\n",
    "\n",
    "if ad>wd:\n",
    "    print(\"Invalid number of days entered\")\n",
    "else:\n",
    "    per=(wd-ad)*100/wd\n",
    "    print(\"percentage : \",per,\"%\")"
   ]
  },
  {
   "cell_type": "code",
   "execution_count": 24,
   "metadata": {},
   "outputs": [
    {
     "name": "stdout",
     "output_type": "stream",
     "text": [
      "Enter the 1st side : 4\n",
      "Enter the 2st side : 5\n",
      "Enter the 3st side : 6\n",
      "It is a Scalene triangle \n"
     ]
    }
   ],
   "source": [
    "# WAP \n",
    "\n",
    "s1=float(input(\"Enter the 1st side : \"))\n",
    "s2=float(input(\"Enter the 2st side : \"))\n",
    "s3=float(input(\"Enter the 3st side : \"))\n",
    "\n",
    "if(s1==s2 and s2==s3):\n",
    "    print(\"It is a equilateral\")\n",
    "elif(s1==s2 or s2==s3 or s3==1):\n",
    "    print(\"It is a Isosceles triangle\")\n",
    "elif(s1!=s2 and s2!=s3):\n",
    "    print(\"It is a Scalene triangle \")\n",
    "else:\n",
    "    print(\"Invalid input entered\")"
   ]
  },
  {
   "cell_type": "code",
   "execution_count": null,
   "metadata": {},
   "outputs": [],
   "source": [
    "# WAP to accept the age , gender and number of days and diplay the wages acc.\n",
    "\n",
    "age=int(input(\"Enter age : \"))\n",
    "gender=input(\"Enter gender(M/F) : \")\n",
    "days=int(input(\"Enter no. of days : \"))\n",
    "if age>=18 and age<30:\n",
    "    if gender in 'mM':\n",
    "        print(\"Total wages : \",days*700)\n",
    "    else:\n",
    "        print(\"Total wages : \",days*750)\n",
    "elif age>=30 and age<=40:\n",
    "    if gender in 'mM':\n",
    "        print(\"Total wages : \",days*800)\n",
    "    else:\n",
    "        print(\"Total wages : \",days*850)\n",
    "else:\n",
    "    print(\"U are under age \")\n",
    "    "
   ]
  },
  {
   "cell_type": "markdown",
   "metadata": {},
   "source": [
    "## Date : 9-10-24\n"
   ]
  },
  {
   "cell_type": "code",
   "execution_count": 4,
   "metadata": {},
   "outputs": [
    {
     "name": "stdout",
     "output_type": "stream",
     "text": [
      "Enter 1st number : 1\n",
      "Enter 2st number : 20\n",
      "Enter 3st number : 3\n",
      "Number between  1  and  20  is  6\n"
     ]
    }
   ],
   "source": [
    "# WAP to read numbers and check how many numbers are available b/w first two numbers are divisible by two numbers.\n",
    "\n",
    "num1=int(input(\"Enter 1st number : \"))\n",
    "num2=int(input(\"Enter 2st number : \"))\n",
    "num3=int(input(\"Enter 3st number : \"))\n",
    "count=0;\n",
    "for i in range(num1,num2):\n",
    "    if i%num3==0:\n",
    "        count=count+1;\n",
    "    else:\n",
    "        pass\n",
    "print(\"Number between \",num1,\" and \",num2,\" is \",count)"
   ]
  },
  {
   "cell_type": "code",
   "execution_count": 8,
   "metadata": {},
   "outputs": [
    {
     "name": "stdout",
     "output_type": "stream",
     "text": [
      "Enter the number till which you want the addition : 10\n",
      "Addition :  55\n",
      "Average :  5.5\n"
     ]
    }
   ],
   "source": [
    "# WAP to find sum of n numbers and also find average of that.\n",
    "\n",
    "num1=int(input(\"Enter the number till which you want the addition : \"))\n",
    "sum=0\n",
    "for i in range(0,num1+1):\n",
    "    sum=sum+i\n",
    "print(\"Addition : \",sum)\n",
    "print(\"Average : \",sum/num1)\n",
    "    "
   ]
  },
  {
   "cell_type": "code",
   "execution_count": 12,
   "metadata": {},
   "outputs": [
    {
     "name": "stdout",
     "output_type": "stream",
     "text": [
      "Enter the table you want to print : 5\n",
      "5  *  1  =  5\n",
      "5  *  2  =  10\n",
      "5  *  3  =  15\n",
      "5  *  4  =  20\n",
      "5  *  5  =  25\n",
      "5  *  6  =  30\n",
      "5  *  7  =  35\n",
      "5  *  8  =  40\n",
      "5  *  9  =  45\n",
      "5  *  10  =  50\n"
     ]
    }
   ],
   "source": [
    "x=int(input(\"Enter the table you want to print : \"))\n",
    "for i in range(1,11):\n",
    "    print(x,\" * \",i,\" = \",x*i)"
   ]
  },
  {
   "cell_type": "code",
   "execution_count": 20,
   "metadata": {},
   "outputs": [
    {
     "name": "stdout",
     "output_type": "stream",
     "text": [
      "a^x=n,\n",
      "Enter the value of a : 2\n",
      "Enter the value of n : 1\n",
      "Value of x :  0\n"
     ]
    }
   ],
   "source": [
    "# WAP a python program to find an integer exponent x such that a^x=n\n",
    "print(\"a^x=n,\")\n",
    "a=int(input(\"Enter the value of a : \"))\n",
    "n=int(input(\"Enter the value of n : \"))\n",
    "x=0;\n",
    "c=0;\n",
    "while c!=1:\n",
    "    if a**x==n:\n",
    "        print(\"Value of x : \",x)\n",
    "        c=1\n",
    "    else:\n",
    "        x=x+1;\n"
   ]
  },
  {
   "cell_type": "code",
   "execution_count": 25,
   "metadata": {},
   "outputs": [
    {
     "name": "stdout",
     "output_type": "stream",
     "text": [
      "Enter the number n : 3\n",
      "Factorial of  3  is  6\n"
     ]
    }
   ],
   "source": [
    "# WAP to fins the factorial of the given number.\n",
    "\n",
    "num=int(input(\"Enter the number n : \"))\n",
    "sum=1;\n",
    "if num<0:\n",
    "    print(\"Factorial of +ve numbers is only allowed\")\n",
    "elif num==1 or num==0:\n",
    "    print(\"Factorial of \",num,\" : 1\")\n",
    "else:\n",
    "    for i in range(1,num+1):\n",
    "        sum=sum*i\n",
    "    print(\"Factorial of \",num,\" is \",sum)\n",
    "        \n"
   ]
  },
  {
   "cell_type": "code",
   "execution_count": 47,
   "metadata": {},
   "outputs": [
    {
     "name": "stdout",
     "output_type": "stream",
     "text": [
      "Enter the value of n : 10\n",
      "Fibonacci series of  10 th term : \n",
      "0 1 1 2 3 5 8 13 21 34 "
     ]
    }
   ],
   "source": [
    "# WAP to display fibonacci sequence u to nth term\n",
    "\n",
    "n=int(input(\"Enter the value of n : \"))\n",
    "a=0\n",
    "b=1\n",
    "sum=0\n",
    "if n<=0:\n",
    "    print(\"Invalid number entered\")\n",
    "elif n==1:\n",
    "    print(\"Fibonacci series of \",n,\"th term : 0\")\n",
    "else:\n",
    "    print(\"Fibonacci series of \",n,\"th term : \")\n",
    "    print(a,b,end=\" \")\n",
    "for i in range(2,n):\n",
    "    sum=a+b\n",
    "    print(sum,end=\" \")\n",
    "    a=b\n",
    "    b=sum\n",
    "    "
   ]
  },
  {
   "cell_type": "code",
   "execution_count": 1,
   "metadata": {},
   "outputs": [
    {
     "name": "stdout",
     "output_type": "stream",
     "text": [
      "Enter the 1st number : 1\n",
      "Enter the 2st number : 1\n",
      "Enter the 3st number : 1\n",
      "Enter the 4st number : 1\n",
      "Enter the 5st number : 1\n",
      "Enter the 6st number : 1\n",
      "Enter the 7st number : 1\n",
      "Enter the 8st number : 1\n",
      "Enter the 9st number : 1\n",
      "Enter the 10st number : 1\n",
      "Addition :  10\n",
      "Average :  1.0\n"
     ]
    }
   ],
   "source": [
    "# WAP to take 10 no. from user and display their sum and avg.\n",
    "\n",
    "sum=0\n",
    "for i in range(0,10):\n",
    "    a=int(input(f\"Enter the {i+1}st number : \"))\n",
    "    sum=sum+a\n",
    "print(\"Addition : \",sum)\n",
    "print(\"Average : \",sum/10)\n"
   ]
  },
  {
   "cell_type": "code",
   "execution_count": 5,
   "metadata": {},
   "outputs": [
    {
     "name": "stdout",
     "output_type": "stream",
     "text": [
      "Enter the 1st number : 1\n",
      "Enter the 2st number : 2\n",
      "Enter the 3st number : 1\n",
      "Enter the 4st number : 2\n",
      "Enter the 5st number : 1\n",
      "\n",
      "EVEN Sum :  4\n",
      "ODD Sum :  3\n"
     ]
    }
   ],
   "source": [
    "# WAP to count total odd and even number and also to do sum of them\n",
    "evensum=0\n",
    "oddsum=0\n",
    "for i in range(0,5):\n",
    "    a=int(input(f\"Enter the {i+1}st number : \"))\n",
    "    if a%2==0:\n",
    "        evensum=evensum+a\n",
    "    else:\n",
    "        oddsum=oddsum+a\n",
    "print(\"\")\n",
    "print(\"EVEN Sum : \",evensum)\n",
    "print(\"ODD Sum : \",oddsum)"
   ]
  },
  {
   "cell_type": "code",
   "execution_count": 7,
   "metadata": {},
   "outputs": [
    {
     "name": "stdout",
     "output_type": "stream",
     "text": [
      "Enter the 1st number : 1\n",
      "Enter the 2st number : 2\n",
      "Enter the 3st number : 1\n",
      "Enter the 4st number : -2\n",
      "Enter the 5st number : -1\n",
      "\n",
      "Sum :  4\n"
     ]
    }
   ],
   "source": [
    "sum=0\n",
    "for i in range(0,5):\n",
    "    a=int(input(f\"Enter the {i+1}st number : \"))\n",
    "    if a>=0:\n",
    "       sum=sum+a\n",
    "    else:\n",
    "        pass\n",
    "print(\"\")\n",
    "print(\"Sum : \",sum)"
   ]
  },
  {
   "cell_type": "code",
   "execution_count": 9,
   "metadata": {},
   "outputs": [
    {
     "name": "stdout",
     "output_type": "stream",
     "text": [
      "Enter the number : 12\n",
      "Reversed number :  21\n",
      "It is not a palindrome number\n"
     ]
    }
   ],
   "source": [
    "# WAP to find reversed number of the number provided by the user.\n",
    "\n",
    "n=int(input(\"Enter the number : \"))\n",
    "n2=n\n",
    "n1=0\n",
    "rev=0\n",
    "while(n!=0):\n",
    "    n1=n%10\n",
    "    rev=(rev*10)+n1\n",
    "    n=n//10\n",
    "print(\"Reversed number : \",rev)\n",
    "if rev==n2:\n",
    "    print(\"It is a palindrome number\")\n",
    "else:\n",
    "    print(\"It is not a palindrome number\")\n",
    "\n",
    "    "
   ]
  },
  {
   "cell_type": "code",
   "execution_count": 19,
   "metadata": {},
   "outputs": [
    {
     "name": "stdout",
     "output_type": "stream",
     "text": [
      "Enter the number : 153\n",
      "3\n",
      "It is a armstrong number\n"
     ]
    }
   ],
   "source": [
    "# WAP to check given number is armstrong number or not.\n",
    "\n",
    "n=int(input(\"Enter the number : \"))\n",
    "n1=n\n",
    "t=n\n",
    "n2=0\n",
    "c=0\n",
    "arms=0\n",
    "while n!=0:\n",
    "    n=n//10\n",
    "    c=c+1\n",
    "print(c)\n",
    "while(n1!=0):\n",
    "    n2=n1%10\n",
    "    arms=arms+n2**c\n",
    "    n1=n1//10\n",
    "if arms==t:\n",
    "    print(\"It is a armstrong number\")\n",
    "else:\n",
    "    print(\"It is not a armstrong number\")\n"
   ]
  },
  {
   "cell_type": "code",
   "execution_count": 36,
   "metadata": {},
   "outputs": [
    {
     "name": "stdout",
     "output_type": "stream",
     "text": [
      "Enter the starting number : 1\n",
      "Enter the ending number : 21\n",
      "Prime number : 2 3 5 7 11 13 17 19 "
     ]
    }
   ],
   "source": [
    "# WAP to check the prime number in the given range\n",
    "\n",
    "n1=int(input(\"Enter the starting number : \"))\n",
    "n2=int(input(\"Enter the ending number : \"))\n",
    "print(\"Prime number :\",end=\" \")\n",
    "for i in range(n1,n2+1):\n",
    "    c=0\n",
    "    for j in range(1,i+1):\n",
    "        if i%j==0:\n",
    "            c=c+1\n",
    "    if c==2:\n",
    "        print(i,end=\" \")"
   ]
  },
  {
   "cell_type": "code",
   "execution_count": 1,
   "metadata": {},
   "outputs": [
    {
     "name": "stdout",
     "output_type": "stream",
     "text": [
      "Enter the number : 12\n",
      "Not a Prime number\n"
     ]
    }
   ],
   "source": [
    "# WAP to check the given number is prime or not.\n",
    "\n",
    "n=int(input(\"Enter the number : \"))\n",
    "c=0\n",
    "for i in range(1,n+1):\n",
    "    if n%i==0:\n",
    "        c=c+1\n",
    "if c==2:\n",
    "    print(\"Prime number\")\n",
    "else:\n",
    "    print(\"Not a Prime number\")"
   ]
  },
  {
   "cell_type": "code",
   "execution_count": 29,
   "metadata": {},
   "outputs": [
    {
     "name": "stdout",
     "output_type": "stream",
     "text": [
      "Enter the number : 9\n",
      "81\n",
      "1\n",
      "65\n",
      "25\n",
      "61\n",
      "1\n",
      "37\n",
      "49\n",
      "58\n",
      "64\n",
      "89\n",
      "81\n",
      "145\n",
      "25\n",
      "41\n",
      "42\n",
      "4\n",
      "20\n",
      "0\n",
      "4\n",
      "Not happy number\n"
     ]
    }
   ],
   "source": [
    "# WAP to check the enter number is happy number or not.\n",
    "\n",
    "n=int(input(\"Enter the number : \"))\n",
    "x=n\n",
    "sum=0\n",
    "while n!=1:\n",
    "    while n!=0:\n",
    "        x=n%10\n",
    "        sum=sum+x**2\n",
    "        n=n//10\n",
    "        print(sum)\n",
    "    n=sum\n",
    "    sum=0\n",
    "    if n==4:\n",
    "        break\n",
    "if(n==1):\n",
    "    print(\"happy number\")\n",
    "else:\n",
    "    print(\"Not happy number\")"
   ]
  },
  {
   "cell_type": "code",
   "execution_count": 1,
   "metadata": {},
   "outputs": [
    {
     "name": "stdout",
     "output_type": "stream",
     "text": [
      "Enter the  starting range : 1\n",
      "Enter the ending range : 1\n"
     ]
    }
   ],
   "source": [
    "# WAP to check the enter number is happy number or not in a particular range. // ERROR\n",
    "\n",
    "r1=int(input(\"Enter the  starting range : \"))\n",
    "r2=int(input(\"Enter the ending range : \"))\n",
    "\n",
    "for n in range(r1,r2+1):\n",
    "    x=n\n",
    "    sum=0\n",
    "    while n!=1:\n",
    "        while n!=0:\n",
    "            x=n%10\n",
    "            sum=sum+x**2\n",
    "            n=n//10\n",
    "            print(sum)\n",
    "        n=sum\n",
    "        sum=0\n",
    "        if n==4:\n",
    "            break"
   ]
  },
  {
   "cell_type": "markdown",
   "metadata": {},
   "source": [
    "## PATTERN"
   ]
  },
  {
   "cell_type": "code",
   "execution_count": 27,
   "metadata": {},
   "outputs": [
    {
     "name": "stdout",
     "output_type": "stream",
     "text": [
      "Enter n : 5\n",
      "* * \n",
      "* * * \n",
      "* * * * \n",
      "* * * * * \n",
      "* * * * * * \n"
     ]
    }
   ],
   "source": [
    "n=int(input(\"Enter n : \"))\n",
    "for i in range(n):\n",
    "    for j in range(i+1):\n",
    "        print(\"*\",end=\" \")\n",
    "    print()"
   ]
  },
  {
   "cell_type": "code",
   "execution_count": 10,
   "metadata": {},
   "outputs": [
    {
     "name": "stdout",
     "output_type": "stream",
     "text": [
      "Enter n : 5\n",
      "1 \n",
      "2 2 \n",
      "3 3 3 \n",
      "4 4 4 4 \n",
      "5 5 5 5 5 \n"
     ]
    }
   ],
   "source": [
    "n=int(input(\"Enter n : \"))\n",
    "for i in range(n):\n",
    "    for j in range(i+1):\n",
    "        print(i+1,end=\" \")\n",
    "    print()"
   ]
  },
  {
   "cell_type": "code",
   "execution_count": 17,
   "metadata": {},
   "outputs": [
    {
     "name": "stdout",
     "output_type": "stream",
     "text": [
      "Enter n : 5\n",
      "a \n",
      "b c \n",
      "d e f \n",
      "g h i j \n",
      "k l m n o \n"
     ]
    }
   ],
   "source": [
    "n=int(input(\"Enter n : \"))\n",
    "a=97\n",
    "for i in range(n):\n",
    "    for j in range(i+1):\n",
    "        print(chr(a),end=\" \")\n",
    "        a=a+1\n",
    "    print()"
   ]
  },
  {
   "cell_type": "code",
   "execution_count": 19,
   "metadata": {},
   "outputs": [
    {
     "name": "stdout",
     "output_type": "stream",
     "text": [
      "Enter n : 5\n",
      "A \n",
      "A B \n",
      "A B C \n",
      "A B C D \n",
      "A B C D E \n"
     ]
    }
   ],
   "source": [
    "n=int(input(\"Enter n : \"))\n",
    "for i in range(n):\n",
    "    a=65\n",
    "    for j in range(i+1):\n",
    "        print(chr(a),end=\" \")\n",
    "        a=a+1\n",
    "    print()"
   ]
  },
  {
   "cell_type": "code",
   "execution_count": 28,
   "metadata": {},
   "outputs": [
    {
     "name": "stdout",
     "output_type": "stream",
     "text": [
      "Enter n : 5\n",
      "\n",
      "1 2 3 4 5 \n",
      "1 2 3 4 \n",
      "1 2 3 \n",
      "1 2 \n",
      "1 \n"
     ]
    }
   ],
   "source": [
    "n=int(input(\"Enter n : \"))\n",
    "print()\n",
    "for i in range(1,n+1):\n",
    "    for j in range(1,n+2-i):\n",
    "        print(j,end=\" \")\n",
    "    print()"
   ]
  },
  {
   "cell_type": "code",
   "execution_count": 34,
   "metadata": {},
   "outputs": [
    {
     "name": "stdout",
     "output_type": "stream",
     "text": [
      "Enter n : 5\n",
      "* \n",
      "# # \n",
      "* * * \n",
      "# # # # \n",
      "* * * * * \n"
     ]
    }
   ],
   "source": [
    "n=int(input(\"Enter n : \"))\n",
    "for i in range(n):\n",
    "    for j in range(i+1):\n",
    "        if i%2==0:\n",
    "            print(\"*\",end=\" \")\n",
    "        else:\n",
    "            print(\"#\",end=\" \")\n",
    "    print()"
   ]
  },
  {
   "cell_type": "code",
   "execution_count": 37,
   "metadata": {},
   "outputs": [
    {
     "name": "stdout",
     "output_type": "stream",
     "text": [
      "Enter n : 5\n",
      "1 \n",
      "0 1 \n",
      "1 0 1 \n",
      "0 1 0 1 \n",
      "1 0 1 0 1 \n"
     ]
    }
   ],
   "source": [
    "n=int(input(\"Enter n : \"))\n",
    "for i in range(n):\n",
    "    for j in range(i+1):\n",
    "        if (i+j)%2==0:\n",
    "            print(\"1\",end=\" \")\n",
    "        else:\n",
    "            print(\"0\",end=\" \")\n",
    "    print()"
   ]
  },
  {
   "cell_type": "code",
   "execution_count": 50,
   "metadata": {},
   "outputs": [
    {
     "name": "stdout",
     "output_type": "stream",
     "text": [
      "Enter n : 5\n",
      "  * * * * * \n",
      "    * * * * \n",
      "      * * * \n",
      "        * * \n",
      "          * \n"
     ]
    }
   ],
   "source": [
    "n=int(input(\"Enter n : \"))\n",
    "for i in range(1,n+1):\n",
    "    for j in range(1,i+1):\n",
    "        print(\" \",end=\"\")\n",
    "    for k in range(1,n+2-i):\n",
    "        print(\"*\",end=\" \")\n",
    "    print()"
   ]
  },
  {
   "cell_type": "code",
   "execution_count": 68,
   "metadata": {},
   "outputs": [
    {
     "name": "stdout",
     "output_type": "stream",
     "text": [
      "Enter n : 5\n",
      "     * \n",
      "    * * \n",
      "   * * * \n",
      "  * * * * \n",
      " * * * * * \n"
     ]
    }
   ],
   "source": [
    "n=int(input(\"Enter n : \"))\n",
    "for i in range(1,n+1):\n",
    "    for j in range(1,n+2-i):\n",
    "        print(\" \",end=\"\")\n",
    "    for k in range(1,i+1):\n",
    "        print(\"*\",end=\" \")\n",
    "    print()"
   ]
  },
  {
   "cell_type": "code",
   "execution_count": null,
   "metadata": {},
   "outputs": [],
   "source": []
  }
 ],
 "metadata": {
  "kernelspec": {
   "display_name": "Python 3",
   "language": "python",
   "name": "python3"
  },
  "language_info": {
   "codemirror_mode": {
    "name": "ipython",
    "version": 3
   },
   "file_extension": ".py",
   "mimetype": "text/x-python",
   "name": "python",
   "nbconvert_exporter": "python",
   "pygments_lexer": "ipython3",
   "version": "3.8.5"
  }
 },
 "nbformat": 4,
 "nbformat_minor": 4
}
