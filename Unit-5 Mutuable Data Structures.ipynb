{
 "cells": [
  {
   "cell_type": "code",
   "execution_count": 7,
   "metadata": {},
   "outputs": [
    {
     "name": "stdout",
     "output_type": "stream",
     "text": [
      "Enter list : 12\n",
      "12\n"
     ]
    }
   ],
   "source": [
    "l=eval(input(\"Enter list : \"))\n",
    "print(l)"
   ]
  },
  {
   "cell_type": "code",
   "execution_count": 9,
   "metadata": {},
   "outputs": [
    {
     "name": "stdout",
     "output_type": "stream",
     "text": [
      "[1, 2, 10, 4, 5]\n"
     ]
    }
   ],
   "source": [
    "l=[1,2,3,4,5]\n",
    "l[2]=10\n",
    "print(l)"
   ]
  },
  {
   "cell_type": "code",
   "execution_count": 11,
   "metadata": {},
   "outputs": [
    {
     "name": "stdout",
     "output_type": "stream",
     "text": [
      "7\n",
      "2\n",
      "5\n"
     ]
    }
   ],
   "source": [
    "n=[1,2,2,3,3,4,4]\n",
    "print(len(n))\n",
    "print(n.count(2))\n",
    "print(n.index(4))"
   ]
  },
  {
   "cell_type": "code",
   "execution_count": 14,
   "metadata": {},
   "outputs": [
    {
     "name": "stdout",
     "output_type": "stream",
     "text": [
      "['m', 'n']\n",
      "['m', 'n', 'A', 'B', 'C']\n"
     ]
    }
   ],
   "source": [
    "# append()\n",
    "l=[\"m\",\"n\"]\n",
    "print(l)\n",
    "l.append(\"A\")\n",
    "l.append(\"B\")\n",
    "l.append(\"C\")\n",
    "print(l)"
   ]
  },
  {
   "cell_type": "code",
   "execution_count": 18,
   "metadata": {},
   "outputs": [
    {
     "name": "stdout",
     "output_type": "stream",
     "text": [
      "[1, 28, 2, 3, 4, 5]\n",
      "[1, 28, 2, 3, 4, 5, 7]\n",
      "[1, 28, 2, 3, 4, 5, 90, 7]\n"
     ]
    }
   ],
   "source": [
    "# insert()\n",
    "n=[1,2,3,4,5]\n",
    "n.insert(1,28)\n",
    "print(n)\n",
    "n.insert(10,7) # if not 10 index then it will add at last.\n",
    "print(n)\n",
    "n.insert(-1,90) # it will add 90 at second last\n",
    "print(n) "
   ]
  },
  {
   "cell_type": "code",
   "execution_count": 20,
   "metadata": {},
   "outputs": [
    {
     "name": "stdout",
     "output_type": "stream",
     "text": [
      "['Apple', 'Mango', 'orange', 'watermelon']\n",
      "['orange', 'watermelon', 'Apple', 'Mango', 'orange', 'watermelon']\n"
     ]
    }
   ],
   "source": [
    "# extends()\n",
    "l1=[\"Apple\",\"Mango\"]\n",
    "l2=[\"orange\",\"watermelon\"]\n",
    "l1.extend(l2)\n",
    "l2.extend(l1)\n",
    "print(l1)\n",
    "print(l2)"
   ]
  },
  {
   "cell_type": "code",
   "execution_count": 2,
   "metadata": {},
   "outputs": [
    {
     "name": "stdout",
     "output_type": "stream",
     "text": [
      "[2, 3, 1, 5]\n",
      "[2, 3, 1, 5]\n",
      "[2, 3, 1, 5]\n"
     ]
    }
   ],
   "source": [
    "# remove()\n",
    "n=[1,2,3,1,5]\n",
    "n.remove(1)\n",
    "print(n)\n",
    "\n",
    "# n.remove(4) # ValueError: list.remove(x): x not in list\n",
    "print(n)\n",
    "\n",
    "if 40 in n: # it will not give error\n",
    "    n.remove(40)\n",
    "print(n)"
   ]
  },
  {
   "cell_type": "code",
   "execution_count": 7,
   "metadata": {},
   "outputs": [
    {
     "name": "stdout",
     "output_type": "stream",
     "text": [
      "50\n",
      "20\n"
     ]
    }
   ],
   "source": [
    "#pop()\n",
    "n=[10,20,30,40,50]\n",
    "y=[]\n",
    "# print(y.pop() IndexError: pop from empty list\n",
    "print(n.pop())\n",
    "print(n.pop(1))\n",
    "# print(n.pop(10)) IndexError: pop index out of range"
   ]
  },
  {
   "cell_type": "code",
   "execution_count": 9,
   "metadata": {},
   "outputs": [
    {
     "name": "stdout",
     "output_type": "stream",
     "text": [
      "[]\n"
     ]
    }
   ],
   "source": [
    "# clear()\n",
    "n=[1,2,3,4,5]\n",
    "n.clear()\n",
    "print(n)"
   ]
  },
  {
   "cell_type": "code",
   "execution_count": 13,
   "metadata": {},
   "outputs": [
    {
     "name": "stdout",
     "output_type": "stream",
     "text": [
      "[5, 4, 3, 2, 1]\n",
      "[1, 2, 3, 4, 5]\n",
      "[5, 4, 3, 2, 1]\n"
     ]
    }
   ],
   "source": [
    "# reversed(),sort(),sort(reverse=True)\n",
    "n=[1,2,3,4,5]\n",
    "n.reverse()\n",
    "print(n)\n",
    "n1=[1,2,3,4,5]\n",
    "n1.sort()\n",
    "print(n1)\n",
    "n1.sort(reverse=True)\n",
    "print(n1)"
   ]
  },
  {
   "cell_type": "code",
   "execution_count": 16,
   "metadata": {},
   "outputs": [
    {
     "name": "stdout",
     "output_type": "stream",
     "text": [
      "[1, 2, 3, 4, 5, 6]\n",
      "[1, 2, 3, 4]\n",
      "[1, 2, 3, 1, 2, 3, 1, 2, 3]\n"
     ]
    }
   ],
   "source": [
    "a=[1,2,3]\n",
    "b=[4,5,6]\n",
    "print(a+b)\n",
    "print(a+[4])\n",
    "# print(a+4)   TypeError: can only concatenate list (not \"int\") to list\n",
    "print(a*3)"
   ]
  },
  {
   "cell_type": "code",
   "execution_count": 21,
   "metadata": {},
   "outputs": [
    {
     "name": "stdout",
     "output_type": "stream",
     "text": [
      "True\n"
     ]
    }
   ],
   "source": [
    "x=[50,20,30]\n",
    "y=[50,20,30,100]\n",
    "print(x<y)"
   ]
  },
  {
   "cell_type": "code",
   "execution_count": 23,
   "metadata": {},
   "outputs": [
    {
     "name": "stdout",
     "output_type": "stream",
     "text": [
      "True\n",
      "False\n",
      "False\n"
     ]
    }
   ],
   "source": [
    "n=[10,20,30,40]\n",
    "print(10 in n)\n",
    "print(40 not in n)\n",
    "print(50 in n)"
   ]
  },
  {
   "cell_type": "code",
   "execution_count": 28,
   "metadata": {},
   "outputs": [
    {
     "name": "stdout",
     "output_type": "stream",
     "text": [
      "[10, 20, 100, 40, 50]\n",
      "[10, 20, 30, 40, 50]\n"
     ]
    }
   ],
   "source": [
    "l1=[10,20,30,40,50]\n",
    "x1=l1\n",
    "x1[2]=100\n",
    "print(l1)\n",
    "l2=[10,20,30,40,50]\n",
    "x2=l[:]  # or l2.copy()\n",
    "x2[2]=100\n",
    "print(l2)"
   ]
  },
  {
   "cell_type": "code",
   "execution_count": 33,
   "metadata": {},
   "outputs": [
    {
     "name": "stdout",
     "output_type": "stream",
     "text": [
      "[40, 50]\n",
      "40\n",
      "200\n"
     ]
    }
   ],
   "source": [
    "# Nested List\n",
    "n=[10,20,30,[40,50],[60,70,80,[100,200]]]\n",
    "print(n[3])\n",
    "print(n[3][0])\n",
    "print(n[4][3][1])"
   ]
  },
  {
   "cell_type": "code",
   "execution_count": 40,
   "metadata": {},
   "outputs": [
    {
     "name": "stdout",
     "output_type": "stream",
     "text": [
      "10 20 30 \n",
      "40 50 60 \n",
      "70 80 90 \n"
     ]
    }
   ],
   "source": [
    "n=[[10,20,30],[40,50,60],[70,80,90]]\n",
    "for i in n:\n",
    "    for j in i:\n",
    "        print(j,end=\" \")\n",
    "    print()"
   ]
  },
  {
   "cell_type": "code",
   "execution_count": 61,
   "metadata": {},
   "outputs": [
    {
     "name": "stdout",
     "output_type": "stream",
     "text": [
      "[10, 40, 70]\n",
      "[20, 50, 80]\n",
      "[30, 60, 90]\n"
     ]
    }
   ],
   "source": [
    "n=[[10,20,30],[40,50,60],[70,80,90]]\n",
    "# for i in range(len(n)):\n",
    "#     for j in range(len(n[i])):\n",
    "#         print(n[j][i],end=\" \")\n",
    "#     print()\n",
    "    \n",
    "for i in range(len(n[0])):\n",
    "    x=[row[i] for row in n]\n",
    "    print(x)\n",
    "        "
   ]
  },
  {
   "cell_type": "code",
   "execution_count": 60,
   "metadata": {},
   "outputs": [
    {
     "name": "stdout",
     "output_type": "stream",
     "text": [
      "[1, 4, 9, 16, 25, 36, 49, 64, 81, 100]\n",
      "[2, 4, 8, 16, 32]\n",
      "[1, 9, 25, 49, 81]\n"
     ]
    }
   ],
   "source": [
    "# List Comprehension\n",
    "# l=[expression for item in lis if condition]\n",
    "s=[x*x for x in range(1,11)]\n",
    "print(s)\n",
    "v=[2**x for x in range(1,6)]\n",
    "print(v)\n",
    "m=[x for x in s if x%2==1]\n",
    "print(m)"
   ]
  },
  {
   "cell_type": "code",
   "execution_count": 66,
   "metadata": {},
   "outputs": [
    {
     "name": "stdout",
     "output_type": "stream",
     "text": [
      "[1, 2, 5]\n"
     ]
    }
   ],
   "source": [
    "# WAP elements with frequency greater than a given value 'k'\n",
    "l=[1,1,1,1,2,2,2,2,3,3,5,5,5,6,7]\n",
    "k=2\n",
    "l1=[]\n",
    "c=0\n",
    "for i in l:\n",
    "    c=l.count(i)\n",
    "    if c>k and i not in l1:\n",
    "        l1.append(i)\n",
    "print(l1)"
   ]
  },
  {
   "cell_type": "code",
   "execution_count": 70,
   "metadata": {},
   "outputs": [
    {
     "name": "stdout",
     "output_type": "stream",
     "text": [
      "<class 'dict'>\n",
      "<class 'dict'>\n",
      "<class 'set'>\n"
     ]
    }
   ],
   "source": [
    "d={}\n",
    "print(type(d))\n",
    "d1=dict()\n",
    "print(type(d1))\n",
    "s=set()\n",
    "print(type(s))"
   ]
  },
  {
   "cell_type": "code",
   "execution_count": 74,
   "metadata": {},
   "outputs": [
    {
     "name": "stdout",
     "output_type": "stream",
     "text": [
      "{10: 'Arman', 20: 'Ayan', 30: 'Lucky'}\n",
      "{10: 'Arman', 20: 'Ayan', 30: 'Lucky'}\n"
     ]
    }
   ],
   "source": [
    "d={}\n",
    "d[10]=\"Arman\"\n",
    "d[20]=\"Ayan\"\n",
    "d[30]=\"Lucky\"\n",
    "print(d)\n",
    "\n",
    "d1=dict([(10,'Arman'), (20,'Ayan'), (30,'Lucky')])\n",
    "print(d1)"
   ]
  },
  {
   "cell_type": "code",
   "execution_count": 87,
   "metadata": {},
   "outputs": [
    {
     "name": "stdout",
     "output_type": "stream",
     "text": [
      "Arman\n",
      "{10: 'Arman', 20: 'Ayan', 30: 'Lucky', 40: 'Sumit'}\n",
      "{10: 'Sachin', 20: 'Ayan', 30: 'Lucky', 40: 'Sumit'}\n",
      "{10: 'Sachin', 20: 'Ayan', 30: 'Lucky'}\n",
      "{}\n"
     ]
    }
   ],
   "source": [
    "d={10: 'Arman', 20: 'Ayan', 30: 'Lucky'}\n",
    "print(d[10])\n",
    "# print(d[40])   KeyError: 40\n",
    "\n",
    "if 40 in d:\n",
    "    print(d[40])\n",
    "    \n",
    "d[40]=\"Sumit\"\n",
    "print(d)\n",
    "d[10]=\"Sachin\"\n",
    "print(d)\n",
    "\n",
    "del d[40]\n",
    "print(d)\n",
    "\n",
    "d.clear()\n",
    "print(d)\n",
    "\n",
    "del d\n",
    "# print(d) NameError: name 'd' is not defined"
   ]
  },
  {
   "cell_type": "code",
   "execution_count": 89,
   "metadata": {},
   "outputs": [
    {
     "name": "stdout",
     "output_type": "stream",
     "text": [
      "{1: 1, 2: 4, 3: 9, 4: 16, 5: 25}\n"
     ]
    }
   ],
   "source": [
    "square={x:x*x for x in range(1,6)}\n",
    "print(square)"
   ]
  },
  {
   "cell_type": "code",
   "execution_count": 92,
   "metadata": {},
   "outputs": [
    {
     "name": "stdout",
     "output_type": "stream",
     "text": [
      "{10: 20, 30: 600, 50: 60, 100: 50, 200: 40}\n"
     ]
    }
   ],
   "source": [
    "d={10:20,30:40,50:60}\n",
    "x={100:50,200:40,30:600}\n",
    "d.update(x)\n",
    "print(d)"
   ]
  },
  {
   "cell_type": "code",
   "execution_count": 99,
   "metadata": {},
   "outputs": [
    {
     "name": "stdout",
     "output_type": "stream",
     "text": [
      "Arman\n",
      "Arman\n",
      "None\n",
      "Arman\n",
      "Guest\n"
     ]
    }
   ],
   "source": [
    "d={10: 'Arman', 20: 'Ayan', 30: 'Lucky'}\n",
    "print(d[10])\n",
    "print(d.get(10))\n",
    "# print(d[40]) KeyError: 40\n",
    "print(d.get(40))\n",
    "\n",
    "print(d.get(10,\"Guest\"))\n",
    "print(d.get(40,\"Guest\"))"
   ]
  },
  {
   "cell_type": "code",
   "execution_count": 102,
   "metadata": {},
   "outputs": [
    {
     "name": "stdout",
     "output_type": "stream",
     "text": [
      "(30, 'Lucky')\n",
      "{10: 'Arman', 20: 'Ayan'}\n"
     ]
    }
   ],
   "source": [
    "d={10: 'Arman', 20: 'Ayan', 30: 'Lucky'}\n",
    "print(d.popitem())\n",
    "print(d)\n",
    "d1={}\n",
    "# print(d1.popitem()) KeyError: 'popitem(): dictionary is empty'"
   ]
  },
  {
   "cell_type": "code",
   "execution_count": 109,
   "metadata": {},
   "outputs": [
    {
     "name": "stdout",
     "output_type": "stream",
     "text": [
      "dict_keys([10, 20, 30])\n",
      "dict_values(['Arman', 'Ayan', 'Lucky'])\n",
      "dict_items([(10, 'Arman'), (20, 'Ayan'), (30, 'Lucky')])\n",
      "10\n",
      "20\n",
      "30\n",
      "Arman\n",
      "Ayan\n",
      "Lucky\n",
      "(10, 'Arman')\n",
      "(20, 'Ayan')\n",
      "(30, 'Lucky')\n",
      "10 -> Arman\n",
      "20 -> Ayan\n",
      "30 -> Lucky\n"
     ]
    }
   ],
   "source": [
    "d={10: 'Arman', 20: 'Ayan', 30: 'Lucky'}\n",
    "print(d.keys())\n",
    "print(d.values())\n",
    "print(d.items())\n",
    "\n",
    "for i in d.keys():\n",
    "    print(i)\n",
    "for i in d.values():\n",
    "    print(i)\n",
    "for i in d.items(): # in form of tuples\n",
    "    print(i)\n",
    "for i,j in d.items():\n",
    "    print(i,\"->\",j)"
   ]
  },
  {
   "cell_type": "code",
   "execution_count": 110,
   "metadata": {},
   "outputs": [
    {
     "name": "stdout",
     "output_type": "stream",
     "text": [
      "Pavan\n",
      "{10: 'Arman', 20: 'Ayan', 30: 'Lucky', 40: 'Pavan'}\n",
      "Arman\n",
      "{10: 'Arman', 20: 'Ayan', 30: 'Lucky', 40: 'Pavan'}\n"
     ]
    }
   ],
   "source": [
    "d={10: 'Arman', 20: 'Ayan', 30: 'Lucky'}\n",
    "print(d.setdefault(40,\"Pavan\"))\n",
    "print(d)\n",
    "print(d.setdefault(10,\"Sachin\"))\n",
    "print(d)"
   ]
  },
  {
   "cell_type": "code",
   "execution_count": 2,
   "metadata": {},
   "outputs": [
    {
     "name": "stdout",
     "output_type": "stream",
     "text": [
      "{1, 2, 3, 4, 5, 6}\n",
      "<class 'set'>\n"
     ]
    }
   ],
   "source": [
    "s={1,2,3,4,5,5,5,1,2,5,5,6}\n",
    "print(s)\n",
    "print(type(s))"
   ]
  },
  {
   "cell_type": "code",
   "execution_count": 4,
   "metadata": {},
   "outputs": [
    {
     "name": "stdout",
     "output_type": "stream",
     "text": [
      "{1, 2, 3, 35, 4, 5, 6, 25}\n",
      "<class 'set'>\n"
     ]
    }
   ],
   "source": [
    "s={35,25,3,4,5,5,5,1,2,5,5,6}\n",
    "print(s)\n",
    "print(type(s))"
   ]
  },
  {
   "cell_type": "code",
   "execution_count": 10,
   "metadata": {},
   "outputs": [
    {
     "name": "stdout",
     "output_type": "stream",
     "text": [
      "{1, 2, 3, 4, 5, 6}\n",
      "{'T', 'L', 'I', 'E', 'J'}\n",
      "{1, 2, 3, 4, 5}\n",
      "{40, 10, 20, 30}\n"
     ]
    }
   ],
   "source": [
    "s=set()\n",
    "l=[1,3,6,4,5,2]\n",
    "s=set(l)\n",
    "print(s)\n",
    "\n",
    "x=\"LJIET\"\n",
    "s=set(x)\n",
    "print(s)\n",
    "\n",
    "y=range(1,6)\n",
    "s=set(y)\n",
    "print(s)\n",
    "\n",
    "l=[10,20,30,40,10,20,30]\n",
    "print(set(l))"
   ]
  },
  {
   "cell_type": "code",
   "execution_count": 20,
   "metadata": {},
   "outputs": [
    {
     "name": "stdout",
     "output_type": "stream",
     "text": [
      "{40, 10, 50, 20, 60, 30}\n",
      "{40, 10, 50, 20, 60, 30}\n",
      "\n",
      "{40, 30}\n",
      "{40, 30}\n",
      "\n",
      "{10, 20}\n",
      "{10, 20}\n",
      "\n",
      "{50, 60}\n",
      "{50, 60}\n",
      "\n",
      "{10, 50, 20, 60}\n"
     ]
    }
   ],
   "source": [
    "# MAthematical Operation:\n",
    "\n",
    "# union()\n",
    "x={10,20,30,40}\n",
    "y={30,40,50,60}\n",
    "print(x.union(y))\n",
    "print(x|y)\n",
    "print()\n",
    "\n",
    "# intersection()\n",
    "x={10,20,30,40}\n",
    "y={30,40,50,60}\n",
    "print(x.intersection(y))\n",
    "print(x&y)\n",
    "print()\n",
    "\n",
    "# Difference()\n",
    "x={10,20,30,40}\n",
    "y={30,40,50,60}\n",
    "print(x.difference(y))\n",
    "print(x-y)\n",
    "print()\n",
    "print(y.difference(x))\n",
    "print(y-x)\n",
    "print()\n",
    "\n",
    "# symmetric_differenec()\n",
    "print(x.symmetric_difference(y))"
   ]
  },
  {
   "cell_type": "code",
   "execution_count": 22,
   "metadata": {},
   "outputs": [
    {
     "name": "stdout",
     "output_type": "stream",
     "text": [
      "True\n",
      "True\n"
     ]
    }
   ],
   "source": [
    "x={\"a\",\"b\",\"c\"}\n",
    "y={\"f\",\"e\",\"d\",\"c\",\"b\",\"a\"}\n",
    "z=x.issubset(y)\n",
    "print(z)\n",
    "z=y.issuperset(x)\n",
    "print(z)"
   ]
  },
  {
   "cell_type": "code",
   "execution_count": 24,
   "metadata": {},
   "outputs": [
    {
     "name": "stdout",
     "output_type": "stream",
     "text": [
      "{40, 10, 20, 30}\n"
     ]
    }
   ],
   "source": [
    "# ADD(x)\n",
    "s={10,20,30}\n",
    "s.add(40)\n",
    "print(s)"
   ]
  },
  {
   "cell_type": "code",
   "execution_count": 26,
   "metadata": {},
   "outputs": [
    {
     "name": "stdout",
     "output_type": "stream",
     "text": [
      "{1, 2, 3, 4, 5, 70, 40, 10, 13, 16, 50, 19, 20, 60, 30}\n"
     ]
    }
   ],
   "source": [
    "#UPDATE(x,y,z)\n",
    "s={10,20,30}\n",
    "l=[40,50,60,70]\n",
    "s.update(l,range(10,20,3),range(1,6))\n",
    "print(s)"
   ]
  },
  {
   "cell_type": "code",
   "execution_count": 30,
   "metadata": {},
   "outputs": [
    {
     "name": "stdout",
     "output_type": "stream",
     "text": [
      "{1, 2, 3, 4, 5}\n",
      "{1, 2, 3, 4}\n"
     ]
    }
   ],
   "source": [
    "#COPY()\n",
    "s1={1,2,3,4}\n",
    "s2={1,2,3,4}\n",
    "\n",
    "x1=s1\n",
    "x1.add(5)\n",
    "print(s1)\n",
    "\n",
    "x2=s2.copy()\n",
    "x2.add(5)\n",
    "print(s2)"
   ]
  },
  {
   "cell_type": "code",
   "execution_count": 32,
   "metadata": {},
   "outputs": [
    {
     "name": "stdout",
     "output_type": "stream",
     "text": [
      "{40, 10, 50, 20, 30}\n",
      "40\n",
      "{10, 50, 20, 30}\n"
     ]
    }
   ],
   "source": [
    "#POP()\n",
    "s={40,30,20,10,50}\n",
    "print(s)\n",
    "print(s.pop())\n",
    "print(s)"
   ]
  },
  {
   "cell_type": "code",
   "execution_count": 47,
   "metadata": {},
   "outputs": [
    {
     "name": "stdout",
     "output_type": "stream",
     "text": [
      "{40, 10, 50, 20}\n"
     ]
    },
    {
     "ename": "KeyError",
     "evalue": "60",
     "output_type": "error",
     "traceback": [
      "\u001b[1;31m---------------------------------------------------------------------------\u001b[0m",
      "\u001b[1;31mKeyError\u001b[0m                                  Traceback (most recent call last)",
      "\u001b[1;32m<ipython-input-47-ae65124e6cc1>\u001b[0m in \u001b[0;36m<module>\u001b[1;34m\u001b[0m\n\u001b[0;32m      3\u001b[0m \u001b[0ms\u001b[0m\u001b[1;33m.\u001b[0m\u001b[0mremove\u001b[0m\u001b[1;33m(\u001b[0m\u001b[1;36m30\u001b[0m\u001b[1;33m)\u001b[0m\u001b[1;33m\u001b[0m\u001b[1;33m\u001b[0m\u001b[0m\n\u001b[0;32m      4\u001b[0m \u001b[0mprint\u001b[0m\u001b[1;33m(\u001b[0m\u001b[0ms\u001b[0m\u001b[1;33m)\u001b[0m\u001b[1;33m\u001b[0m\u001b[1;33m\u001b[0m\u001b[0m\n\u001b[1;32m----> 5\u001b[1;33m \u001b[0ms\u001b[0m\u001b[1;33m.\u001b[0m\u001b[0mremove\u001b[0m\u001b[1;33m(\u001b[0m\u001b[1;36m60\u001b[0m\u001b[1;33m)\u001b[0m\u001b[1;33m\u001b[0m\u001b[1;33m\u001b[0m\u001b[0m\n\u001b[0m\u001b[0;32m      6\u001b[0m \u001b[0mprint\u001b[0m\u001b[1;33m(\u001b[0m\u001b[0ms\u001b[0m\u001b[1;33m)\u001b[0m\u001b[1;33m\u001b[0m\u001b[1;33m\u001b[0m\u001b[0m\n",
      "\u001b[1;31mKeyError\u001b[0m: 60"
     ]
    }
   ],
   "source": [
    "#REMOVE()\n",
    "s={10,20,30,40,50}\n",
    "s.remove(30)\n",
    "print(s)\n",
    "s.remove(60)  # ERROR if element ot present\n",
    "print(s)"
   ]
  },
  {
   "cell_type": "code",
   "execution_count": 49,
   "metadata": {},
   "outputs": [
    {
     "name": "stdout",
     "output_type": "stream",
     "text": [
      "{40, 10, 50, 20}\n",
      "{40, 10, 50, 20}\n"
     ]
    }
   ],
   "source": [
    "#DISCARD()\n",
    "s={10,20,30,40,50}\n",
    "s.discard(30)\n",
    "print(s)\n",
    "s.discard(60)\n",
    "print(s)"
   ]
  },
  {
   "cell_type": "code",
   "execution_count": 51,
   "metadata": {},
   "outputs": [
    {
     "name": "stdout",
     "output_type": "stream",
     "text": [
      "set()\n"
     ]
    }
   ],
   "source": [
    "#CLEAR()\n",
    "s={10,20,30,40}\n",
    "s.clear()\n",
    "print(s) # Remember the output of blank set"
   ]
  },
  {
   "cell_type": "code",
   "execution_count": 53,
   "metadata": {},
   "outputs": [
    {
     "name": "stdout",
     "output_type": "stream",
     "text": [
      "{64, 1, 4, 36, 100, 9, 16, 49, 81, 25}\n",
      "{32, 2, 4, 8, 16}\n"
     ]
    }
   ],
   "source": [
    "s1={x*x for x in range(1,11)}\n",
    "print(s1)\n",
    "\n",
    "s2={2**x for x in range(1,6)}\n",
    "print(s2)"
   ]
  },
  {
   "cell_type": "code",
   "execution_count": 1,
   "metadata": {},
   "outputs": [
    {
     "name": "stdout",
     "output_type": "stream",
     "text": [
      "{'Cherry', 'Banana', 'Apple', 'Pineaple'}\n"
     ]
    },
    {
     "ename": "AttributeError",
     "evalue": "'frozenset' object has no attribute 'add'",
     "output_type": "error",
     "traceback": [
      "\u001b[1;31m---------------------------------------------------------------------------\u001b[0m",
      "\u001b[1;31mAttributeError\u001b[0m                            Traceback (most recent call last)",
      "\u001b[1;32m<ipython-input-1-65db33c49fed>\u001b[0m in \u001b[0;36m<module>\u001b[1;34m\u001b[0m\n\u001b[0;32m      6\u001b[0m \u001b[1;33m\u001b[0m\u001b[0m\n\u001b[0;32m      7\u001b[0m \u001b[0mf\u001b[0m\u001b[1;33m=\u001b[0m\u001b[0mfrozenset\u001b[0m\u001b[1;33m(\u001b[0m\u001b[0mx\u001b[0m\u001b[1;33m)\u001b[0m\u001b[1;33m\u001b[0m\u001b[1;33m\u001b[0m\u001b[0m\n\u001b[1;32m----> 8\u001b[1;33m \u001b[0mf\u001b[0m\u001b[1;33m.\u001b[0m\u001b[0madd\u001b[0m\u001b[1;33m(\u001b[0m\u001b[1;34m\"Pineaple\"\u001b[0m\u001b[1;33m)\u001b[0m\u001b[1;33m\u001b[0m\u001b[1;33m\u001b[0m\u001b[0m\n\u001b[0m\u001b[0;32m      9\u001b[0m \u001b[0mprint\u001b[0m\u001b[1;33m(\u001b[0m\u001b[0mf\u001b[0m\u001b[1;33m)\u001b[0m\u001b[1;33m\u001b[0m\u001b[1;33m\u001b[0m\u001b[0m\n",
      "\u001b[1;31mAttributeError\u001b[0m: 'frozenset' object has no attribute 'add'"
     ]
    }
   ],
   "source": [
    "# Frozen Set()\n",
    "x=[\"Apple\",\"Banana\",\"Cherry\"]\n",
    "s=set(x)\n",
    "s.add(\"Pineaple\")\n",
    "print(s)\n",
    "\n",
    "f=frozenset(x)\n",
    "f.add(\"Pineaple\")\n",
    "print(f)"
   ]
  },
  {
   "cell_type": "code",
   "execution_count": 4,
   "metadata": {},
   "outputs": [
    {
     "name": "stdout",
     "output_type": "stream",
     "text": [
      "9\n",
      "16\n"
     ]
    }
   ],
   "source": [
    "s=lambda n:n*n\n",
    "print(s(3))\n",
    "print(s(4))"
   ]
  },
  {
   "cell_type": "code",
   "execution_count": 6,
   "metadata": {},
   "outputs": [
    {
     "name": "stdout",
     "output_type": "stream",
     "text": [
      "30\n"
     ]
    }
   ],
   "source": [
    "s=lambda a,b:a+b\n",
    "print(s(10,20))"
   ]
  },
  {
   "cell_type": "code",
   "execution_count": 12,
   "metadata": {},
   "outputs": [
    {
     "name": "stdout",
     "output_type": "stream",
     "text": [
      "[1, 2, 3, 4, 5]\n",
      "[2, 4, 6, 8, 10]\n"
     ]
    }
   ],
   "source": [
    "l=[1,2,3,4,5]\n",
    "l1=list(map(lambda x:2*x,l))\n",
    "print(l)\n",
    "print(l1)"
   ]
  },
  {
   "cell_type": "code",
   "execution_count": 14,
   "metadata": {},
   "outputs": [
    {
     "name": "stdout",
     "output_type": "stream",
     "text": [
      "[6, 8, 10, 12]\n"
     ]
    }
   ],
   "source": [
    "l1=[1,2,3,4]\n",
    "l2=[5,6,7,8]\n",
    "l3=list(map(lambda x,y:x+y,l1,l2))\n",
    "print(l3)\n"
   ]
  },
  {
   "cell_type": "code",
   "execution_count": 18,
   "metadata": {},
   "outputs": [
    {
     "name": "stdout",
     "output_type": "stream",
     "text": [
      "21\n",
      "720\n"
     ]
    }
   ],
   "source": [
    "from functools import *\n",
    "# import functools  them we have to use functools.reduce()\n",
    "l1=[1,2,3,4,5,6]\n",
    "sum=reduce(lambda x,y:x+y,l1)\n",
    "print(sum) # always output will be single element\n",
    "mul=reduce(lambda x,y:x*y,l1)\n",
    "print(mul)"
   ]
  },
  {
   "cell_type": "code",
   "execution_count": 26,
   "metadata": {},
   "outputs": [
    {
     "name": "stdout",
     "output_type": "stream",
     "text": [
      "[0, 2, 4, 6, 8, 10]\n"
     ]
    }
   ],
   "source": [
    "def isEven(x):\n",
    "    if x%2==0:\n",
    "        return True\n",
    "    else:\n",
    "        return False\n",
    "    \n",
    "l=[0,1,2,3,4,5,6,7,8,9,10]\n",
    "l1=list(filter(isEven,l))\n",
    "print(l1)"
   ]
  },
  {
   "cell_type": "code",
   "execution_count": 28,
   "metadata": {},
   "outputs": [
    {
     "name": "stdout",
     "output_type": "stream",
     "text": [
      "[0, 2, 4, 6, 8, 10]\n"
     ]
    }
   ],
   "source": [
    "# With lambda funct()\n",
    "l=[0,1,2,3,4,5,6,7,8,9,10]\n",
    "l1=list(filter(lambda x:x%2==0,l))\n",
    "print(l1)"
   ]
  },
  {
   "cell_type": "code",
   "execution_count": 36,
   "metadata": {},
   "outputs": [
    {
     "name": "stdout",
     "output_type": "stream",
     "text": [
      "['APPLE', 'BANANA', 'CHERRY']\n"
     ]
    }
   ],
   "source": [
    "words=[\"apple\",\"banana\",\"cherry\"]\n",
    "# l=list(map(str.upper,words)) \n",
    "l=list(map(lambda x:x.upper(),words))\n",
    "print(l)"
   ]
  },
  {
   "cell_type": "code",
   "execution_count": 40,
   "metadata": {},
   "outputs": [
    {
     "name": "stdout",
     "output_type": "stream",
     "text": [
      "['banana', 'cherry', 'orange']\n"
     ]
    }
   ],
   "source": [
    "words=[\"apple\",\"banana\",\"cherry\",\"date\",\"kiwi\",\"orange\"]\n",
    "l=list(filter(lambda x:len(x)>5,words))\n",
    "print(l)\n"
   ]
  },
  {
   "cell_type": "code",
   "execution_count": 43,
   "metadata": {},
   "outputs": [
    {
     "name": "stdout",
     "output_type": "stream",
     "text": [
      "9996\n"
     ]
    }
   ],
   "source": [
    "min=(lambda x,y:x if x<y else y)\n",
    "print(min(101*99,102*98))"
   ]
  },
  {
   "cell_type": "code",
   "execution_count": 46,
   "metadata": {},
   "outputs": [
    {
     "name": "stdout",
     "output_type": "stream",
     "text": [
      "[19, 38, 13, 26]\n"
     ]
    }
   ],
   "source": [
    "# WAP to find numbers divisible by 19 or 13 from a list of numbers using lambda func.\n",
    "l=[19,38,13,26,5,6,4,7]\n",
    "l1=list(filter(lambda x:x%19==0 or x%13==0,l))\n",
    "print(l1)"
   ]
  },
  {
   "cell_type": "code",
   "execution_count": 52,
   "metadata": {},
   "outputs": [
    {
     "name": "stdout",
     "output_type": "stream",
     "text": [
      "['date', 'apple', 'banana', 'cherry']\n",
      "['banana', 'apple', 'pineaple', 'cherry']\n"
     ]
    }
   ],
   "source": [
    "# sorted() used only in tuple,str,list\n",
    "l=[\"apple\",\"banana\",\"cherry\",\"date\"]\n",
    "l1=sorted(l,key=len)\n",
    "print(l1)\n",
    "\n",
    "a=[\"apple\",\"banana\",\"cherry\",\"pineaple\"]\n",
    "l2=sorted(a,key=lambda x:x[-1])\n",
    "print(l2)"
   ]
  },
  {
   "cell_type": "code",
   "execution_count": 62,
   "metadata": {},
   "outputs": [
    {
     "name": "stdout",
     "output_type": "stream",
     "text": [
      "[(4, 1), (2, 3), (1, 5), (3, 8)]\n"
     ]
    }
   ],
   "source": [
    "l=[(1,5),(2,3),(3,8),(4,1)]\n",
    "l1=sorted(l,key=lambda x:x[-1])\n",
    "print(l1)"
   ]
  },
  {
   "cell_type": "code",
   "execution_count": 65,
   "metadata": {},
   "outputs": [
    {
     "name": "stdout",
     "output_type": "stream",
     "text": [
      "['banana', 'apple', 'pineaple', 'cherry']\n"
     ]
    }
   ],
   "source": [
    "# sort used only in list\n",
    "l=[\"apple\",\"banana\",\"kiwi\",\"pineaple\"]\n",
    "a.sort(key=lambda x:x[-1])\n",
    "print(a)"
   ]
  },
  {
   "cell_type": "code",
   "execution_count": 70,
   "metadata": {},
   "outputs": [
    {
     "name": "stdout",
     "output_type": "stream",
     "text": [
      "['apple', 'banana', 'cherry', 'orange']\n",
      "['apple', 'banana#cherry#orange']\n",
      "['apple', 'banana', 'cherry#orange']\n",
      "['apple', 'banana', 'cherry', 'orange']\n"
     ]
    }
   ],
   "source": [
    "t=\"apple#banana#cherry#orange\"\n",
    "a=t.split(\"#\")\n",
    "print(a)\n",
    "x=t.split(\"#\",1)\n",
    "print(x)\n",
    "y=t.split(\"#\",2)\n",
    "print(y)\n",
    "z=t.split(\"#\",3)\n",
    "print(z)"
   ]
  },
  {
   "cell_type": "code",
   "execution_count": 92,
   "metadata": {},
   "outputs": [
    {
     "name": "stdout",
     "output_type": "stream",
     "text": [
      "Enter List : [2,1,6,4]\n",
      "Orginal list :  [2, 1, 6, 4]\n",
      "Index to remove :  1\n",
      "List after removal of index 1 is :  [2, 6, 4]\n",
      "Total special character :  1\n"
     ]
    }
   ],
   "source": [
    "# Given a list l of size n ,you need to count the number of special element in the given list and element is special if \n",
    "#  removal of that element make the list balance the list will be balance if sum of even index element is equal to the sum\n",
    "#  of odd index element.Also print the updated list after removal of special element.\n",
    "\n",
    "l=eval(input(\"Enter List : \"))\n",
    "print(\"Orginal list : \",l)\n",
    "count=0\n",
    "\n",
    "for i in range(len(l)):\n",
    "    c=l.copy()\n",
    "    c.pop(i)\n",
    "    sum1=sum2=0\n",
    "    for j in c[::2]:\n",
    "        sum1+=j\n",
    "    for k in c[1::2]:\n",
    "        sum2+=k\n",
    "    if sum1==sum2:\n",
    "        print(\"Index to remove : \",i)\n",
    "        count+=1\n",
    "        print(\"List after removal of index\",i,\"is : \",c)\n",
    "print(\"Total special character : \",count)"
   ]
  },
  {
   "cell_type": "code",
   "execution_count": 94,
   "metadata": {},
   "outputs": [
    {
     "name": "stdout",
     "output_type": "stream",
     "text": [
      "[True, False]\n"
     ]
    }
   ],
   "source": [
    "x=[(5,)==(5,),(5,)==(5)]\n",
    "print(x)"
   ]
  },
  {
   "cell_type": "code",
   "execution_count": 95,
   "metadata": {},
   "outputs": [
    {
     "data": {
      "text/plain": [
       "2"
      ]
     },
     "execution_count": 95,
     "metadata": {},
     "output_type": "execute_result"
    }
   ],
   "source": [
    "1+True"
   ]
  }
 ],
 "metadata": {
  "kernelspec": {
   "display_name": "Python 3",
   "language": "python",
   "name": "python3"
  },
  "language_info": {
   "codemirror_mode": {
    "name": "ipython",
    "version": 3
   },
   "file_extension": ".py",
   "mimetype": "text/x-python",
   "name": "python",
   "nbconvert_exporter": "python",
   "pygments_lexer": "ipython3",
   "version": "3.8.5"
  }
 },
 "nbformat": 4,
 "nbformat_minor": 4
}
