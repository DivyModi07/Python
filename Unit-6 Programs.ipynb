{
 "cells": [
  {
   "cell_type": "code",
   "execution_count": 6,
   "metadata": {},
   "outputs": [],
   "source": [
    "# Write a dictionary to a file in python.\n",
    "d={'Name':'Alice','Age':20,'Degree':'CSE','University':'Oxford University'}\n",
    "f=open(\"Demo3.txt\",\"w\")\n",
    "for a,b in d.items():\n",
    "    f.write(str(a)+\":\")\n",
    "    f.write(str(b)+\"\\n\")\n",
    "f.close()"
   ]
  },
  {
   "cell_type": "code",
   "execution_count": 11,
   "metadata": {},
   "outputs": [],
   "source": [
    "# WAP to copy the content of 1 file to another file in uppercase.\n",
    "l=[]\n",
    "with open(\"Demo3.txt\",\"r\") as f:\n",
    "    l=f.read().upper()\n",
    "with open(\"Demo4.txt\",\"w\") as f1:\n",
    "    f1.writelines(l+\"\\n\")"
   ]
  },
  {
   "cell_type": "code",
   "execution_count": 23,
   "metadata": {},
   "outputs": [],
   "source": [
    "#WAP to reverse the content of a file and store in the second file.\n",
    "\n",
    "rev=\"\"\n",
    "with open(\"Demo3.txt\",\"r\") as f:\n",
    "    rev=f.read()\n",
    "rev1=rev[::-1]\n",
    "with open(\"Demo4.txt\",\"w\") as f1:\n",
    "    f1.write(rev1)"
   ]
  },
  {
   "cell_type": "code",
   "execution_count": 44,
   "metadata": {},
   "outputs": [
    {
     "name": "stdout",
     "output_type": "stream",
     "text": [
      "[['Hello World!!!\\n', 'print\\n', 'hii\\n', 'hello']]\n",
      "[['Hello World!!!\\n', 'print\\n', 'hii\\n', 'hello']]\n"
     ]
    }
   ],
   "source": [
    "#Pending\n",
    "rev=[]\n",
    "rev1=[]\n",
    "with open(\"Demo3.txt\",\"r\") as f:\n",
    "    rev.append(f.readlines())\n",
    "print(rev)\n",
    "for i in range(len(rev)):\n",
    "    p=rev.pop()\n",
    "    rev1.append(p)\n",
    "print(rev1)"
   ]
  },
  {
   "cell_type": "code",
   "execution_count": null,
   "metadata": {},
   "outputs": [],
   "source": [
    "# WAP to copy odd lines from one file to another file. Pending\n",
    "l1=[]\n",
    "c=0\n",
    "with open(\"Demo3.txt\",\"r\") as f:\n",
    "    r=f.readlines()\n",
    "    l1.append(f.readlines())\n",
    "with open(\"Demo4.txt\",\"w\") as f1:\n",
    "    i=0\n",
    "    while i!=len(r):\n",
    "        if i%2!=0:\n",
    "            f1.writelines(l1[i])\n",
    "        else:\n",
    "            continue"
   ]
  },
  {
   "cell_type": "code",
   "execution_count": 1,
   "metadata": {},
   "outputs": [
    {
     "name": "stdout",
     "output_type": "stream",
     "text": [
      "Enter file name : Demo3.txt\n",
      "Hello World!!!\n",
      "\n",
      "print\n",
      "\n",
      "hii\n",
      "\n",
      "hello\n",
      "\n",
      "Hello World!!!\n",
      "\n",
      "Enter q to quit : s\n",
      "print\n",
      "\n",
      "hii\n",
      "\n",
      "hello\n",
      "\n",
      "Hello World!!!\n",
      "\n",
      "print\n",
      "\n",
      "Enter q to quit : q\n"
     ]
    }
   ],
   "source": [
    "# WAP pagger program,your solution should be from file and display the text file 5 lines at a time pausing each \n",
    "#  time to ask the user to press any key to continue and press Q to quit. \n",
    "\n",
    "# file=input(\"Enter the file name : \")\n",
    "# flag=True\n",
    "# with open(file,\"r\") as f:\n",
    "#     while flag==True:\n",
    "#         ans=input(\"Do you want to print further : \")\n",
    "#         if ans==\"Q\" or \"q\":\n",
    "#             flag=False\n",
    "#             break\n",
    "#         if flag==True:\n",
    "#             i=0\n",
    "#             while i!=5:\n",
    "#                 print(f.readline())\n",
    "#                 i+=1\n",
    "\n",
    "t=open(input(\"Enter file name : \"))\n",
    "lines=5\n",
    "for index,line in enumerate(t,1):\n",
    "    print(line)\n",
    "    if index%lines==0:\n",
    "        x=input(\"Enter q to quit : \")\n",
    "        if x.lower()==\"q\":\n",
    "            break\n",
    "        else:\n",
    "            continue"
   ]
  },
  {
   "cell_type": "code",
   "execution_count": 12,
   "metadata": {},
   "outputs": [],
   "source": [
    "# WAP to copy the content of 2 files into a single new file.\n",
    "\n",
    "# l1=[]\n",
    "# l2=[]\n",
    "\n",
    "# with open(\"Demo3.txt\",\"r\") as f:\n",
    "#     l1.append(f.read())\n",
    "# with open(\"Demo4.txt\",\"r\") as f:\n",
    "#     l2.append(f.read())\n",
    "# with open(\"Demo5.txt\",\"w\") as f:\n",
    "#     f.writelines(l1)\n",
    "#     f.writelines(l2)\n",
    "\n",
    "g=open(\"Demo3.txt\",\"r\")\n",
    "h=open(\"Demo4.txt\",\"r\")\n",
    "with open(\"Demo5.txt\",\"w\") as f:\n",
    "    f.writelines(g.read())\n",
    "    f.writelines(h.read())    "
   ]
  },
  {
   "cell_type": "code",
   "execution_count": 24,
   "metadata": {},
   "outputs": [],
   "source": [
    "# WAP to display all lines of a file except those with # sign(comment).\n",
    "\n",
    "# f=open(\"Demo3.txt\",\"r\")\n",
    "# f1=open(\"Demo4.txt\",\"w\")\n",
    "# z=f.readlines()\n",
    "# for i in z:\n",
    "#     for y in i:\n",
    "#         if y==\"#\":\n",
    "#             f1.write(\"\\n\")\n",
    "#             break\n",
    "#         else:\n",
    "#             f1.write(y)\n",
    "# f1.close()\n",
    "\n",
    "f=open(\"Demo3.txt\",\"r\")\n",
    "f1=open(\"Demo4.txt\",\"w\")\n",
    "for i in f.readlines():\n",
    "    f1.writelines(i[:i.find(\"#\")]+\"\\n\")\n",
    "f1.close()\n",
    "\n"
   ]
  }
 ],
 "metadata": {
  "kernelspec": {
   "display_name": "Python 3",
   "language": "python",
   "name": "python3"
  },
  "language_info": {
   "codemirror_mode": {
    "name": "ipython",
    "version": 3
   },
   "file_extension": ".py",
   "mimetype": "text/x-python",
   "name": "python",
   "nbconvert_exporter": "python",
   "pygments_lexer": "ipython3",
   "version": "3.8.5"
  }
 },
 "nbformat": 4,
 "nbformat_minor": 4
}
