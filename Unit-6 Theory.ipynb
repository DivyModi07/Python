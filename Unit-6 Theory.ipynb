{
 "cells": [
  {
   "cell_type": "code",
   "execution_count": 27,
   "metadata": {},
   "outputs": [
    {
     "name": "stdout",
     "output_type": "stream",
     "text": [
      "Hello world!!!\n",
      "vvvvvvvvvvvvvvvvvvvv\n",
      "vvvvvvvvvvvvvvvvvvvvvvv\n",
      "vvvvvvvvvvvvvvvvvvvvvvv\n",
      "\n",
      "True\n",
      "Hello\n",
      "\n"
     ]
    }
   ],
   "source": [
    "f=open(\"demo.txt\",\"r\")\n",
    "print(f.read())\n",
    "f.close()\n",
    "print(f.closed)\n",
    "f1=open(\"D:\\\\demo1.txt\",\"r\")\n",
    "print(f1.read())"
   ]
  },
  {
   "cell_type": "code",
   "execution_count": 25,
   "metadata": {},
   "outputs": [
    {
     "name": "stdout",
     "output_type": "stream",
     "text": [
      "Hello world!!!\n",
      "vvvvvvvvvvvvvvvvvvvv\n",
      "vvvvvvvvvvvvvvvvvvvvvvv\n",
      "vvvvvvvvvvvvvvvvvvvvvvv\n",
      "\n",
      "False\n",
      "True\n"
     ]
    }
   ],
   "source": [
    "with open(\"demo.txt\",\"r\") as f:\n",
    "    print(f.read())\n",
    "    print(f.closed)\n",
    "print(f.closed)"
   ]
  },
  {
   "cell_type": "code",
   "execution_count": 36,
   "metadata": {},
   "outputs": [
    {
     "name": "stdout",
     "output_type": "stream",
     "text": [
      "script\n",
      "\n"
     ]
    }
   ],
   "source": [
    "f=open(\"demo.txt\",\"r+\")\n",
    "f.write(\"This is java\")\n",
    "print(f.read())\n",
    "f.close()\n",
    "\n",
    "f=open(\"demo.txt\",\"w+\")\n",
    "f.write(\"This is javascript\")\n",
    "print(f.read())\n",
    "f.close()\n"
   ]
  },
  {
   "cell_type": "code",
   "execution_count": 50,
   "metadata": {},
   "outputs": [
    {
     "name": "stdout",
     "output_type": "stream",
     "text": [
      "This is python1\n",
      "This is python2\n",
      "This is python3\n",
      "This is python4\n",
      "\n",
      "0\n",
      "This is python1\n",
      "This is python2\n",
      "This is python3\n",
      "This is python4\n",
      "\n",
      "64\n"
     ]
    }
   ],
   "source": [
    "f=open(\"Demo1.txt\",\"rt\")\n",
    "# f.read()\n",
    "print(f.read())\n",
    "f.seek(0) # pointer at 0 index\n",
    "print(f.tell()) # after every line \\n is also counted ,so 14*4=64\n",
    "print(f.read())\n",
    "print(f.tell())\n"
   ]
  },
  {
   "cell_type": "code",
   "execution_count": 53,
   "metadata": {},
   "outputs": [
    {
     "name": "stdout",
     "output_type": "stream",
     "text": [
      "This \n",
      "5\n",
      "is python1\n",
      "15\n",
      "\n",
      "Th\n",
      "18\n",
      "is is python2\n",
      "This i\n",
      "38\n"
     ]
    }
   ],
   "source": [
    "f=open(\"Demo1.txt\",\"rt\")\n",
    "print(f.read(5))\n",
    "print(f.tell())\n",
    "print(f.read(10)) \n",
    "print(f.tell())\n",
    "print(f.read(3))\n",
    "print(f.tell())\n",
    "print(f.read(20))\n",
    "print(f.tell())"
   ]
  },
  {
   "cell_type": "code",
   "execution_count": 60,
   "metadata": {},
   "outputs": [
    {
     "name": "stdout",
     "output_type": "stream",
     "text": [
      "This is python1\n",
      "\n",
      "This is \n",
      "python2\n",
      "\n",
      "This is python1\n",
      "\n"
     ]
    }
   ],
   "source": [
    "f=open(\"Demo1.txt\",\"r\")\n",
    "print(f.readline())\n",
    "print(f.readline(8))\n",
    "print(f.readline(50))\n",
    "f.seek(0)\n",
    "print(f.readline())"
   ]
  },
  {
   "cell_type": "code",
   "execution_count": 79,
   "metadata": {},
   "outputs": [
    {
     "name": "stdout",
     "output_type": "stream",
     "text": [
      "['This is python1\\n', 'This is python2\\n']\n"
     ]
    }
   ],
   "source": [
    "f=open(\"Demo1.txt\",\"r\")\n",
    "print(f.readlines(16)) # here 15 is index not length"
   ]
  },
  {
   "cell_type": "code",
   "execution_count": 83,
   "metadata": {},
   "outputs": [],
   "source": [
    "f=open(\"b2.txt\",\"w\")\n",
    "f.write(\"This is a test1\")\n",
    "f.close()"
   ]
  },
  {
   "cell_type": "code",
   "execution_count": 88,
   "metadata": {},
   "outputs": [],
   "source": [
    "with open(\"b2.txt\",\"w\") as f:\n",
    "    f.write(\"This is alternate method1\\nThis is alternate method1\\n\")"
   ]
  },
  {
   "cell_type": "code",
   "execution_count": 91,
   "metadata": {},
   "outputs": [
    {
     "name": "stdout",
     "output_type": "stream",
     "text": [
      "Enter name 1:a\n",
      "Enter name 2:a\n",
      "Enter name 3:a\n",
      "Enter name 4:a\n",
      "Enter name 5:aa\n"
     ]
    }
   ],
   "source": [
    "f=open(\"Demo1.txt\",\"w\")\n",
    "for i in range(1,6):\n",
    "    name=input(f\"Enter name {i}:\")\n",
    "    f.write(name+\"\\n\")\n",
    "f.close()\n",
    "    \n",
    "    "
   ]
  },
  {
   "cell_type": "code",
   "execution_count": 94,
   "metadata": {},
   "outputs": [],
   "source": [
    "f=open(\"Demo1.txt\",\"w\")\n",
    "l=[\"a\",\"b\\n\",\"c\\n\",\"d\\n\"]\n",
    "f.writelines(l)\n",
    "f.close()"
   ]
  },
  {
   "cell_type": "code",
   "execution_count": 2,
   "metadata": {},
   "outputs": [
    {
     "name": "stdout",
     "output_type": "stream",
     "text": [
      "Enter name 1:a\n",
      "Enter name 2:b\n",
      "Enter name 3:c\n",
      "Enter name 4:d\n",
      "Enter name 5:e\n"
     ]
    }
   ],
   "source": [
    "f=open(\"Demo1.txt\",\"w\")\n",
    "l=[]\n",
    "for i in range(1,6):\n",
    "    name=input(f\"Enter name {i}:\")   \n",
    "    l.append(name+\"\\n\")\n",
    "f.writelines(l)\n",
    "f.close()\n",
    "    \n",
    "    "
   ]
  },
  {
   "cell_type": "code",
   "execution_count": 4,
   "metadata": {},
   "outputs": [],
   "source": [
    "l=[]\n",
    "f=open(\"Demo1.txt\",\"r\")\n",
    "l=f.read()\n",
    "f.close()\n",
    "f1=open(\"Demo2.txt\",\"w\")\n",
    "f1.writelines(l+\"\\n\")\n",
    "f1.close()"
   ]
  }
 ],
 "metadata": {
  "kernelspec": {
   "display_name": "Python 3",
   "language": "python",
   "name": "python3"
  },
  "language_info": {
   "codemirror_mode": {
    "name": "ipython",
    "version": 3
   },
   "file_extension": ".py",
   "mimetype": "text/x-python",
   "name": "python",
   "nbconvert_exporter": "python",
   "pygments_lexer": "ipython3",
   "version": "3.8.5"
  }
 },
 "nbformat": 4,
 "nbformat_minor": 4
}
