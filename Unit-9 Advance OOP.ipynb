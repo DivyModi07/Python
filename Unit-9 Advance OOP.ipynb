{
 "cells": [
  {
   "cell_type": "code",
   "execution_count": 5,
   "metadata": {},
   "outputs": [
    {
     "name": "stdout",
     "output_type": "stream",
     "text": [
      "30\n",
      "60\n"
     ]
    }
   ],
   "source": [
    "class A:\n",
    "#     def add(self,a,b):\n",
    "#         print(a+b)\n",
    "    def add(self,a,b,c=0):\n",
    "        print(a+b+c)\n",
    "obj=A()\n",
    "obj.add(10,20)\n",
    "obj.add(10,20,30)"
   ]
  },
  {
   "cell_type": "code",
   "execution_count": 11,
   "metadata": {},
   "outputs": [
    {
     "name": "stdout",
     "output_type": "stream",
     "text": [
      "First function of class B\n",
      "Second function of class A\n",
      "Second function of class B\n",
      "\n",
      "First function of class A\n",
      "Second function of class A\n"
     ]
    }
   ],
   "source": [
    "# overriding\n",
    "class A():\n",
    "    def first(self):\n",
    "        print(\"First function of class A\")\n",
    "    def second(self):\n",
    "        print(\"Second function of class A\")\n",
    "        \n",
    "class B(A):\n",
    "    def first(self):\n",
    "        print(\"First function of class B\")\n",
    "    def display(self):\n",
    "        print(\"Second function of class B\")\n",
    "        \n",
    "obj=B()\n",
    "obj.first()\n",
    "obj.second()\n",
    "obj.display()\n",
    "print()\n",
    "\n",
    "obj1=A()\n",
    "obj1.first()\n",
    "obj1.second()\n",
    "# obj1.display()  AttributeError: 'A' object has no attribute 'display'"
   ]
  },
  {
   "cell_type": "code",
   "execution_count": 18,
   "metadata": {},
   "outputs": [
    {
     "name": "stdout",
     "output_type": "stream",
     "text": [
      "50\n"
     ]
    }
   ],
   "source": [
    "class Parent:\n",
    "    def __init__(self):\n",
    "        self.attr1=50\n",
    "        self.attr2=60\n",
    "        \n",
    "class Child(Parent):\n",
    "    def __init__(self):\n",
    "        super().__init__()\n",
    "#               OR\n",
    "#         Parent.__init__(self)\n",
    "        self.attr3=70\n",
    "    \n",
    "obj=Child()\n",
    "print(obj.attr1)"
   ]
  },
  {
   "cell_type": "code",
   "execution_count": 21,
   "metadata": {},
   "outputs": [
    {
     "name": "stdout",
     "output_type": "stream",
     "text": [
      "Addition: 30\n",
      "Multiplication: 200\n",
      "Addition: 30\n"
     ]
    }
   ],
   "source": [
    "class Add:\n",
    "    def result(self,a,b):\n",
    "        print(\"Addition:\",a+b)\n",
    "        \n",
    "class Mult(Add):\n",
    "    def result(self,a,b):\n",
    "        super().result(a,b)\n",
    "        print(\"Multiplication:\",a*b)\n",
    "    \n",
    "m=Mult()\n",
    "m.result(10,20)\n",
    "m=Add()\n",
    "m.result(10,20)"
   ]
  },
  {
   "cell_type": "code",
   "execution_count": 25,
   "metadata": {},
   "outputs": [
    {
     "name": "stdout",
     "output_type": "stream",
     "text": [
      "5\n",
      "HiiHello\n"
     ]
    }
   ],
   "source": [
    "# operator overloading\n",
    "\n",
    "class A():\n",
    "    def __init__(self,a):\n",
    "        self.a=a\n",
    "    def __add__(self,other):\n",
    "        return self.a+other.a\n",
    "    \n",
    "obj1=A(2)\n",
    "obj2=A(3)\n",
    "obj3=A(\"Hii\")\n",
    "obj4=A(\"Hello\")\n",
    "\n",
    "print(obj1+obj2)\n",
    "print(obj3+obj4)"
   ]
  },
  {
   "cell_type": "code",
   "execution_count": 30,
   "metadata": {},
   "outputs": [
    {
     "name": "stdout",
     "output_type": "stream",
     "text": [
      "Add: 14\n",
      "Sub: 6\n",
      "Mult: 40\n",
      "Div: 2.5\n",
      "Floor div: 2\n",
      "Modulas: 2\n",
      "Power: 10000\n"
     ]
    }
   ],
   "source": [
    "# WAP\n",
    "\n",
    "class Calc():\n",
    "    def __init__(self,a):\n",
    "        self.a=a\n",
    "    def __add__(self,other):\n",
    "        return self.a+other.a\n",
    "    def __sub__(self,other):\n",
    "        return self.a-other.a\n",
    "    def __mul__(self,other):\n",
    "        return self.a*other.a\n",
    "    def __truediv__(self,other):\n",
    "        return self.a/other.a\n",
    "    def __floordiv__(self,other):\n",
    "        return self.a//other.a\n",
    "    def __mod__(self,other):\n",
    "        return self.a//other.a\n",
    "    def __pow__(self,other):\n",
    "        return self.a**other.a\n",
    "    \n",
    "obj1=Calc(10)\n",
    "obj2=Calc(4)\n",
    "\n",
    "print(\"Add:\",obj1+obj2)\n",
    "print(\"Sub:\",obj1.__sub__(obj2))\n",
    "print(\"Mult:\",obj1*obj2)\n",
    "print(\"Div:\",obj1/obj2)\n",
    "print(\"Floor div:\",obj1//obj2)\n",
    "print(\"Modulas:\",obj1%obj2)\n",
    "print(\"Power:\",obj1**obj2)"
   ]
  },
  {
   "cell_type": "code",
   "execution_count": 33,
   "metadata": {},
   "outputs": [
    {
     "name": "stdout",
     "output_type": "stream",
     "text": [
      "False\n",
      "True\n",
      "False\n",
      "True\n",
      "False\n",
      "True\n"
     ]
    }
   ],
   "source": [
    "class A:\n",
    "    def __init__(self,a):\n",
    "        self.a=a\n",
    "    def __gt__(self,other):\n",
    "        if self.a>other.a:\n",
    "            return True\n",
    "        else:\n",
    "            return False\n",
    "    def __gt__(self,other):\n",
    "        if self.a>other.a:\n",
    "            return True\n",
    "        else:\n",
    "            return False\n",
    "    def __lt__(self,other):\n",
    "        if self.a<other.a:\n",
    "            return True\n",
    "        else:\n",
    "            return False\n",
    "    def __ge__(self,other):\n",
    "        if self.a>=other.a:\n",
    "            return True\n",
    "        else:\n",
    "            return False\n",
    "    def __le__(self,other):\n",
    "        if self.a<=other.a:\n",
    "            return True\n",
    "        else:\n",
    "            return False\n",
    "    def __eq__(self,other):\n",
    "        if self.a>=other.a:\n",
    "            return True\n",
    "        else:\n",
    "            return False\n",
    "    def __eq__(self,other):\n",
    "        if self.a==other.a:\n",
    "            return True\n",
    "        else:\n",
    "            return False\n",
    "    def __ne__(self,other):\n",
    "        if self.a!=other.a:\n",
    "            return True\n",
    "        else:\n",
    "            return False\n",
    "        \n",
    "a=A(10)\n",
    "b=A(20)\n",
    "print(a>b)\n",
    "print(a<b)\n",
    "print(a>=b)\n",
    "print(a<=b)\n",
    "print(a==b)\n",
    "print(a!=b)"
   ]
  },
  {
   "cell_type": "code",
   "execution_count": 38,
   "metadata": {},
   "outputs": [
    {
     "name": "stdout",
     "output_type": "stream",
     "text": [
      "[<class '__main__.grandparent'>, <class 'object'>]\n",
      "[<class '__main__.parent'>, <class '__main__.grandparent'>, <class 'object'>]\n",
      "[<class '__main__.child'>, <class '__main__.parent'>, <class '__main__.grandparent'>, <class 'object'>]\n"
     ]
    }
   ],
   "source": [
    "# Multilevel Inheritance\n",
    "\n",
    "class grandparent():\n",
    "    def property1(self):\n",
    "        print(\"Property of grandparent\")\n",
    "class parent(grandparent):\n",
    "    def property1(self):\n",
    "        print(\"Property of parent\")\n",
    "class child(parent):\n",
    "    def property1(self):\n",
    "        print(\"Property of child\")\n",
    "obj1=grandparent()\n",
    "print(grandparent.mro())\n",
    "obj2=parent()\n",
    "print(parent.mro())\n",
    "obj3=child()\n",
    "print(child.mro())"
   ]
  },
  {
   "cell_type": "code",
   "execution_count": 11,
   "metadata": {},
   "outputs": [
    {
     "name": "stdout",
     "output_type": "stream",
     "text": [
      "[<class '__main__.parent'>, <class 'object'>]\n",
      "Property of parent\n",
      "Property of child1\n",
      "[<class '__main__.child1'>, <class '__main__.parent'>, <class 'object'>]\n",
      "Property of parent\n",
      "Property of child2\n",
      "[<class '__main__.child2'>, <class '__main__.parent'>, <class 'object'>]\n"
     ]
    }
   ],
   "source": [
    "# Hierarchical Inheritance\n",
    "\n",
    "class parent():\n",
    "    def property1(self):\n",
    "        print(\"Property of parent\")\n",
    "class child1(parent):\n",
    "    def property2(self):\n",
    "        print(\"Property of child1\")\n",
    "class child2(parent):\n",
    "    def property3(self):\n",
    "        print(\"Property of child2\")\n",
    "        \n",
    "obj1=parent()\n",
    "print(parent.mro())\n",
    "obj2=child1()\n",
    "obj2.property1()\n",
    "obj2.property2()\n",
    "print(child1.mro())\n",
    "obj3=child2()\n",
    "obj3.property1()\n",
    "obj3.property3()\n",
    "print(child2.mro())"
   ]
  },
  {
   "cell_type": "code",
   "execution_count": null,
   "metadata": {},
   "outputs": [],
   "source": [
    "# From meets notes,Pending"
   ]
  },
  {
   "cell_type": "code",
   "execution_count": 7,
   "metadata": {},
   "outputs": [
    {
     "name": "stdout",
     "output_type": "stream",
     "text": [
      "True\n",
      "False\n",
      "True\n",
      "True\n",
      "False\n",
      "True\n"
     ]
    }
   ],
   "source": [
    "# issubclass() and isinstance()\n",
    "class parent():\n",
    "    def func1():\n",
    "        print(\"Hello parent\")\n",
    "class child(parent):\n",
    "    def func2():\n",
    "        print(\"Hello child\")\n",
    "print(issubclass(child,parent))\n",
    "print(issubclass(parent,child))\n",
    "\n",
    "A=child()\n",
    "B=parent()\n",
    "print(isinstance(A,child))\n",
    "# A.func1() will not work without func1(self)\n",
    "print(isinstance(A,parent))\n",
    "print(isinstance(B,child))\n",
    "print(isinstance(B,parent))"
   ]
  },
  {
   "cell_type": "code",
   "execution_count": 10,
   "metadata": {},
   "outputs": [
    {
     "name": "stdout",
     "output_type": "stream",
     "text": [
      "In class B\n",
      "[<class '__main__.D'>, <class '__main__.B'>, <class '__main__.C'>, <class '__main__.A'>, <class 'object'>]\n"
     ]
    }
   ],
   "source": [
    "# MRO(Method Resolution Order)\n",
    "\n",
    "class A():\n",
    "    def rk(self):\n",
    "        print(\"In class A\")\n",
    "class B(A):\n",
    "    def rk(self):\n",
    "        print(\"In class B\")\n",
    "class C(A):\n",
    "    def rk(self):\n",
    "        print(\"In class C\")\n",
    "class D(B,C):\n",
    "    pass\n",
    "r=D()\n",
    "r.rk()\n",
    "print(D.mro())"
   ]
  },
  {
   "cell_type": "code",
   "execution_count": 14,
   "metadata": {},
   "outputs": [
    {
     "name": "stdout",
     "output_type": "stream",
     "text": [
      "foo from P1\n",
      "bar from C2\n",
      "[<class '__main__.GC'>, <class '__main__.C1'>, <class '__main__.P1'>, <class '__main__.C2'>, <class '__main__.P2'>, <class 'object'>]\n"
     ]
    }
   ],
   "source": [
    "class P1:\n",
    "    def foo(self):\n",
    "        print(\"foo from P1\")\n",
    "class P2:\n",
    "    def foo(self):\n",
    "        print(\"foo from P2\")\n",
    "    def bar(self):\n",
    "        print(\"bar from P2\")\n",
    "class C1(P1):\n",
    "    pass\n",
    "class C2(P2):\n",
    "    def bar(self):\n",
    "        print(\"bar from C2\")\n",
    "class GC(C1,C2):\n",
    "    pass\n",
    "g=GC()\n",
    "g.foo()\n",
    "g.bar()\n",
    "print(GC.mro())"
   ]
  },
  {
   "cell_type": "code",
   "execution_count": 19,
   "metadata": {},
   "outputs": [
    {
     "ename": "TypeError",
     "evalue": "Cannot create a consistent method resolution\norder (MRO) for bases P1, P2",
     "output_type": "error",
     "traceback": [
      "\u001b[1;31m---------------------------------------------------------------------------\u001b[0m",
      "\u001b[1;31mTypeError\u001b[0m                                 Traceback (most recent call last)",
      "\u001b[1;32m<ipython-input-19-e24604050188>\u001b[0m in \u001b[0;36m<module>\u001b[1;34m\u001b[0m\n\u001b[0;32m     12\u001b[0m     \u001b[1;32mdef\u001b[0m \u001b[0mbar\u001b[0m\u001b[1;33m(\u001b[0m\u001b[0mself\u001b[0m\u001b[1;33m)\u001b[0m\u001b[1;33m:\u001b[0m\u001b[1;33m\u001b[0m\u001b[1;33m\u001b[0m\u001b[0m\n\u001b[0;32m     13\u001b[0m         \u001b[0mprint\u001b[0m\u001b[1;33m(\u001b[0m\u001b[1;34m\"bar from C2\"\u001b[0m\u001b[1;33m)\u001b[0m\u001b[1;33m\u001b[0m\u001b[1;33m\u001b[0m\u001b[0m\n\u001b[1;32m---> 14\u001b[1;33m \u001b[1;32mclass\u001b[0m \u001b[0mGC\u001b[0m\u001b[1;33m(\u001b[0m\u001b[0mC1\u001b[0m\u001b[1;33m,\u001b[0m\u001b[0mC2\u001b[0m\u001b[1;33m)\u001b[0m\u001b[1;33m:\u001b[0m\u001b[1;33m\u001b[0m\u001b[1;33m\u001b[0m\u001b[0m\n\u001b[0m\u001b[0;32m     15\u001b[0m     \u001b[1;32mpass\u001b[0m\u001b[1;33m\u001b[0m\u001b[1;33m\u001b[0m\u001b[0m\n\u001b[0;32m     16\u001b[0m \u001b[0mg\u001b[0m\u001b[1;33m=\u001b[0m\u001b[0mGC\u001b[0m\u001b[1;33m(\u001b[0m\u001b[1;33m)\u001b[0m\u001b[1;33m\u001b[0m\u001b[1;33m\u001b[0m\u001b[0m\n",
      "\u001b[1;31mTypeError\u001b[0m: Cannot create a consistent method resolution\norder (MRO) for bases P1, P2"
     ]
    }
   ],
   "source": [
    "class P1:\n",
    "    def foo(self):\n",
    "        print(\"foo from P1\")\n",
    "class P2:\n",
    "    def foo(self):\n",
    "        print(\"foo from P2\")\n",
    "    def bar(self):\n",
    "        print(\"bar from P2\")\n",
    "class C1(P1,P2):\n",
    "    pass\n",
    "class C2(P2,P1):\n",
    "    def bar(self):\n",
    "        print(\"bar from C2\")\n",
    "class GC(C1,C2):\n",
    "    pass\n",
    "g=GC()\n",
    "g.foo()\n",
    "g.bar()\n",
    "print(GC.mro())"
   ]
  },
  {
   "cell_type": "code",
   "execution_count": 28,
   "metadata": {},
   "outputs": [
    {
     "name": "stdout",
     "output_type": "stream",
     "text": [
      "Drawing a circle\n"
     ]
    }
   ],
   "source": [
    "from abc import ABC,abstractmethod\n",
    "\n",
    "class shape(ABC):\n",
    "    def __init__(self,shape_name):\n",
    "        self.shape_name=shape_name\n",
    "    @abstractmethod\n",
    "    def draw(self):\n",
    "        pass\n",
    "class circle(shape):\n",
    "    def __init__(self):\n",
    "        super().__init__(\"circle\")\n",
    "    def draw(self):\n",
    "        print(\"Drawing a\",self.shape_name)\n",
    "    \n",
    "c=circle()\n",
    "c.draw()"
   ]
  },
  {
   "cell_type": "code",
   "execution_count": 36,
   "metadata": {},
   "outputs": [
    {
     "name": "stdout",
     "output_type": "stream",
     "text": [
      "Name: Meet1\n",
      "Salary: 50000\n",
      "Name: Meet2\n",
      "Salary: 50000\n",
      "Subject: Java\n",
      "Name: Meet3\n",
      "Salary: 50000\n",
      "Department: HOD\n"
     ]
    }
   ],
   "source": [
    "# WAP\n",
    "\n",
    "class Staff():\n",
    "    def __init__(self,name,salary):\n",
    "        self.name=name\n",
    "        self.salary=salary\n",
    "    def display(self):\n",
    "        print(\"Name:\",self.name+\"\\nSalary:\",self.salary)\n",
    "class Teaching(Staff):\n",
    "    def __init__(self,name,salary,subject):\n",
    "        super().__init__(name,salary)\n",
    "        self.subject=subject\n",
    "    def display(self):\n",
    "        super().display()\n",
    "        print(\"Subject:\",self.subject)\n",
    "class Non_Teaching(Staff):\n",
    "    def __init__(self,name,salary,dept):\n",
    "        super().__init__(name,salary)\n",
    "        self.dept=dept\n",
    "    def display(self):\n",
    "        super().display()\n",
    "        print(\"Department:\",self.dept)\n",
    "    \n",
    "s=Staff(\"Meet1\",50000)\n",
    "t=Teaching(\"Meet2\",50000,\"Java\")\n",
    "nt=Non_Teaching(\"Meet3\",50000,\"HOD\")\n",
    "s.display()\n",
    "t.display()\n",
    "nt.display()"
   ]
  },
  {
   "cell_type": "code",
   "execution_count": 37,
   "metadata": {},
   "outputs": [],
   "source": [
    "# Create a class called Student having name and email as its data members and put_data as Bound method.The init func()\n",
    "# should asign the value pass as the parameter to the variables and the put_data function should display the data of the \n",
    "# student.Create another class called Phd_guide having name,email and students as its data members.Here the student variable \n",
    "# is the list of students under the guide.The phd_guide should have 4 bound method:init,put_data,add,remove\n",
    "# __init__:to initialize data\n",
    "# put_data:should display data member including list of student\n",
    "# add:should add student to the student list\n",
    "# remove:should remove student from the list\n",
    "\n",
    "# class Student():\n",
    "#     def __init__(self,name,email):\n",
    "#         self.name=name\n",
    "#         self.email=email\n",
    "#     def put_data(self):\n",
    "#         print(\"Name:\",self.name)\n",
    "#         print(\"Email:\",self.email)\n",
    "# class Phd_Guide(Student):\n",
    "#     students=[]\n",
    "#     def __init__(self,name,email,students):\n",
    "#         super().__init__(name,email)\n",
    "#         self.students=students\n",
    "#     def Add(self):\n",
    "        "
   ]
  },
  {
   "cell_type": "code",
   "execution_count": 1,
   "metadata": {},
   "outputs": [
    {
     "name": "stdout",
     "output_type": "stream",
     "text": [
      "None\n",
      "Details of student 1:\n",
      "Roll no.: 2\n",
      "Name: Meet\n",
      "Age: 20\n",
      "total_marks: 90 \n",
      "\n",
      "Details of student 2:\n",
      "Roll no.: 3\n",
      "Name: Hetansh\n",
      "Age: 20\n",
      "total_marks: 90 \n",
      "\n",
      "None\n"
     ]
    }
   ],
   "source": [
    "# Create a class student with the following member attributes :rollno,name,age,total marks.\n",
    "# Create suitable method for reading and printing member variable.WAP to overload == operator to print the details of\n",
    "# students having same marks.\n",
    "\n",
    "class Student():\n",
    "    def __init__(self,rollno,name,age,total_marks):\n",
    "        self.rollno=rollno\n",
    "        self.name=name\n",
    "        self.age=age\n",
    "        self.total_marks=total_marks\n",
    "    def display(self):\n",
    "        print(\"Roll no.:\",self.rollno)\n",
    "        print(\"Name:\",self.name)        \n",
    "        print(\"Age:\",self.age)        \n",
    "        print(\"total_marks:\",self.total_marks,\"\\n\")\n",
    "    def __eq__(self,other):\n",
    "        if self.total_marks==other.total_marks:\n",
    "            print(\"Details of student 1:\")\n",
    "            self.display()\n",
    "            print(\"Details of student 2:\")\n",
    "            other.display()\n",
    "s1=Student(1,\"Divy\",20,92)\n",
    "s2=Student(2,\"Meet\",20,90)\n",
    "s3=Student(3,\"Hetansh\",20,90)\n",
    "print(s1.__eq__(s2))\n",
    "print(s2.__eq__(s3))"
   ]
  },
  {
   "cell_type": "code",
   "execution_count": 13,
   "metadata": {},
   "outputs": [
    {
     "name": "stdout",
     "output_type": "stream",
     "text": [
      "Enter your id:1\n",
      "Enter your name:Divy\n",
      "Enter your salary100000\n",
      "\n",
      "Employee id: 1\n",
      "Employee name: Divy\n",
      "Employee basic salary: 100000\n",
      "\n",
      "DA: 35000.0\n",
      "HRA: 17000.0\n",
      "PF: 12000.0\n",
      "\n",
      "Total Salary: 140000.0\n",
      "\n"
     ]
    }
   ],
   "source": [
    "# WAP to find the net salary of employee using inheritance.Create three class Employee,Perks and NetSalary.\n",
    "# Make Employee class as abstract class.It has 4 methods:\n",
    "#  1.GetEmployee():It take user input for id,name and basic salary\n",
    "#  2.EmployeeDetails():it prints id,name,basic salary\n",
    "#  3.GetSalary():-return a basic salary\n",
    "#  4. Emp_id:(abstract class)\n",
    "\n",
    "# Now Perks class have 3 methods:\n",
    "#  1.CalcPerks():Calculate DA,HRA,PF\n",
    "#              DA-35% of basic salary,HRA-17% of Basic salary,PF-12% of basic salary\n",
    "#  2.printPerks():print DA,HRA,PF\n",
    "#  3.TotalPerks():DA+HRA-PF\n",
    "#  4.Emp_id which is abtract method\n",
    "\n",
    "# NetSalary:\n",
    "#  1.getTotal():Calculate total Salary\n",
    "\n",
    "from abc import ABC,abstractmethod\n",
    "class Employee(ABC):\n",
    "    \n",
    "    def GetEmployee(self):\n",
    "        self.id=int(input(\"Enter your id:\"))\n",
    "        self.name=input(\"Enter your name:\")\n",
    "        self.basic_salary=int(input(\"Enter your salary\"))\n",
    "        print()\n",
    "        \n",
    "    def EmployeeDetails(self):\n",
    "        print(\"Employee id:\",self.id)\n",
    "        print(\"Employee name:\",self.name)        \n",
    "        print(\"Employee basic salary:\",self.basic_salary)\n",
    "        print()\n",
    "        \n",
    "    def GetSalary(self):\n",
    "        return self.basic_salary\n",
    "    \n",
    "    @abstractmethod\n",
    "    def Emp_id(self):\n",
    "        pass\n",
    "    \n",
    "class Perks(Employee):\n",
    "        \n",
    "    def CalcPerks(self):\n",
    "        self.GetEmployee()\n",
    "        self.DA=self.basic_salary*0.35\n",
    "        self.HRA=self.basic_salary*0.17        \n",
    "        self.PF=self.basic_salary*0.12        \n",
    "        \n",
    "    def PrintPerks(self):\n",
    "        self.EmployeeDetails()\n",
    "        print(\"DA:\",self.DA)\n",
    "        print(\"HRA:\",self.HRA)        \n",
    "        print(\"PF:\",self.PF)\n",
    "        print()\n",
    "        \n",
    "    def TotalPerks(self):\n",
    "        self.totalperks=self.DA+self.HRA-self.PF\n",
    "        return self.totalperks\n",
    "        \n",
    "    def Emp_id(self):\n",
    "        pass\n",
    "    \n",
    "class NetSalary(Perks):\n",
    "    def GetTotal(self):\n",
    "        self.CalcPerks()\n",
    "        self.PrintPerks()\n",
    "        print(\"Total Salary:\",self.GetSalary()+self.TotalPerks())\n",
    "        print()\n",
    "        \n",
    "emp1=NetSalary()\n",
    "emp1.GetTotal()\n",
    "\n"
   ]
  },
  {
   "cell_type": "code",
   "execution_count": 31,
   "metadata": {},
   "outputs": [
    {
     "name": "stdout",
     "output_type": "stream",
     "text": [
      "HDD --- 500\n",
      "Do you want this items(Y/N):y\n",
      "Enter quantity:2\n",
      "RAM --- 2000\n",
      "Do you want this items(Y/N):y\n",
      "Enter quantity:2\n",
      "Printer --- 6000\n",
      "Do you want this items(Y/N):n\n",
      "Pendrive --- 800\n",
      "Do you want this items(Y/N):n\n",
      "Total Amount: 5000\n",
      "\n",
      " 1.Cash \n",
      " 2.Cheque\n",
      "Enter mode of payment(1/2):1\n",
      "No. of 2000 notes: 2\n",
      "No. of 500 notes: 2\n"
     ]
    }
   ],
   "source": [
    "class Bill():\n",
    "    def __init__(self):\n",
    "        rates={\"HDD\":500,\"RAM\":2000,\"Printer\":6000,\"Pendrive\":800}\n",
    "        cart={}\n",
    "        totalamt=0\n",
    "        for i,j in (rates.items()):\n",
    "            print(i,\"---\",j)\n",
    "            ans=input(\"Do you want this items(Y/N):\")\n",
    "            if ans.upper()==\"Y\":\n",
    "                quantity=int(input(\"Enter quantity:\"))\n",
    "                cart[i]=quantity*j\n",
    "            else:\n",
    "                continue\n",
    "        for i in cart.values():\n",
    "            totalamt+=i\n",
    "        print(\"Total Amount:\",totalamt)\n",
    "        print()\n",
    "        print(\" 1.Cash \\n 2.Cheque\")\n",
    "        mode=int(input(\"Enter mode of payment(1/2):\"))\n",
    "        if mode==1:\n",
    "            Cash_Payment(totalamt)\n",
    "        elif mode==2:\n",
    "            CheckNumber=int(input(\"Enter check number:\"))\n",
    "            BankName=int(input(\"Enter Bank Name:\"))\n",
    "            Checque_Payment(CheckNumber,BankName)\n",
    "            \n",
    "        \n",
    "class Cash_Payment(Bill):\n",
    "    def __init__(self,totalamt):\n",
    "        self.totalamt=totalamt\n",
    "        self.d={2000:0,500:0,100:0,50:0,20:0,10:0}\n",
    "        for i,j in self.d.items():\n",
    "            self.d[i]=self.totalamt//i\n",
    "            self.totalamt=self.totalamt-((self.totalamt//i)*i)\n",
    "        for i,j in self.d.items():\n",
    "            if j!=0:\n",
    "                print(\"No. of\",i,\"notes:\",j)\n",
    "\n",
    "class Cheque_Payment(Bill):\n",
    "    def __init__(self,CheckNumber,BankName):\n",
    "        print(\"CheckNumber:\",CheckNumber)\n",
    "        print(\"BankName:\",BankName)\n",
    "    \n",
    "b=Bill()"
   ]
  },
  {
   "cell_type": "code",
   "execution_count": null,
   "metadata": {},
   "outputs": [],
   "source": []
  }
 ],
 "metadata": {
  "kernelspec": {
   "display_name": "Python 3",
   "language": "python",
   "name": "python3"
  },
  "language_info": {
   "codemirror_mode": {
    "name": "ipython",
    "version": 3
   },
   "file_extension": ".py",
   "mimetype": "text/x-python",
   "name": "python",
   "nbconvert_exporter": "python",
   "pygments_lexer": "ipython3",
   "version": "3.8.5"
  }
 },
 "nbformat": 4,
 "nbformat_minor": 4
}
