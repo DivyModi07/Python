{
 "cells": [
  {
   "cell_type": "code",
   "execution_count": 6,
   "metadata": {},
   "outputs": [
    {
     "name": "stdout",
     "output_type": "stream",
     "text": [
      "Size of each element of list in bytes: 48\n",
      "Size of whole list in bytes: 48000\n",
      "Size of each element in numpy arrays in bytes: 4\n",
      "Size of whole numpy arange in bytes: 4000\n"
     ]
    }
   ],
   "source": [
    "# Numpy\n",
    "import numpy as np\n",
    "import sys\n",
    "\n",
    "s=range(1000)\n",
    "print(\"Size of each element of list in bytes:\",sys.getsizeof(s))\n",
    "print(\"Size of whole list in bytes:\",sys.getsizeof(s)*len(s))\n",
    "\n",
    "d=np.arange(1000)\n",
    "print(\"Size of each element in numpy arrays in bytes:\",d.itemsize)\n",
    "print(\"Size of whole numpy arange in bytes:\",d.itemsize*d.size)"
   ]
  },
  {
   "cell_type": "code",
   "execution_count": 25,
   "metadata": {},
   "outputs": [
    {
     "name": "stdout",
     "output_type": "stream",
     "text": [
      "42\n",
      "0\n",
      "<class 'numpy.ndarray'>\n",
      "[1 2 3 4]\n",
      "1\n",
      "<class 'numpy.ndarray'>\n",
      "[[1 2 3 4]\n",
      " [5 6 7 8]]\n",
      "2\n",
      "<class 'numpy.ndarray'>\n",
      "[[[ 1  2  3]\n",
      "  [ 4  5  6]]\n",
      "\n",
      " [[ 7  8  9]\n",
      "  [10 11 12]]]\n",
      "3\n",
      "<class 'numpy.ndarray'>\n",
      "[[[1 2 3]]]\n",
      "3\n",
      "<class 'numpy.ndarray'>\n"
     ]
    }
   ],
   "source": [
    "import numpy as np\n",
    "arr2=np.array(42)\n",
    "print(arr2)\n",
    "print(arr2.ndim)\n",
    "print(type(arr2))\n",
    "\n",
    "arr3=np.array([1,2,3,4])\n",
    "print(arr3)\n",
    "print(arr3.ndim)\n",
    "print(type(arr3))\n",
    "\n",
    "arr=np.array([[1,2,3,4],[5,6,7,8]])\n",
    "print(arr)\n",
    "print(arr.ndim)\n",
    "print(type(arr))\n",
    "\n",
    "arr1=np.array([[[1,2,3],[4,5,6]],[[7,8,9],[10,11,12]]])\n",
    "print(arr1)\n",
    "print(arr1.ndim)\n",
    "print(type(arr1))\n",
    "\n",
    "arr4=np.array([[[1,2,3]]])\n",
    "print(arr4)\n",
    "print(arr4.ndim)\n",
    "print(type(arr4))"
   ]
  },
  {
   "cell_type": "code",
   "execution_count": 31,
   "metadata": {},
   "outputs": [
    {
     "name": "stdout",
     "output_type": "stream",
     "text": [
      "1\n",
      "(5,)\n",
      "2\n",
      "(2, 4)\n",
      "3\n",
      "(2, 2, 3)\n",
      "2\n",
      "(4, 2)\n"
     ]
    }
   ],
   "source": [
    "# Shape\n",
    "import numpy as np\n",
    "arr1=np.array([1,2,3,4,5])\n",
    "arr2=np.array([[1,2,3,4],[6,7,8,9]])\n",
    "arr3=np.array([[[1,2,3],[4,5,6]],[[7,8,9],[10,11,12]]])\n",
    "arr4=np.array([[1,2],[1,2],[1,2],[1,2]])\n",
    "\n",
    "print(arr1.ndim)\n",
    "print(arr1.shape)\n",
    "\n",
    "print(arr2.ndim)\n",
    "print(arr2.shape)\n",
    "\n",
    "print(arr3.ndim)\n",
    "print(arr3.shape)\n",
    "\n",
    "print(arr4.ndim)\n",
    "print(arr4.shape)"
   ]
  },
  {
   "cell_type": "code",
   "execution_count": 34,
   "metadata": {},
   "outputs": [
    {
     "name": "stdout",
     "output_type": "stream",
     "text": [
      "5\n",
      "(1, 1, 1, 1, 5)\n"
     ]
    }
   ],
   "source": [
    "import numpy as np\n",
    "\n",
    "arr=np.array([1,2,3,4,5],ndmin=5)\n",
    "print(arr.ndim)\n",
    "print(arr.shape)"
   ]
  },
  {
   "cell_type": "code",
   "execution_count": 39,
   "metadata": {},
   "outputs": [
    {
     "name": "stdout",
     "output_type": "stream",
     "text": [
      "[[1 2 3]\n",
      " [4 5 6]]\n",
      "\n",
      "[[1 2]\n",
      " [3 4]\n",
      " [5 6]]\n",
      "\n",
      "[[1 2 3]\n",
      " [4 5 6]]\n",
      "\n",
      "[1 2 3 4 5 6]\n",
      "\n"
     ]
    }
   ],
   "source": [
    "# Reshape\n",
    "import numpy as np\n",
    "# arr1=np.array([1,2,3,4,5])   Error\n",
    "arr1=np.array([1,2,3,4,5,6])\n",
    "newarr=arr1.reshape(2,3)\n",
    "print(newarr)\n",
    "print()\n",
    "newarr=arr1.reshape(3,2)\n",
    "print(newarr)\n",
    "print()\n",
    "newarr=arr1.reshape(2,-1) # -1 will calculate it by its own\n",
    "print(newarr)\n",
    "print()\n",
    "newarr=arr1.reshape(2,-1).base\n",
    "print(newarr)\n",
    "print()"
   ]
  },
  {
   "cell_type": "code",
   "execution_count": 55,
   "metadata": {},
   "outputs": [
    {
     "name": "stdout",
     "output_type": "stream",
     "text": [
      "1\n",
      "2\n",
      "3\n",
      "4\n",
      "5\n",
      "1\n",
      "2\n",
      "3\n",
      "4\n",
      "5\n",
      "\n",
      "1\n",
      "2\n",
      "3\n",
      "4\n",
      "5\n",
      "1\n",
      "2\n",
      "3\n",
      "4\n",
      "5\n",
      "\n",
      "1\n",
      "3\n",
      "5\n"
     ]
    }
   ],
   "source": [
    "# Reshape\n",
    "import numpy as np\n",
    "\n",
    "arr=np.array([[1,2,3,4,5],[1,2,3,4,5]])\n",
    "for x in arr:\n",
    "    for y in x:\n",
    "        print(y)\n",
    "print()\n",
    "\n",
    "for x in np.nditer(arr):\n",
    "    print(x)\n",
    "print()\n",
    "for x in np.nditer(arr[0:1,::2]):\n",
    "    print(x)"
   ]
  },
  {
   "cell_type": "code",
   "execution_count": 66,
   "metadata": {},
   "outputs": [
    {
     "name": "stdout",
     "output_type": "stream",
     "text": [
      "[1 2 3 4 5 6 7 8 9]\n",
      "[1 2 3 4 5 6 7 8 9]\n",
      "[[1 2]\n",
      " [3 4]\n",
      " [5 6]\n",
      " [7 8]]\n",
      "[[1 2]\n",
      " [3 4]\n",
      " [5 6]\n",
      " [7 8]]\n",
      "[[1 2 5 6]\n",
      " [3 4 7 8]]\n"
     ]
    }
   ],
   "source": [
    "# concatenate\n",
    "import numpy as np\n",
    "arr1=np.array([1,2,3])\n",
    "arr2=np.array([4,5,6])\n",
    "arr3=np.array([7,8,9])\n",
    "arr=np.concatenate((arr1,arr2,arr3))\n",
    "print(arr)\n",
    "arr=np.concatenate((arr1,arr2,arr3),axis=0)\n",
    "print(arr)\n",
    "\n",
    "arr4=np.array([[1,2],[3,4]])\n",
    "arr5=np.array([[5,6],[7,8]])\n",
    "arr6=np.concatenate((arr4,arr5))\n",
    "print(arr6)\n",
    "arr6=np.concatenate((arr4,arr5),axis=0)\n",
    "print(arr6)\n",
    "arr6=np.concatenate((arr4,arr5),axis=1)\n",
    "print(arr6)"
   ]
  },
  {
   "cell_type": "code",
   "execution_count": 82,
   "metadata": {},
   "outputs": [
    {
     "name": "stdout",
     "output_type": "stream",
     "text": [
      "[array([1, 2, 3]), array([4, 5]), array([6, 7]), array([8, 9])]\n",
      "[array([[1],\n",
      "       [3],\n",
      "       [5],\n",
      "       [7]]), array([[2],\n",
      "       [4],\n",
      "       [6],\n",
      "       [8]]), array([], shape=(4, 0), dtype=int32), array([], shape=(4, 0), dtype=int32)]\n"
     ]
    }
   ],
   "source": [
    "# Split\n",
    "\n",
    "import numpy as np\n",
    "arr=np.array([1,2,3,4,5,6,7,8,9])\n",
    "newarr=np.array_split(arr,4)\n",
    "print(newarr)\n",
    "\n",
    "arr1=np.array([[1,2],[3,4],[5,6],[7,8]])\n",
    "newarr1=np.array_split(arr1,4,axis=1)\n",
    "print(newarr1)"
   ]
  },
  {
   "cell_type": "code",
   "execution_count": 86,
   "metadata": {},
   "outputs": [
    {
     "name": "stdout",
     "output_type": "stream",
     "text": [
      "(array([3, 6], dtype=int64),)\n",
      "(array([1, 3, 5, 6], dtype=int64),)\n",
      "(array([1, 2], dtype=int64), array([1, 0], dtype=int64))\n"
     ]
    }
   ],
   "source": [
    "# Where\n",
    "\n",
    "import numpy as np\n",
    "arr=np.array([1,2,3,4,5,6,4])\n",
    "x=np.where(arr==4)\n",
    "print(x)\n",
    "y=np.where(arr%2==0)\n",
    "print(y) # its giving index not number.\n",
    "\n",
    "# Doubt\n",
    "arr1=np.array([[1,2],[3,4],[4,5],[7,8]])\n",
    "x=np.where(arr1==4)\n",
    "print(x)"
   ]
  }
 ],
 "metadata": {
  "kernelspec": {
   "display_name": "Python 3",
   "language": "python",
   "name": "python3"
  },
  "language_info": {
   "codemirror_mode": {
    "name": "ipython",
    "version": 3
   },
   "file_extension": ".py",
   "mimetype": "text/x-python",
   "name": "python",
   "nbconvert_exporter": "python",
   "pygments_lexer": "ipython3",
   "version": "3.8.5"
  }
 },
 "nbformat": 4,
 "nbformat_minor": 4
}
